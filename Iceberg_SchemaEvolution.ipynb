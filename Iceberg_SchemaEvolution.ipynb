{
 "cells": [
  {
   "cell_type": "code",
   "execution_count": 1,
   "id": "d217b6da-bf28-4a79-971e-958c53aa0230",
   "metadata": {},
   "outputs": [
    {
     "data": {
      "text/plain": [
       "Intitializing Scala interpreter ..."
      ]
     },
     "metadata": {},
     "output_type": "display_data"
    },
    {
     "data": {
      "text/plain": [
       "Spark Web UI available at http://bc18817f1332:4045\n",
       "SparkContext available as 'sc' (version = 3.5.1, master = local[*], app id = local-1720470742517)\n",
       "SparkSession available as 'spark'\n"
      ]
     },
     "metadata": {},
     "output_type": "display_data"
    },
    {
     "data": {
      "text/plain": [
       "res0: org.apache.spark.sql.DataFrame = []\n"
      ]
     },
     "execution_count": 1,
     "metadata": {},
     "output_type": "execute_result"
    }
   ],
   "source": [
    "spark.sql(\"Drop Table icecatalog.mydb.meteorites\")"
   ]
  },
  {
   "cell_type": "markdown",
   "id": "bdc48d35-9b9c-4596-b87c-189edce771fd",
   "metadata": {},
   "source": [
    "## ICEBERG - SCHEMA EVOLUTION\n",
    "## Objective: To test the schema evolution by adding, updating, deleting columns, and changing the datatype of columns \n",
    "## Dataset format: This nested JSON dataset is about meteorite landing which is downloaded from the public source mentioned below\n",
    "## Dataset Source: https://catalog.data.gov/dataset/"
   ]
  },
  {
   "cell_type": "markdown",
   "id": "297208f6-3d35-4615-b8e3-4ffd099e4ad0",
   "metadata": {},
   "source": [
    "## 1.1 Configure Spark Iceberg Runtime package and other settings"
   ]
  },
  {
   "cell_type": "code",
   "execution_count": 2,
   "id": "ca73849d-b938-4f22-8048-f8c3502648d5",
   "metadata": {},
   "outputs": [
    {
     "ename": "org.apache.spark.sql.AnalysisException",
     "evalue": " Cannot modify the value of a static config: spark.sql.extensions.",
     "output_type": "error",
     "traceback": [
      "org.apache.spark.sql.AnalysisException: Cannot modify the value of a static config: spark.sql.extensions.",
      "  at org.apache.spark.sql.errors.QueryCompilationErrors$.cannotModifyValueOfStaticConfigError(QueryCompilationErrors.scala:3179)",
      "  at org.apache.spark.sql.RuntimeConfig.requireNonStaticConf(RuntimeConfig.scala:162)",
      "  at org.apache.spark.sql.RuntimeConfig.set(RuntimeConfig.scala:42)",
      "  ... 38 elided",
      ""
     ]
    }
   ],
   "source": [
    "spark.conf.set(\"spark-sql.packages\", \"org.apache.iceberg:iceberg-spark-runtime-3.5_2.12:1.5.2\")\n",
    "spark.conf.set(\"spark.sql.extensions\", \"org.apache.iceberg.spark.extensions.IcebergSparkSessionExtensions\")\n",
    "spark.conf.set(\"spark.sql.catalog.mycatalog\", \"org.apache.iceberg.spark.SparkSessionCatalog\")\n",
    "spark.conf.set(\"spark.sql.catalog.mycatalog.type\", \"Hadoop\")"
   ]
  },
  {
   "cell_type": "markdown",
   "id": "6928c58d-e221-4d2b-849a-e95442f81720",
   "metadata": {},
   "source": [
    "##packages that need to be downloaded and used during the Spark session\n",
    "spark.conf.set(\"spark-sql.packages\", \"org.apache.iceberg:iceberg-spark-runtime-3.5_2.12:1.5.2\")\n",
    "\n",
    "##This specifies any extensions to SQL that should be present in the Spark session\n",
    "spark.conf.set(\"spark.sql.extensions\", \"org.apache.iceberg.spark.extensions.IcebergSparkSessionExtensions\")\n",
    "\n",
    "##The settings below are to configure your specific catalog, which can be under a namespace of your choosing eg:here it is spark_catalog\n",
    "##This specifies that this specific catalog is using the Apache Iceberg Spark Catalog class.\n",
    "spark.conf.set(\"spark.sql.catalog.mycatalog\", \"org.apache.iceberg.spark.SparkSessionCatalog\")\n",
    "\n",
    "##This setting is used to set the type of catalog you are using, and possible values include:Hadoop (if using HDFS/File System Catalog) , Hive\n",
    "spark.conf.set(\"spark.sql.catalog.mycatalog.type\", \"Hadoop\")"
   ]
  },
  {
   "cell_type": "markdown",
   "id": "44e43286-a5f9-455c-af9d-32c542f47916",
   "metadata": {},
   "source": [
    "## 1.2 The spark.sql.extensions might show an error that \"Cannot modify the value of a static config: spark.sql.extensions\" \n",
    "## which means it's not set, However when its value is checked Using getter configuration, it displays the value as set above \n",
    "## i.e. IcebergSparkSessionExtensions"
   ]
  },
  {
   "cell_type": "code",
   "execution_count": 3,
   "id": "010b0861-bfca-43ed-9e61-ce2738f59e5a",
   "metadata": {},
   "outputs": [
    {
     "data": {
      "text/plain": [
       "res2: String = org.apache.iceberg.spark.extensions.IcebergSparkSessionExtensions\n"
      ]
     },
     "execution_count": 3,
     "metadata": {},
     "output_type": "execute_result"
    }
   ],
   "source": [
    "spark.conf.get(\"spark.sql.extensions\")"
   ]
  },
  {
   "cell_type": "markdown",
   "id": "885bc0ab-14f6-4668-8f08-f9b6b4171c6f",
   "metadata": {},
   "source": [
    "## 2.0 Read the nested json dataset and verify its schema"
   ]
  },
  {
   "cell_type": "code",
   "execution_count": 4,
   "id": "f3d14f5f-ae07-46db-91e4-7341e37ca3fe",
   "metadata": {},
   "outputs": [
    {
     "data": {
      "text/plain": [
       "jsonDF: org.apache.spark.sql.DataFrame = [data: array<array<string>>, meta: struct<view: struct<approvals: array<struct<reviewedAt:bigint,reviewedAutomatically:boolean,state:string,submissionDetails:struct<permissionType:string>,submissionId:bigint,submissionObject:string,submissionOutcome:string,submissionOutcomeApplication:struct<failureCount:bigint,status:string>,submittedAt:bigint,submitter:struct<displayName:string,id:string>,targetAudience:string,workflowId:bigint>>, assetType: string ... 38 more fields>>]\n"
      ]
     },
     "execution_count": 4,
     "metadata": {},
     "output_type": "execute_result"
    }
   ],
   "source": [
    "val jsonDF =  spark.read.option(\"multiline\", \"true\").json(\"./Data/Json/meteorite_landing.json\")"
   ]
  },
  {
   "cell_type": "code",
   "execution_count": 5,
   "id": "b9320a79-8a8d-4fdb-9255-b34332915659",
   "metadata": {},
   "outputs": [
    {
     "name": "stdout",
     "output_type": "stream",
     "text": [
      "root\n",
      " |-- data: array (nullable = true)\n",
      " |    |-- element: array (containsNull = true)\n",
      " |    |    |-- element: string (containsNull = true)\n",
      " |-- meta: struct (nullable = true)\n",
      " |    |-- view: struct (nullable = true)\n",
      " |    |    |-- approvals: array (nullable = true)\n",
      " |    |    |    |-- element: struct (containsNull = true)\n",
      " |    |    |    |    |-- reviewedAt: long (nullable = true)\n",
      " |    |    |    |    |-- reviewedAutomatically: boolean (nullable = true)\n",
      " |    |    |    |    |-- state: string (nullable = true)\n",
      " |    |    |    |    |-- submissionDetails: struct (nullable = true)\n",
      " |    |    |    |    |    |-- permissionType: string (nullable = true)\n",
      " |    |    |    |    |-- submissionId: long (nullable = true)\n",
      " |    |    |    |    |-- submissionObject: string (nullable = true)\n",
      " |    |    |    |    |-- submissionOutcome: string (nullable = true)\n",
      " |    |    |    |    |-- submissionOutcomeApplication: struct (nullable = true)\n",
      " |    |    |    |    |    |-- failureCount: long (nullable = true)\n",
      " |    |    |    |    |    |-- status: string (nullable = true)\n",
      " |    |    |    |    |-- submittedAt: long (nullable = true)\n",
      " |    |    |    |    |-- submitter: struct (nullable = true)\n",
      " |    |    |    |    |    |-- displayName: string (nullable = true)\n",
      " |    |    |    |    |    |-- id: string (nullable = true)\n",
      " |    |    |    |    |-- targetAudience: string (nullable = true)\n",
      " |    |    |    |    |-- workflowId: long (nullable = true)\n",
      " |    |    |-- assetType: string (nullable = true)\n",
      " |    |    |-- attributionLink: string (nullable = true)\n",
      " |    |    |-- averageRating: long (nullable = true)\n",
      " |    |    |-- category: string (nullable = true)\n",
      " |    |    |-- clientContext: struct (nullable = true)\n",
      " |    |    |    |-- clientContextVariables: array (nullable = true)\n",
      " |    |    |    |    |-- element: string (containsNull = true)\n",
      " |    |    |-- columns: array (nullable = true)\n",
      " |    |    |    |-- element: struct (containsNull = true)\n",
      " |    |    |    |    |-- cachedContents: struct (nullable = true)\n",
      " |    |    |    |    |    |-- average: string (nullable = true)\n",
      " |    |    |    |    |    |-- cardinality: string (nullable = true)\n",
      " |    |    |    |    |    |-- count: string (nullable = true)\n",
      " |    |    |    |    |    |-- largest: string (nullable = true)\n",
      " |    |    |    |    |    |-- non_null: string (nullable = true)\n",
      " |    |    |    |    |    |-- null: string (nullable = true)\n",
      " |    |    |    |    |    |-- smallest: string (nullable = true)\n",
      " |    |    |    |    |    |-- sum: string (nullable = true)\n",
      " |    |    |    |    |    |-- top: array (nullable = true)\n",
      " |    |    |    |    |    |    |-- element: struct (containsNull = true)\n",
      " |    |    |    |    |    |    |    |-- count: string (nullable = true)\n",
      " |    |    |    |    |    |    |    |-- item: string (nullable = true)\n",
      " |    |    |    |    |-- computationStrategy: struct (nullable = true)\n",
      " |    |    |    |    |    |-- parameters: struct (nullable = true)\n",
      " |    |    |    |    |    |    |-- primary_key: string (nullable = true)\n",
      " |    |    |    |    |    |    |-- region: string (nullable = true)\n",
      " |    |    |    |    |    |-- source_columns: array (nullable = true)\n",
      " |    |    |    |    |    |    |-- element: string (containsNull = true)\n",
      " |    |    |    |    |    |-- type: string (nullable = true)\n",
      " |    |    |    |    |-- dataTypeName: string (nullable = true)\n",
      " |    |    |    |    |-- description: string (nullable = true)\n",
      " |    |    |    |    |-- fieldName: string (nullable = true)\n",
      " |    |    |    |    |-- flags: array (nullable = true)\n",
      " |    |    |    |    |    |-- element: string (containsNull = true)\n",
      " |    |    |    |    |-- format: struct (nullable = true)\n",
      " |    |    |    |    |    |-- align: string (nullable = true)\n",
      " |    |    |    |    |    |-- noCommas: string (nullable = true)\n",
      " |    |    |    |    |    |-- precisionStyle: string (nullable = true)\n",
      " |    |    |    |    |    |-- view: string (nullable = true)\n",
      " |    |    |    |    |-- id: long (nullable = true)\n",
      " |    |    |    |    |-- name: string (nullable = true)\n",
      " |    |    |    |    |-- position: long (nullable = true)\n",
      " |    |    |    |    |-- renderTypeName: string (nullable = true)\n",
      " |    |    |    |    |-- tableColumnId: long (nullable = true)\n",
      " |    |    |    |    |-- width: long (nullable = true)\n",
      " |    |    |-- createdAt: long (nullable = true)\n",
      " |    |    |-- description: string (nullable = true)\n",
      " |    |    |-- displayType: string (nullable = true)\n",
      " |    |    |-- downloadCount: long (nullable = true)\n",
      " |    |    |-- flags: array (nullable = true)\n",
      " |    |    |    |-- element: string (containsNull = true)\n",
      " |    |    |-- grants: array (nullable = true)\n",
      " |    |    |    |-- element: struct (containsNull = true)\n",
      " |    |    |    |    |-- flags: array (nullable = true)\n",
      " |    |    |    |    |    |-- element: string (containsNull = true)\n",
      " |    |    |    |    |-- inherited: boolean (nullable = true)\n",
      " |    |    |    |    |-- type: string (nullable = true)\n",
      " |    |    |-- hideFromCatalog: boolean (nullable = true)\n",
      " |    |    |-- hideFromDataJson: boolean (nullable = true)\n",
      " |    |    |-- id: string (nullable = true)\n",
      " |    |    |-- indexUpdatedAt: long (nullable = true)\n",
      " |    |    |-- locked: boolean (nullable = true)\n",
      " |    |    |-- metadata: struct (nullable = true)\n",
      " |    |    |    |-- custom_fields: struct (nullable = true)\n",
      " |    |    |    |    |-- Common Core: struct (nullable = true)\n",
      " |    |    |    |    |    |-- Bureau Code: array (nullable = true)\n",
      " |    |    |    |    |    |    |-- element: string (containsNull = true)\n",
      " |    |    |    |    |    |-- Program Code: string (nullable = true)\n",
      " |    |    |    |-- rdfClass: string (nullable = true)\n",
      " |    |    |    |-- rdfSubject: string (nullable = true)\n",
      " |    |    |    |-- rowIdentifier: string (nullable = true)\n",
      " |    |    |    |-- rowLabel: string (nullable = true)\n",
      " |    |    |-- name: string (nullable = true)\n",
      " |    |    |-- newBackend: boolean (nullable = true)\n",
      " |    |    |-- numberOfComments: long (nullable = true)\n",
      " |    |    |-- oid: long (nullable = true)\n",
      " |    |    |-- owner: struct (nullable = true)\n",
      " |    |    |    |-- displayName: string (nullable = true)\n",
      " |    |    |    |-- flags: array (nullable = true)\n",
      " |    |    |    |    |-- element: string (containsNull = true)\n",
      " |    |    |    |-- id: string (nullable = true)\n",
      " |    |    |    |-- profileImageUrlLarge: string (nullable = true)\n",
      " |    |    |    |-- profileImageUrlMedium: string (nullable = true)\n",
      " |    |    |    |-- profileImageUrlSmall: string (nullable = true)\n",
      " |    |    |    |-- screenName: string (nullable = true)\n",
      " |    |    |    |-- type: string (nullable = true)\n",
      " |    |    |-- provenance: string (nullable = true)\n",
      " |    |    |-- publicationAppendEnabled: boolean (nullable = true)\n",
      " |    |    |-- publicationDate: long (nullable = true)\n",
      " |    |    |-- publicationGroup: long (nullable = true)\n",
      " |    |    |-- publicationStage: string (nullable = true)\n",
      " |    |    |-- rights: array (nullable = true)\n",
      " |    |    |    |-- element: string (containsNull = true)\n",
      " |    |    |-- rowClass: string (nullable = true)\n",
      " |    |    |-- rowsUpdatedAt: long (nullable = true)\n",
      " |    |    |-- rowsUpdatedBy: string (nullable = true)\n",
      " |    |    |-- tableAuthor: struct (nullable = true)\n",
      " |    |    |    |-- displayName: string (nullable = true)\n",
      " |    |    |    |-- flags: array (nullable = true)\n",
      " |    |    |    |    |-- element: string (containsNull = true)\n",
      " |    |    |    |-- id: string (nullable = true)\n",
      " |    |    |    |-- profileImageUrlLarge: string (nullable = true)\n",
      " |    |    |    |-- profileImageUrlMedium: string (nullable = true)\n",
      " |    |    |    |-- profileImageUrlSmall: string (nullable = true)\n",
      " |    |    |    |-- screenName: string (nullable = true)\n",
      " |    |    |    |-- type: string (nullable = true)\n",
      " |    |    |-- tableId: long (nullable = true)\n",
      " |    |    |-- tags: array (nullable = true)\n",
      " |    |    |    |-- element: string (containsNull = true)\n",
      " |    |    |-- totalTimesRated: long (nullable = true)\n",
      " |    |    |-- viewCount: long (nullable = true)\n",
      " |    |    |-- viewLastModified: long (nullable = true)\n",
      " |    |    |-- viewType: string (nullable = true)\n",
      "\n"
     ]
    }
   ],
   "source": [
    "jsonDF.printSchema"
   ]
  },
  {
   "cell_type": "markdown",
   "id": "98a2d49c-7aea-4122-9119-e58e6290fc82",
   "metadata": {},
   "source": [
    "## source: https://stackoverflow.com/questions/61863489/flatten-nested-json-in-scala-spark-dataframe/61863579#61863579\n",
    "## 2.1 The dynamic code in scala is referred from the above source where it explodes the nested JSON \n",
    "## into individual columns, since all of these are not arrays we cannot use the explode function and also it will make \n",
    "## more cumbersome to process individual columns. The below code dynamically splits arrays, structs type into individual columns\n",
    "## keeping its hierarchy intact, For eg if c is the nested child of b which is a child of an i.e. a.b.c, the code will split it as an a_b_c column \n",
    "## This will also prevent duplicating columns in case nested JSON has the same property name because its \n",
    "## specific hierarchy will be attached to its name now"
   ]
  },
  {
   "cell_type": "code",
   "execution_count": 3,
   "id": "24830e28-8d1b-4e0e-bdcf-a25011b69b40",
   "metadata": {},
   "outputs": [
    {
     "data": {
      "text/plain": [
       "import org.apache.spark.sql.{DataFrame, SparkSession}\n",
       "import org.apache.spark.sql.functions._\n",
       "import org.apache.spark.sql.types._\n",
       "import scala.annotation.tailrec\n",
       "import scala.util.Try\n",
       "defined class DFHelpers\n"
      ]
     },
     "execution_count": 3,
     "metadata": {},
     "output_type": "execute_result"
    }
   ],
   "source": [
    "import org.apache.spark.sql.{DataFrame, SparkSession}\n",
    "import org.apache.spark.sql.functions._\n",
    "import org.apache.spark.sql.types._\n",
    "import scala.annotation.tailrec\n",
    "import scala.util.Try\n",
    "\n",
    "implicit class DFHelpers(df: DataFrame) {\n",
    "    def columns = {\n",
    "      val dfColumns = df.columns.map(_.toLowerCase)\n",
    "      df.schema.fields.flatMap { data =>\n",
    "        data match {\n",
    "          case column if column.dataType.isInstanceOf[StructType] => {\n",
    "            column.dataType.asInstanceOf[StructType].fields.map { field =>\n",
    "              val columnName = column.name\n",
    "              val fieldName = field.name\n",
    "              col(s\"${columnName}.${fieldName}\").as(s\"${columnName}_${fieldName}\")\n",
    "            }.toList\n",
    "          }\n",
    "          case column => List(col(s\"${column.name}\"))\n",
    "        }\n",
    "      }\n",
    "    }\n",
    "\n",
    "    def flatten: DataFrame = {\n",
    "      val empty = df.schema.filter(_.dataType.isInstanceOf[StructType]).isEmpty\n",
    "      empty match {\n",
    "        case false =>\n",
    "          df.select(columns: _*).flatten\n",
    "        case _ => df\n",
    "      }\n",
    "    }\n",
    "    def explodeColumns = {\n",
    "      @tailrec\n",
    "      def columns(cdf: DataFrame):DataFrame = cdf.schema.fields.filter(_.dataType.typeName == \"array\") match {\n",
    "        case c if !c.isEmpty => columns(c.foldLeft(cdf)((dfa,field) => {\n",
    "          dfa.withColumn(field.name,explode_outer(col(s\"${field.name}\"))).flatten\n",
    "        }))\n",
    "        case _ => cdf\n",
    "      }\n",
    "      columns(df.flatten)\n",
    "    }\n",
    "}\n",
    "\n"
   ]
  },
  {
   "cell_type": "markdown",
   "id": "651e505c-3c7e-481d-b11d-138186ca18c3",
   "metadata": {},
   "source": [
    "## 2.2 Call the above function with the dataframe variable"
   ]
  },
  {
   "cell_type": "code",
   "execution_count": 7,
   "id": "8197fc02-4c7e-49d7-8fc1-da458dabf717",
   "metadata": {},
   "outputs": [
    {
     "data": {
      "text/plain": [
       "flattenedJsonDF: org.apache.spark.sql.DataFrame = [data: string, meta_view_approvals_reviewedAt: bigint ... 100 more fields]\n"
      ]
     },
     "execution_count": 7,
     "metadata": {},
     "output_type": "execute_result"
    }
   ],
   "source": [
    "val flattenedJsonDF = jsonDF.explodeColumns"
   ]
  },
  {
   "cell_type": "markdown",
   "id": "67b2c2fd-1278-4efd-8fd9-e2817ea5541f",
   "metadata": {},
   "source": [
    "## 2.3 Verifying the schema after the function is run. It maintained the hierarchy by separating the \n",
    "## names with underscore symbole ('-') between each data column. \n",
    "## This will also prevent duplicating columns in case nested json has the same property name because its \n",
    "## specific hierarchy will be attached to its name now.\n",
    "##  For eg: the property 'flags' are now prefixed with its hierarchy meta_view_flags, meta_view_owner_flags, meta_view_columns_flags"
   ]
  },
  {
   "cell_type": "code",
   "execution_count": 8,
   "id": "f7d2868e-2488-4481-bc62-9c7e1afe63c1",
   "metadata": {},
   "outputs": [
    {
     "name": "stdout",
     "output_type": "stream",
     "text": [
      "root\n",
      " |-- data: string (nullable = true)\n",
      " |-- meta_view_approvals_reviewedAt: long (nullable = true)\n",
      " |-- meta_view_approvals_reviewedAutomatically: boolean (nullable = true)\n",
      " |-- meta_view_approvals_state: string (nullable = true)\n",
      " |-- meta_view_approvals_submissionDetails_permissionType: string (nullable = true)\n",
      " |-- meta_view_approvals_submissionId: long (nullable = true)\n",
      " |-- meta_view_approvals_submissionObject: string (nullable = true)\n",
      " |-- meta_view_approvals_submissionOutcome: string (nullable = true)\n",
      " |-- meta_view_approvals_submissionOutcomeApplication_failureCount: long (nullable = true)\n",
      " |-- meta_view_approvals_submissionOutcomeApplication_status: string (nullable = true)\n",
      " |-- meta_view_approvals_submittedAt: long (nullable = true)\n",
      " |-- meta_view_approvals_submitter_displayName: string (nullable = true)\n",
      " |-- meta_view_approvals_submitter_id: string (nullable = true)\n",
      " |-- meta_view_approvals_targetAudience: string (nullable = true)\n",
      " |-- meta_view_approvals_workflowId: long (nullable = true)\n",
      " |-- meta_view_assetType: string (nullable = true)\n",
      " |-- meta_view_attributionLink: string (nullable = true)\n",
      " |-- meta_view_averageRating: long (nullable = true)\n",
      " |-- meta_view_category: string (nullable = true)\n",
      " |-- meta_view_clientContext_clientContextVariables: string (nullable = true)\n",
      " |-- meta_view_columns_cachedContents_average: string (nullable = true)\n",
      " |-- meta_view_columns_cachedContents_cardinality: string (nullable = true)\n",
      " |-- meta_view_columns_cachedContents_count: string (nullable = true)\n",
      " |-- meta_view_columns_cachedContents_largest: string (nullable = true)\n",
      " |-- meta_view_columns_cachedContents_non_null: string (nullable = true)\n",
      " |-- meta_view_columns_cachedContents_null: string (nullable = true)\n",
      " |-- meta_view_columns_cachedContents_smallest: string (nullable = true)\n",
      " |-- meta_view_columns_cachedContents_sum: string (nullable = true)\n",
      " |-- meta_view_columns_cachedContents_top_count: string (nullable = true)\n",
      " |-- meta_view_columns_cachedContents_top_item: string (nullable = true)\n",
      " |-- meta_view_columns_computationStrategy_parameters_primary_key: string (nullable = true)\n",
      " |-- meta_view_columns_computationStrategy_parameters_region: string (nullable = true)\n",
      " |-- meta_view_columns_computationStrategy_source_columns: string (nullable = true)\n",
      " |-- meta_view_columns_computationStrategy_type: string (nullable = true)\n",
      " |-- meta_view_columns_dataTypeName: string (nullable = true)\n",
      " |-- meta_view_columns_description: string (nullable = true)\n",
      " |-- meta_view_columns_fieldName: string (nullable = true)\n",
      " |-- meta_view_columns_flags: string (nullable = true)\n",
      " |-- meta_view_columns_format_align: string (nullable = true)\n",
      " |-- meta_view_columns_format_noCommas: string (nullable = true)\n",
      " |-- meta_view_columns_format_precisionStyle: string (nullable = true)\n",
      " |-- meta_view_columns_format_view: string (nullable = true)\n",
      " |-- meta_view_columns_id: long (nullable = true)\n",
      " |-- meta_view_columns_name: string (nullable = true)\n",
      " |-- meta_view_columns_position: long (nullable = true)\n",
      " |-- meta_view_columns_renderTypeName: string (nullable = true)\n",
      " |-- meta_view_columns_tableColumnId: long (nullable = true)\n",
      " |-- meta_view_columns_width: long (nullable = true)\n",
      " |-- meta_view_createdAt: long (nullable = true)\n",
      " |-- meta_view_description: string (nullable = true)\n",
      " |-- meta_view_displayType: string (nullable = true)\n",
      " |-- meta_view_downloadCount: long (nullable = true)\n",
      " |-- meta_view_flags: string (nullable = true)\n",
      " |-- meta_view_grants_flags: string (nullable = true)\n",
      " |-- meta_view_grants_inherited: boolean (nullable = true)\n",
      " |-- meta_view_grants_type: string (nullable = true)\n",
      " |-- meta_view_hideFromCatalog: boolean (nullable = true)\n",
      " |-- meta_view_hideFromDataJson: boolean (nullable = true)\n",
      " |-- meta_view_id: string (nullable = true)\n",
      " |-- meta_view_indexUpdatedAt: long (nullable = true)\n",
      " |-- meta_view_locked: boolean (nullable = true)\n",
      " |-- meta_view_metadata_custom_fields_Common Core_Bureau Code: string (nullable = true)\n",
      " |-- meta_view_metadata_custom_fields_Common Core_Program Code: string (nullable = true)\n",
      " |-- meta_view_metadata_rdfClass: string (nullable = true)\n",
      " |-- meta_view_metadata_rdfSubject: string (nullable = true)\n",
      " |-- meta_view_metadata_rowIdentifier: string (nullable = true)\n",
      " |-- meta_view_metadata_rowLabel: string (nullable = true)\n",
      " |-- meta_view_name: string (nullable = true)\n",
      " |-- meta_view_newBackend: boolean (nullable = true)\n",
      " |-- meta_view_numberOfComments: long (nullable = true)\n",
      " |-- meta_view_oid: long (nullable = true)\n",
      " |-- meta_view_owner_displayName: string (nullable = true)\n",
      " |-- meta_view_owner_flags: string (nullable = true)\n",
      " |-- meta_view_owner_id: string (nullable = true)\n",
      " |-- meta_view_owner_profileImageUrlLarge: string (nullable = true)\n",
      " |-- meta_view_owner_profileImageUrlMedium: string (nullable = true)\n",
      " |-- meta_view_owner_profileImageUrlSmall: string (nullable = true)\n",
      " |-- meta_view_owner_screenName: string (nullable = true)\n",
      " |-- meta_view_owner_type: string (nullable = true)\n",
      " |-- meta_view_provenance: string (nullable = true)\n",
      " |-- meta_view_publicationAppendEnabled: boolean (nullable = true)\n",
      " |-- meta_view_publicationDate: long (nullable = true)\n",
      " |-- meta_view_publicationGroup: long (nullable = true)\n",
      " |-- meta_view_publicationStage: string (nullable = true)\n",
      " |-- meta_view_rights: string (nullable = true)\n",
      " |-- meta_view_rowClass: string (nullable = true)\n",
      " |-- meta_view_rowsUpdatedAt: long (nullable = true)\n",
      " |-- meta_view_rowsUpdatedBy: string (nullable = true)\n",
      " |-- meta_view_tableAuthor_displayName: string (nullable = true)\n",
      " |-- meta_view_tableAuthor_flags: string (nullable = true)\n",
      " |-- meta_view_tableAuthor_id: string (nullable = true)\n",
      " |-- meta_view_tableAuthor_profileImageUrlLarge: string (nullable = true)\n",
      " |-- meta_view_tableAuthor_profileImageUrlMedium: string (nullable = true)\n",
      " |-- meta_view_tableAuthor_profileImageUrlSmall: string (nullable = true)\n",
      " |-- meta_view_tableAuthor_screenName: string (nullable = true)\n",
      " |-- meta_view_tableAuthor_type: string (nullable = true)\n",
      " |-- meta_view_tableId: long (nullable = true)\n",
      " |-- meta_view_tags: string (nullable = true)\n",
      " |-- meta_view_totalTimesRated: long (nullable = true)\n",
      " |-- meta_view_viewCount: long (nullable = true)\n",
      " |-- meta_view_viewLastModified: long (nullable = true)\n",
      " |-- meta_view_viewType: string (nullable = true)\n",
      "\n"
     ]
    }
   ],
   "source": [
    "flattenedJsonDF.printSchema"
   ]
  },
  {
   "cell_type": "code",
   "execution_count": 9,
   "id": "b390ea0e-9172-4057-a2bc-6ea1a1541e76",
   "metadata": {},
   "outputs": [
    {
     "name": "stdout",
     "output_type": "stream",
     "text": [
      "+--------------------+------------------------------+-----------------------------------------+-------------------------+----------------------------------------------------+--------------------------------+------------------------------------+-------------------------------------+-------------------------------------------------------------+-------------------------------------------------------+-------------------------------+-----------------------------------------+--------------------------------+----------------------------------+------------------------------+-------------------+-------------------------+-----------------------+------------------+----------------------------------------------+----------------------------------------+--------------------------------------------+--------------------------------------+----------------------------------------+-----------------------------------------+-------------------------------------+-----------------------------------------+------------------------------------+------------------------------------------+-----------------------------------------+------------------------------------------------------------+-------------------------------------------------------+----------------------------------------------------+------------------------------------------+------------------------------+-----------------------------+---------------------------+-----------------------+------------------------------+---------------------------------+---------------------------------------+-----------------------------+--------------------+----------------------+--------------------------+--------------------------------+-------------------------------+-----------------------+-------------------+---------------------+---------------------+-----------------------+---------------+----------------------+--------------------------+---------------------+-------------------------+--------------------------+------------+------------------------+----------------+--------------------------------------------------------+---------------------------------------------------------+---------------------------+-----------------------------+--------------------------------+---------------------------+------------------+--------------------+--------------------------+-------------+---------------------------+---------------------+------------------+------------------------------------+-------------------------------------+------------------------------------+--------------------------+--------------------+--------------------+----------------------------------+-------------------------+--------------------------+--------------------------+----------------+------------------+-----------------------+-----------------------+---------------------------------+---------------------------+------------------------+------------------------------------------+-------------------------------------------+------------------------------------------+--------------------------------+--------------------------+-----------------+--------------+-------------------------+-------------------+--------------------------+------------------+\n",
      "|                data|meta_view_approvals_reviewedAt|meta_view_approvals_reviewedAutomatically|meta_view_approvals_state|meta_view_approvals_submissionDetails_permissionType|meta_view_approvals_submissionId|meta_view_approvals_submissionObject|meta_view_approvals_submissionOutcome|meta_view_approvals_submissionOutcomeApplication_failureCount|meta_view_approvals_submissionOutcomeApplication_status|meta_view_approvals_submittedAt|meta_view_approvals_submitter_displayName|meta_view_approvals_submitter_id|meta_view_approvals_targetAudience|meta_view_approvals_workflowId|meta_view_assetType|meta_view_attributionLink|meta_view_averageRating|meta_view_category|meta_view_clientContext_clientContextVariables|meta_view_columns_cachedContents_average|meta_view_columns_cachedContents_cardinality|meta_view_columns_cachedContents_count|meta_view_columns_cachedContents_largest|meta_view_columns_cachedContents_non_null|meta_view_columns_cachedContents_null|meta_view_columns_cachedContents_smallest|meta_view_columns_cachedContents_sum|meta_view_columns_cachedContents_top_count|meta_view_columns_cachedContents_top_item|meta_view_columns_computationStrategy_parameters_primary_key|meta_view_columns_computationStrategy_parameters_region|meta_view_columns_computationStrategy_source_columns|meta_view_columns_computationStrategy_type|meta_view_columns_dataTypeName|meta_view_columns_description|meta_view_columns_fieldName|meta_view_columns_flags|meta_view_columns_format_align|meta_view_columns_format_noCommas|meta_view_columns_format_precisionStyle|meta_view_columns_format_view|meta_view_columns_id|meta_view_columns_name|meta_view_columns_position|meta_view_columns_renderTypeName|meta_view_columns_tableColumnId|meta_view_columns_width|meta_view_createdAt|meta_view_description|meta_view_displayType|meta_view_downloadCount|meta_view_flags|meta_view_grants_flags|meta_view_grants_inherited|meta_view_grants_type|meta_view_hideFromCatalog|meta_view_hideFromDataJson|meta_view_id|meta_view_indexUpdatedAt|meta_view_locked|meta_view_metadata_custom_fields_Common Core_Bureau Code|meta_view_metadata_custom_fields_Common Core_Program Code|meta_view_metadata_rdfClass|meta_view_metadata_rdfSubject|meta_view_metadata_rowIdentifier|meta_view_metadata_rowLabel|    meta_view_name|meta_view_newBackend|meta_view_numberOfComments|meta_view_oid|meta_view_owner_displayName|meta_view_owner_flags|meta_view_owner_id|meta_view_owner_profileImageUrlLarge|meta_view_owner_profileImageUrlMedium|meta_view_owner_profileImageUrlSmall|meta_view_owner_screenName|meta_view_owner_type|meta_view_provenance|meta_view_publicationAppendEnabled|meta_view_publicationDate|meta_view_publicationGroup|meta_view_publicationStage|meta_view_rights|meta_view_rowClass|meta_view_rowsUpdatedAt|meta_view_rowsUpdatedBy|meta_view_tableAuthor_displayName|meta_view_tableAuthor_flags|meta_view_tableAuthor_id|meta_view_tableAuthor_profileImageUrlLarge|meta_view_tableAuthor_profileImageUrlMedium|meta_view_tableAuthor_profileImageUrlSmall|meta_view_tableAuthor_screenName|meta_view_tableAuthor_type|meta_view_tableId|meta_view_tags|meta_view_totalTimesRated|meta_view_viewCount|meta_view_viewLastModified|meta_view_viewType|\n",
      "+--------------------+------------------------------+-----------------------------------------+-------------------------+----------------------------------------------------+--------------------------------+------------------------------------+-------------------------------------+-------------------------------------------------------------+-------------------------------------------------------+-------------------------------+-----------------------------------------+--------------------------------+----------------------------------+------------------------------+-------------------+-------------------------+-----------------------+------------------+----------------------------------------------+----------------------------------------+--------------------------------------------+--------------------------------------+----------------------------------------+-----------------------------------------+-------------------------------------+-----------------------------------------+------------------------------------+------------------------------------------+-----------------------------------------+------------------------------------------------------------+-------------------------------------------------------+----------------------------------------------------+------------------------------------------+------------------------------+-----------------------------+---------------------------+-----------------------+------------------------------+---------------------------------+---------------------------------------+-----------------------------+--------------------+----------------------+--------------------------+--------------------------------+-------------------------------+-----------------------+-------------------+---------------------+---------------------+-----------------------+---------------+----------------------+--------------------------+---------------------+-------------------------+--------------------------+------------+------------------------+----------------+--------------------------------------------------------+---------------------------------------------------------+---------------------------+-----------------------------+--------------------------------+---------------------------+------------------+--------------------+--------------------------+-------------+---------------------------+---------------------+------------------+------------------------------------+-------------------------------------+------------------------------------+--------------------------+--------------------+--------------------+----------------------------------+-------------------------+--------------------------+--------------------------+----------------+------------------+-----------------------+-----------------------+---------------------------------+---------------------------+------------------------+------------------------------------------+-------------------------------------------+------------------------------------------+--------------------------------+--------------------------+-----------------+--------------+-------------------------+-------------------+--------------------------+------------------+\n",
      "|  row-hzx5-myxf_ktcf|                    1437418476|                                     true|                 approved|                                                READ|                          650286|                public_audience_r...|                      change_audience|                                                            0|                                                success|                     1437418476|                         NASA Public Data|                       isxt-qkkm|                            public|                          2019|            dataset|     http://visualizin...|                      0|     Space Science|                                          NULL|                                    NULL|                                        NULL|                                  NULL|                                    NULL|                                     NULL|                                 NULL|                                     NULL|                                NULL|                                      NULL|                                     NULL|                                                        NULL|                                                   NULL|                                                NULL|                                      NULL|                     meta_data|                         NULL|                       :sid|                 hidden|                          NULL|                             NULL|                                   NULL|                         NULL|                  -1|                   sid|                         0|                       meta_data|                           NULL|                   NULL|         1427993711| This comprehensiv...|                table|                 272174|        default|                public|                     false|               viewer|                    false|                     false|   gh4g-9sfh|              1530128561|           false|                                                  026:00|                                                  026:009|                           |                            0|                               0|         meteorite landings|Meteorite Landings|                true|                         0|     12394300|           NASA Public Data|  mayBeStoriesCoOwner|         isxt-qkkm|                /api/users/isxt-q...|                 /api/users/isxt-q...|                /api/users/isxt-q...|          NASA Public Data|         interactive|            official|                             false|               1437418476|                   2592752|                 published|            read|                  |             1437418165|              isxt-qkkm|                 NASA Public Data|        mayBeStoriesCoOwner|               isxt-qkkm|                      /api/users/isxt-q...|                       /api/users/isxt-q...|                      /api/users/isxt-q...|                NASA Public Data|               interactive|          3654362|     spaceapps|                        0|             146157|                1675176938|           tabular|\n",
      "|00000000-0000-000...|                    1437418476|                                     true|                 approved|                                                READ|                          650286|                public_audience_r...|                      change_audience|                                                            0|                                                success|                     1437418476|                         NASA Public Data|                       isxt-qkkm|                            public|                          2019|            dataset|     http://visualizin...|                      0|     Space Science|                                          NULL|                                    NULL|                                        NULL|                                  NULL|                                    NULL|                                     NULL|                                 NULL|                                     NULL|                                NULL|                                      NULL|                                     NULL|                                                        NULL|                                                   NULL|                                                NULL|                                      NULL|                     meta_data|                         NULL|                       :sid|                 hidden|                          NULL|                             NULL|                                   NULL|                         NULL|                  -1|                   sid|                         0|                       meta_data|                           NULL|                   NULL|         1427993711| This comprehensiv...|                table|                 272174|        default|                public|                     false|               viewer|                    false|                     false|   gh4g-9sfh|              1530128561|           false|                                                  026:00|                                                  026:009|                           |                            0|                               0|         meteorite landings|Meteorite Landings|                true|                         0|     12394300|           NASA Public Data|  mayBeStoriesCoOwner|         isxt-qkkm|                /api/users/isxt-q...|                 /api/users/isxt-q...|                /api/users/isxt-q...|          NASA Public Data|         interactive|            official|                             false|               1437418476|                   2592752|                 published|            read|                  |             1437418165|              isxt-qkkm|                 NASA Public Data|        mayBeStoriesCoOwner|               isxt-qkkm|                      /api/users/isxt-q...|                       /api/users/isxt-q...|                      /api/users/isxt-q...|                NASA Public Data|               interactive|          3654362|     spaceapps|                        0|             146157|                1675176938|           tabular|\n",
      "|                   0|                    1437418476|                                     true|                 approved|                                                READ|                          650286|                public_audience_r...|                      change_audience|                                                            0|                                                success|                     1437418476|                         NASA Public Data|                       isxt-qkkm|                            public|                          2019|            dataset|     http://visualizin...|                      0|     Space Science|                                          NULL|                                    NULL|                                        NULL|                                  NULL|                                    NULL|                                     NULL|                                 NULL|                                     NULL|                                NULL|                                      NULL|                                     NULL|                                                        NULL|                                                   NULL|                                                NULL|                                      NULL|                     meta_data|                         NULL|                       :sid|                 hidden|                          NULL|                             NULL|                                   NULL|                         NULL|                  -1|                   sid|                         0|                       meta_data|                           NULL|                   NULL|         1427993711| This comprehensiv...|                table|                 272174|        default|                public|                     false|               viewer|                    false|                     false|   gh4g-9sfh|              1530128561|           false|                                                  026:00|                                                  026:009|                           |                            0|                               0|         meteorite landings|Meteorite Landings|                true|                         0|     12394300|           NASA Public Data|  mayBeStoriesCoOwner|         isxt-qkkm|                /api/users/isxt-q...|                 /api/users/isxt-q...|                /api/users/isxt-q...|          NASA Public Data|         interactive|            official|                             false|               1437418476|                   2592752|                 published|            read|                  |             1437418165|              isxt-qkkm|                 NASA Public Data|        mayBeStoriesCoOwner|               isxt-qkkm|                      /api/users/isxt-q...|                       /api/users/isxt-q...|                      /api/users/isxt-q...|                NASA Public Data|               interactive|          3654362|     spaceapps|                        0|             146157|                1675176938|           tabular|\n",
      "|          1446143734|                    1437418476|                                     true|                 approved|                                                READ|                          650286|                public_audience_r...|                      change_audience|                                                            0|                                                success|                     1437418476|                         NASA Public Data|                       isxt-qkkm|                            public|                          2019|            dataset|     http://visualizin...|                      0|     Space Science|                                          NULL|                                    NULL|                                        NULL|                                  NULL|                                    NULL|                                     NULL|                                 NULL|                                     NULL|                                NULL|                                      NULL|                                     NULL|                                                        NULL|                                                   NULL|                                                NULL|                                      NULL|                     meta_data|                         NULL|                       :sid|                 hidden|                          NULL|                             NULL|                                   NULL|                         NULL|                  -1|                   sid|                         0|                       meta_data|                           NULL|                   NULL|         1427993711| This comprehensiv...|                table|                 272174|        default|                public|                     false|               viewer|                    false|                     false|   gh4g-9sfh|              1530128561|           false|                                                  026:00|                                                  026:009|                           |                            0|                               0|         meteorite landings|Meteorite Landings|                true|                         0|     12394300|           NASA Public Data|  mayBeStoriesCoOwner|         isxt-qkkm|                /api/users/isxt-q...|                 /api/users/isxt-q...|                /api/users/isxt-q...|          NASA Public Data|         interactive|            official|                             false|               1437418476|                   2592752|                 published|            read|                  |             1437418165|              isxt-qkkm|                 NASA Public Data|        mayBeStoriesCoOwner|               isxt-qkkm|                      /api/users/isxt-q...|                       /api/users/isxt-q...|                      /api/users/isxt-q...|                NASA Public Data|               interactive|          3654362|     spaceapps|                        0|             146157|                1675176938|           tabular|\n",
      "|                NULL|                    1437418476|                                     true|                 approved|                                                READ|                          650286|                public_audience_r...|                      change_audience|                                                            0|                                                success|                     1437418476|                         NASA Public Data|                       isxt-qkkm|                            public|                          2019|            dataset|     http://visualizin...|                      0|     Space Science|                                          NULL|                                    NULL|                                        NULL|                                  NULL|                                    NULL|                                     NULL|                                 NULL|                                     NULL|                                NULL|                                      NULL|                                     NULL|                                                        NULL|                                                   NULL|                                                NULL|                                      NULL|                     meta_data|                         NULL|                       :sid|                 hidden|                          NULL|                             NULL|                                   NULL|                         NULL|                  -1|                   sid|                         0|                       meta_data|                           NULL|                   NULL|         1427993711| This comprehensiv...|                table|                 272174|        default|                public|                     false|               viewer|                    false|                     false|   gh4g-9sfh|              1530128561|           false|                                                  026:00|                                                  026:009|                           |                            0|                               0|         meteorite landings|Meteorite Landings|                true|                         0|     12394300|           NASA Public Data|  mayBeStoriesCoOwner|         isxt-qkkm|                /api/users/isxt-q...|                 /api/users/isxt-q...|                /api/users/isxt-q...|          NASA Public Data|         interactive|            official|                             false|               1437418476|                   2592752|                 published|            read|                  |             1437418165|              isxt-qkkm|                 NASA Public Data|        mayBeStoriesCoOwner|               isxt-qkkm|                      /api/users/isxt-q...|                       /api/users/isxt-q...|                      /api/users/isxt-q...|                NASA Public Data|               interactive|          3654362|     spaceapps|                        0|             146157|                1675176938|           tabular|\n",
      "+--------------------+------------------------------+-----------------------------------------+-------------------------+----------------------------------------------------+--------------------------------+------------------------------------+-------------------------------------+-------------------------------------------------------------+-------------------------------------------------------+-------------------------------+-----------------------------------------+--------------------------------+----------------------------------+------------------------------+-------------------+-------------------------+-----------------------+------------------+----------------------------------------------+----------------------------------------+--------------------------------------------+--------------------------------------+----------------------------------------+-----------------------------------------+-------------------------------------+-----------------------------------------+------------------------------------+------------------------------------------+-----------------------------------------+------------------------------------------------------------+-------------------------------------------------------+----------------------------------------------------+------------------------------------------+------------------------------+-----------------------------+---------------------------+-----------------------+------------------------------+---------------------------------+---------------------------------------+-----------------------------+--------------------+----------------------+--------------------------+--------------------------------+-------------------------------+-----------------------+-------------------+---------------------+---------------------+-----------------------+---------------+----------------------+--------------------------+---------------------+-------------------------+--------------------------+------------+------------------------+----------------+--------------------------------------------------------+---------------------------------------------------------+---------------------------+-----------------------------+--------------------------------+---------------------------+------------------+--------------------+--------------------------+-------------+---------------------------+---------------------+------------------+------------------------------------+-------------------------------------+------------------------------------+--------------------------+--------------------+--------------------+----------------------------------+-------------------------+--------------------------+--------------------------+----------------+------------------+-----------------------+-----------------------+---------------------------------+---------------------------+------------------------+------------------------------------------+-------------------------------------------+------------------------------------------+--------------------------------+--------------------------+-----------------+--------------+-------------------------+-------------------+--------------------------+------------------+\n",
      "only showing top 5 rows\n",
      "\n"
     ]
    }
   ],
   "source": [
    "flattenedJsonDF.show(5)"
   ]
  },
  {
   "cell_type": "markdown",
   "id": "19393a03-ff88-46e5-8448-02ce5215fe66",
   "metadata": {},
   "source": [
    "## 3. Finally :-), the core step, create an iceberg table and write the json data to it. \n",
    "## So now the resultant table is in parquet format, yeyy!!\n",
    "## Once the catalog is created, for the next writes use append to add to existing table, \n",
    "## create for new ,replace to overwrite  or use both createOrReplace for safer side if one wants to replace\n",
    "## and create new table if it already exists to "
   ]
  },
  {
   "cell_type": "code",
   "execution_count": 10,
   "id": "c0e6a8c8-b884-4883-9a8f-e77cff6d05b6",
   "metadata": {},
   "outputs": [
    {
     "data": {
      "text/plain": [
       "icedTable: Unit = ()\n"
      ]
     },
     "execution_count": 10,
     "metadata": {},
     "output_type": "execute_result"
    }
   ],
   "source": [
    "val icedTable = flattenedJsonDF.writeTo(\"icecatalog.mydb.meteorites\").using(\"iceberg\").createOrReplace()"
   ]
  },
  {
   "cell_type": "markdown",
   "id": "e6235ca2-84f2-42c7-8162-bb857de75b4f",
   "metadata": {},
   "source": [
    "## 3.1 Verify if the table is created using iceberg format"
   ]
  },
  {
   "cell_type": "code",
   "execution_count": 11,
   "id": "b2aa38b0-21ba-418c-8a4d-75cfd4f00c61",
   "metadata": {},
   "outputs": [
    {
     "data": {
      "text/plain": [
       "meteorTable: org.apache.spark.sql.DataFrame = [data: string, meta_view_approvals_reviewedAt: bigint ... 100 more fields]\n"
      ]
     },
     "execution_count": 11,
     "metadata": {},
     "output_type": "execute_result"
    }
   ],
   "source": [
    "val meteorTable = spark.read.format(\"iceberg\").load(\"icecatalog.mydb.meteorites\")"
   ]
  },
  {
   "cell_type": "markdown",
   "id": "504b3548-e5e2-4b58-9438-48f78ade5a40",
   "metadata": {},
   "source": [
    "##3.2 Display result"
   ]
  },
  {
   "cell_type": "code",
   "execution_count": 12,
   "id": "b270c4bd-c74f-466a-91a8-f2f9ea5e6571",
   "metadata": {},
   "outputs": [
    {
     "name": "stdout",
     "output_type": "stream",
     "text": [
      "+--------------------+------------------------------+-----------------------------------------+-------------------------+----------------------------------------------------+--------------------------------+------------------------------------+-------------------------------------+-------------------------------------------------------------+-------------------------------------------------------+-------------------------------+-----------------------------------------+--------------------------------+----------------------------------+------------------------------+-------------------+-------------------------+-----------------------+------------------+----------------------------------------------+----------------------------------------+--------------------------------------------+--------------------------------------+----------------------------------------+-----------------------------------------+-------------------------------------+-----------------------------------------+------------------------------------+------------------------------------------+-----------------------------------------+------------------------------------------------------------+-------------------------------------------------------+----------------------------------------------------+------------------------------------------+------------------------------+-----------------------------+---------------------------+-----------------------+------------------------------+---------------------------------+---------------------------------------+-----------------------------+--------------------+----------------------+--------------------------+--------------------------------+-------------------------------+-----------------------+-------------------+---------------------+---------------------+-----------------------+---------------+----------------------+--------------------------+---------------------+-------------------------+--------------------------+------------+------------------------+----------------+--------------------------------------------------------+---------------------------------------------------------+---------------------------+-----------------------------+--------------------------------+---------------------------+------------------+--------------------+--------------------------+-------------+---------------------------+---------------------+------------------+------------------------------------+-------------------------------------+------------------------------------+--------------------------+--------------------+--------------------+----------------------------------+-------------------------+--------------------------+--------------------------+----------------+------------------+-----------------------+-----------------------+---------------------------------+---------------------------+------------------------+------------------------------------------+-------------------------------------------+------------------------------------------+--------------------------------+--------------------------+-----------------+--------------+-------------------------+-------------------+--------------------------+------------------+\n",
      "|                data|meta_view_approvals_reviewedAt|meta_view_approvals_reviewedAutomatically|meta_view_approvals_state|meta_view_approvals_submissionDetails_permissionType|meta_view_approvals_submissionId|meta_view_approvals_submissionObject|meta_view_approvals_submissionOutcome|meta_view_approvals_submissionOutcomeApplication_failureCount|meta_view_approvals_submissionOutcomeApplication_status|meta_view_approvals_submittedAt|meta_view_approvals_submitter_displayName|meta_view_approvals_submitter_id|meta_view_approvals_targetAudience|meta_view_approvals_workflowId|meta_view_assetType|meta_view_attributionLink|meta_view_averageRating|meta_view_category|meta_view_clientContext_clientContextVariables|meta_view_columns_cachedContents_average|meta_view_columns_cachedContents_cardinality|meta_view_columns_cachedContents_count|meta_view_columns_cachedContents_largest|meta_view_columns_cachedContents_non_null|meta_view_columns_cachedContents_null|meta_view_columns_cachedContents_smallest|meta_view_columns_cachedContents_sum|meta_view_columns_cachedContents_top_count|meta_view_columns_cachedContents_top_item|meta_view_columns_computationStrategy_parameters_primary_key|meta_view_columns_computationStrategy_parameters_region|meta_view_columns_computationStrategy_source_columns|meta_view_columns_computationStrategy_type|meta_view_columns_dataTypeName|meta_view_columns_description|meta_view_columns_fieldName|meta_view_columns_flags|meta_view_columns_format_align|meta_view_columns_format_noCommas|meta_view_columns_format_precisionStyle|meta_view_columns_format_view|meta_view_columns_id|meta_view_columns_name|meta_view_columns_position|meta_view_columns_renderTypeName|meta_view_columns_tableColumnId|meta_view_columns_width|meta_view_createdAt|meta_view_description|meta_view_displayType|meta_view_downloadCount|meta_view_flags|meta_view_grants_flags|meta_view_grants_inherited|meta_view_grants_type|meta_view_hideFromCatalog|meta_view_hideFromDataJson|meta_view_id|meta_view_indexUpdatedAt|meta_view_locked|meta_view_metadata_custom_fields_Common Core_Bureau Code|meta_view_metadata_custom_fields_Common Core_Program Code|meta_view_metadata_rdfClass|meta_view_metadata_rdfSubject|meta_view_metadata_rowIdentifier|meta_view_metadata_rowLabel|    meta_view_name|meta_view_newBackend|meta_view_numberOfComments|meta_view_oid|meta_view_owner_displayName|meta_view_owner_flags|meta_view_owner_id|meta_view_owner_profileImageUrlLarge|meta_view_owner_profileImageUrlMedium|meta_view_owner_profileImageUrlSmall|meta_view_owner_screenName|meta_view_owner_type|meta_view_provenance|meta_view_publicationAppendEnabled|meta_view_publicationDate|meta_view_publicationGroup|meta_view_publicationStage|meta_view_rights|meta_view_rowClass|meta_view_rowsUpdatedAt|meta_view_rowsUpdatedBy|meta_view_tableAuthor_displayName|meta_view_tableAuthor_flags|meta_view_tableAuthor_id|meta_view_tableAuthor_profileImageUrlLarge|meta_view_tableAuthor_profileImageUrlMedium|meta_view_tableAuthor_profileImageUrlSmall|meta_view_tableAuthor_screenName|meta_view_tableAuthor_type|meta_view_tableId|meta_view_tags|meta_view_totalTimesRated|meta_view_viewCount|meta_view_viewLastModified|meta_view_viewType|\n",
      "+--------------------+------------------------------+-----------------------------------------+-------------------------+----------------------------------------------------+--------------------------------+------------------------------------+-------------------------------------+-------------------------------------------------------------+-------------------------------------------------------+-------------------------------+-----------------------------------------+--------------------------------+----------------------------------+------------------------------+-------------------+-------------------------+-----------------------+------------------+----------------------------------------------+----------------------------------------+--------------------------------------------+--------------------------------------+----------------------------------------+-----------------------------------------+-------------------------------------+-----------------------------------------+------------------------------------+------------------------------------------+-----------------------------------------+------------------------------------------------------------+-------------------------------------------------------+----------------------------------------------------+------------------------------------------+------------------------------+-----------------------------+---------------------------+-----------------------+------------------------------+---------------------------------+---------------------------------------+-----------------------------+--------------------+----------------------+--------------------------+--------------------------------+-------------------------------+-----------------------+-------------------+---------------------+---------------------+-----------------------+---------------+----------------------+--------------------------+---------------------+-------------------------+--------------------------+------------+------------------------+----------------+--------------------------------------------------------+---------------------------------------------------------+---------------------------+-----------------------------+--------------------------------+---------------------------+------------------+--------------------+--------------------------+-------------+---------------------------+---------------------+------------------+------------------------------------+-------------------------------------+------------------------------------+--------------------------+--------------------+--------------------+----------------------------------+-------------------------+--------------------------+--------------------------+----------------+------------------+-----------------------+-----------------------+---------------------------------+---------------------------+------------------------+------------------------------------------+-------------------------------------------+------------------------------------------+--------------------------------+--------------------------+-----------------+--------------+-------------------------+-------------------+--------------------------+------------------+\n",
      "|  row-hzx5-myxf_ktcf|                    1437418476|                                     true|                 approved|                                                READ|                          650286|                public_audience_r...|                      change_audience|                                                            0|                                                success|                     1437418476|                         NASA Public Data|                       isxt-qkkm|                            public|                          2019|            dataset|     http://visualizin...|                      0|     Space Science|                                          NULL|                                    NULL|                                        NULL|                                  NULL|                                    NULL|                                     NULL|                                 NULL|                                     NULL|                                NULL|                                      NULL|                                     NULL|                                                        NULL|                                                   NULL|                                                NULL|                                      NULL|                     meta_data|                         NULL|                       :sid|                 hidden|                          NULL|                             NULL|                                   NULL|                         NULL|                  -1|                   sid|                         0|                       meta_data|                           NULL|                   NULL|         1427993711| This comprehensiv...|                table|                 272174|        default|                public|                     false|               viewer|                    false|                     false|   gh4g-9sfh|              1530128561|           false|                                                  026:00|                                                  026:009|                           |                            0|                               0|         meteorite landings|Meteorite Landings|                true|                         0|     12394300|           NASA Public Data|  mayBeStoriesCoOwner|         isxt-qkkm|                /api/users/isxt-q...|                 /api/users/isxt-q...|                /api/users/isxt-q...|          NASA Public Data|         interactive|            official|                             false|               1437418476|                   2592752|                 published|            read|                  |             1437418165|              isxt-qkkm|                 NASA Public Data|        mayBeStoriesCoOwner|               isxt-qkkm|                      /api/users/isxt-q...|                       /api/users/isxt-q...|                      /api/users/isxt-q...|                NASA Public Data|               interactive|          3654362|     spaceapps|                        0|             146157|                1675176938|           tabular|\n",
      "|00000000-0000-000...|                    1437418476|                                     true|                 approved|                                                READ|                          650286|                public_audience_r...|                      change_audience|                                                            0|                                                success|                     1437418476|                         NASA Public Data|                       isxt-qkkm|                            public|                          2019|            dataset|     http://visualizin...|                      0|     Space Science|                                          NULL|                                    NULL|                                        NULL|                                  NULL|                                    NULL|                                     NULL|                                 NULL|                                     NULL|                                NULL|                                      NULL|                                     NULL|                                                        NULL|                                                   NULL|                                                NULL|                                      NULL|                     meta_data|                         NULL|                       :sid|                 hidden|                          NULL|                             NULL|                                   NULL|                         NULL|                  -1|                   sid|                         0|                       meta_data|                           NULL|                   NULL|         1427993711| This comprehensiv...|                table|                 272174|        default|                public|                     false|               viewer|                    false|                     false|   gh4g-9sfh|              1530128561|           false|                                                  026:00|                                                  026:009|                           |                            0|                               0|         meteorite landings|Meteorite Landings|                true|                         0|     12394300|           NASA Public Data|  mayBeStoriesCoOwner|         isxt-qkkm|                /api/users/isxt-q...|                 /api/users/isxt-q...|                /api/users/isxt-q...|          NASA Public Data|         interactive|            official|                             false|               1437418476|                   2592752|                 published|            read|                  |             1437418165|              isxt-qkkm|                 NASA Public Data|        mayBeStoriesCoOwner|               isxt-qkkm|                      /api/users/isxt-q...|                       /api/users/isxt-q...|                      /api/users/isxt-q...|                NASA Public Data|               interactive|          3654362|     spaceapps|                        0|             146157|                1675176938|           tabular|\n",
      "|                   0|                    1437418476|                                     true|                 approved|                                                READ|                          650286|                public_audience_r...|                      change_audience|                                                            0|                                                success|                     1437418476|                         NASA Public Data|                       isxt-qkkm|                            public|                          2019|            dataset|     http://visualizin...|                      0|     Space Science|                                          NULL|                                    NULL|                                        NULL|                                  NULL|                                    NULL|                                     NULL|                                 NULL|                                     NULL|                                NULL|                                      NULL|                                     NULL|                                                        NULL|                                                   NULL|                                                NULL|                                      NULL|                     meta_data|                         NULL|                       :sid|                 hidden|                          NULL|                             NULL|                                   NULL|                         NULL|                  -1|                   sid|                         0|                       meta_data|                           NULL|                   NULL|         1427993711| This comprehensiv...|                table|                 272174|        default|                public|                     false|               viewer|                    false|                     false|   gh4g-9sfh|              1530128561|           false|                                                  026:00|                                                  026:009|                           |                            0|                               0|         meteorite landings|Meteorite Landings|                true|                         0|     12394300|           NASA Public Data|  mayBeStoriesCoOwner|         isxt-qkkm|                /api/users/isxt-q...|                 /api/users/isxt-q...|                /api/users/isxt-q...|          NASA Public Data|         interactive|            official|                             false|               1437418476|                   2592752|                 published|            read|                  |             1437418165|              isxt-qkkm|                 NASA Public Data|        mayBeStoriesCoOwner|               isxt-qkkm|                      /api/users/isxt-q...|                       /api/users/isxt-q...|                      /api/users/isxt-q...|                NASA Public Data|               interactive|          3654362|     spaceapps|                        0|             146157|                1675176938|           tabular|\n",
      "|          1446143734|                    1437418476|                                     true|                 approved|                                                READ|                          650286|                public_audience_r...|                      change_audience|                                                            0|                                                success|                     1437418476|                         NASA Public Data|                       isxt-qkkm|                            public|                          2019|            dataset|     http://visualizin...|                      0|     Space Science|                                          NULL|                                    NULL|                                        NULL|                                  NULL|                                    NULL|                                     NULL|                                 NULL|                                     NULL|                                NULL|                                      NULL|                                     NULL|                                                        NULL|                                                   NULL|                                                NULL|                                      NULL|                     meta_data|                         NULL|                       :sid|                 hidden|                          NULL|                             NULL|                                   NULL|                         NULL|                  -1|                   sid|                         0|                       meta_data|                           NULL|                   NULL|         1427993711| This comprehensiv...|                table|                 272174|        default|                public|                     false|               viewer|                    false|                     false|   gh4g-9sfh|              1530128561|           false|                                                  026:00|                                                  026:009|                           |                            0|                               0|         meteorite landings|Meteorite Landings|                true|                         0|     12394300|           NASA Public Data|  mayBeStoriesCoOwner|         isxt-qkkm|                /api/users/isxt-q...|                 /api/users/isxt-q...|                /api/users/isxt-q...|          NASA Public Data|         interactive|            official|                             false|               1437418476|                   2592752|                 published|            read|                  |             1437418165|              isxt-qkkm|                 NASA Public Data|        mayBeStoriesCoOwner|               isxt-qkkm|                      /api/users/isxt-q...|                       /api/users/isxt-q...|                      /api/users/isxt-q...|                NASA Public Data|               interactive|          3654362|     spaceapps|                        0|             146157|                1675176938|           tabular|\n",
      "|                NULL|                    1437418476|                                     true|                 approved|                                                READ|                          650286|                public_audience_r...|                      change_audience|                                                            0|                                                success|                     1437418476|                         NASA Public Data|                       isxt-qkkm|                            public|                          2019|            dataset|     http://visualizin...|                      0|     Space Science|                                          NULL|                                    NULL|                                        NULL|                                  NULL|                                    NULL|                                     NULL|                                 NULL|                                     NULL|                                NULL|                                      NULL|                                     NULL|                                                        NULL|                                                   NULL|                                                NULL|                                      NULL|                     meta_data|                         NULL|                       :sid|                 hidden|                          NULL|                             NULL|                                   NULL|                         NULL|                  -1|                   sid|                         0|                       meta_data|                           NULL|                   NULL|         1427993711| This comprehensiv...|                table|                 272174|        default|                public|                     false|               viewer|                    false|                     false|   gh4g-9sfh|              1530128561|           false|                                                  026:00|                                                  026:009|                           |                            0|                               0|         meteorite landings|Meteorite Landings|                true|                         0|     12394300|           NASA Public Data|  mayBeStoriesCoOwner|         isxt-qkkm|                /api/users/isxt-q...|                 /api/users/isxt-q...|                /api/users/isxt-q...|          NASA Public Data|         interactive|            official|                             false|               1437418476|                   2592752|                 published|            read|                  |             1437418165|              isxt-qkkm|                 NASA Public Data|        mayBeStoriesCoOwner|               isxt-qkkm|                      /api/users/isxt-q...|                       /api/users/isxt-q...|                      /api/users/isxt-q...|                NASA Public Data|               interactive|          3654362|     spaceapps|                        0|             146157|                1675176938|           tabular|\n",
      "+--------------------+------------------------------+-----------------------------------------+-------------------------+----------------------------------------------------+--------------------------------+------------------------------------+-------------------------------------+-------------------------------------------------------------+-------------------------------------------------------+-------------------------------+-----------------------------------------+--------------------------------+----------------------------------+------------------------------+-------------------+-------------------------+-----------------------+------------------+----------------------------------------------+----------------------------------------+--------------------------------------------+--------------------------------------+----------------------------------------+-----------------------------------------+-------------------------------------+-----------------------------------------+------------------------------------+------------------------------------------+-----------------------------------------+------------------------------------------------------------+-------------------------------------------------------+----------------------------------------------------+------------------------------------------+------------------------------+-----------------------------+---------------------------+-----------------------+------------------------------+---------------------------------+---------------------------------------+-----------------------------+--------------------+----------------------+--------------------------+--------------------------------+-------------------------------+-----------------------+-------------------+---------------------+---------------------+-----------------------+---------------+----------------------+--------------------------+---------------------+-------------------------+--------------------------+------------+------------------------+----------------+--------------------------------------------------------+---------------------------------------------------------+---------------------------+-----------------------------+--------------------------------+---------------------------+------------------+--------------------+--------------------------+-------------+---------------------------+---------------------+------------------+------------------------------------+-------------------------------------+------------------------------------+--------------------------+--------------------+--------------------+----------------------------------+-------------------------+--------------------------+--------------------------+----------------+------------------+-----------------------+-----------------------+---------------------------------+---------------------------+------------------------+------------------------------------------+-------------------------------------------+------------------------------------------+--------------------------------+--------------------------+-----------------+--------------+-------------------------+-------------------+--------------------------+------------------+\n",
      "only showing top 5 rows\n",
      "\n"
     ]
    }
   ],
   "source": [
    "meteorTable.show(5)"
   ]
  },
  {
   "cell_type": "markdown",
   "id": "ad9cd832-e09e-44fb-9f5e-3103016fc194",
   "metadata": {},
   "source": [
    "##3.3 Check the count to test later when we append the data again"
   ]
  },
  {
   "cell_type": "code",
   "execution_count": 13,
   "id": "a60af0ae-efef-42ce-a4f0-97c41b7c5fdd",
   "metadata": {},
   "outputs": [
    {
     "data": {
      "text/plain": [
       "res7: Long = 542500\n"
      ]
     },
     "execution_count": 13,
     "metadata": {},
     "output_type": "execute_result"
    }
   ],
   "source": [
    "meteorTable.count()"
   ]
  },
  {
   "cell_type": "markdown",
   "id": "44a1e490-b09d-4fbf-bbdd-db475afc329c",
   "metadata": {},
   "source": [
    "##3.4 Check the count of columns to test the columsn size post delete step executions"
   ]
  },
  {
   "cell_type": "code",
   "execution_count": 14,
   "id": "8fdf046e-5cd2-44c9-8747-fb33194d278f",
   "metadata": {},
   "outputs": [
    {
     "data": {
      "text/plain": [
       "res8: Int = 102\n"
      ]
     },
     "execution_count": 14,
     "metadata": {},
     "output_type": "execute_result"
    }
   ],
   "source": [
    "meteorTable.columns.length"
   ]
  },
  {
   "cell_type": "markdown",
   "id": "4a7f7ac7-7972-4710-bd34-03db23904f43",
   "metadata": {},
   "source": [
    "## 4 The Schema Evolution Feature test Begins here \n",
    "## Not really :-p, its a test before actual test\n",
    "## Testing if any of the cases of Schema Evolution works by default without further configurations. \n",
    "## These 4.x steps are to verify if any of the schema evolution case works by default before configuring schema evolution specific setting\n",
    "## These executions are run to compare results before and after schema evolution configurations."
   ]
  },
  {
   "cell_type": "markdown",
   "id": "40423bc3-c0dd-42eb-909a-9112f6f8d3b7",
   "metadata": {},
   "source": [
    "## 4.1 From the original dataset, I have deleted and updated(which is as good as adding new column) columns and \n",
    "## changed datatype of other column and saved them as new datasets, so that I can write back to the iceberg table \n",
    "## where the schema is already set due to the first write execution\n",
    "## New columns : Added a new string column meta_view_approvals_documentVersion, boolean column documentReviewed and updated(equivalent to new) integer col from meta_view_averageRating to  meta_view_averageDocumentRating\n",
    "## Deleted column : meta_view_hideFromCatalog\n",
    "## Steps are - Read the modified JSON dataset, explode it, and then append it to the existing iceberg table"
   ]
  },
  {
   "cell_type": "code",
   "execution_count": 15,
   "id": "9430053a-c4bc-46d9-aeb1-bbf3e2c33bfa",
   "metadata": {},
   "outputs": [
    {
     "ename": "org.apache.spark.sql.AnalysisException",
     "evalue": " [INSERT_COLUMN_ARITY_MISMATCH.TOO_MANY_DATA_COLUMNS] Cannot write to `demo`.`icecatalog`.`mydb`.`meteorites`, the reason is too many data columns:",
     "output_type": "error",
     "traceback": [
      "org.apache.spark.sql.AnalysisException: [INSERT_COLUMN_ARITY_MISMATCH.TOO_MANY_DATA_COLUMNS] Cannot write to `demo`.`icecatalog`.`mydb`.`meteorites`, the reason is too many data columns:",
      "Table columns: `data`, `meta_view_approvals_reviewedAt`, `meta_view_approvals_reviewedAutomatically`, `meta_view_approvals_state`, `meta_view_approvals_submissionDetails_permissionType`, `meta_view_approvals_submissionId`, `meta_view_approvals_submissionObject`, `meta_view_approvals_submissionOutcome`, `meta_view_approvals_submissionOutcomeApplication_failureCount`, `meta_view_approvals_submissionOutcomeApplication_status`, `meta_view_approvals_submittedAt`, `meta_view_approvals_submitter_displayName`, `meta_view_approvals_submitter_id`, `meta_view_approvals_targetAudience`, `meta_view_approvals_workflowId`, `meta_view_assetType`, `meta_view_attributionLink`, `meta_view_averageRating`, `meta_view_category`, `meta_view_clientContext_clientContextVariables`, `meta_view_columns_cachedContents_average`, `meta_view_columns_cachedContents_cardinality`, `meta_view_columns_cachedContents_count`, `meta_view_columns_cachedContents_largest`, `meta_view_columns_cachedContents_non_null`, `meta_view_columns_cachedContents_null`, `meta_view_columns_cachedContents_smallest`, `meta_view_columns_cachedContents_sum`, `meta_view_columns_cachedContents_top_count`, `meta_view_columns_cachedContents_top_item`, `meta_view_columns_computationStrategy_parameters_primary_key`, `meta_view_columns_computationStrategy_parameters_region`, `meta_view_columns_computationStrategy_source_columns`, `meta_view_columns_computationStrategy_type`, `meta_view_columns_dataTypeName`, `meta_view_columns_description`, `meta_view_columns_fieldName`, `meta_view_columns_flags`, `meta_view_columns_format_align`, `meta_view_columns_format_noCommas`, `meta_view_columns_format_precisionStyle`, `meta_view_columns_format_view`, `meta_view_columns_id`, `meta_view_columns_name`, `meta_view_columns_position`, `meta_view_columns_renderTypeName`, `meta_view_columns_tableColumnId`, `meta_view_columns_width`, `meta_view_createdAt`, `meta_view_description`, `meta_view_displayType`, `meta_view_downloadCount`, `meta_view_flags`, `meta_view_grants_flags`, `meta_view_grants_inherited`, `meta_view_grants_type`, `meta_view_hideFromCatalog`, `meta_view_hideFromDataJson`, `meta_view_id`, `meta_view_indexUpdatedAt`, `meta_view_locked`, `meta_view_metadata_custom_fields_Common Core_Bureau Code`, `meta_view_metadata_custom_fields_Common Core_Program Code`, `meta_view_metadata_rdfClass`, `meta_view_metadata_rdfSubject`, `meta_view_metadata_rowIdentifier`, `meta_view_metadata_rowLabel`, `meta_view_name`, `meta_view_newBackend`, `meta_view_numberOfComments`, `meta_view_oid`, `meta_view_owner_displayName`, `meta_view_owner_flags`, `meta_view_owner_id`, `meta_view_owner_profileImageUrlLarge`, `meta_view_owner_profileImageUrlMedium`, `meta_view_owner_profileImageUrlSmall`, `meta_view_owner_screenName`, `meta_view_owner_type`, `meta_view_provenance`, `meta_view_publicationAppendEnabled`, `meta_view_publicationDate`, `meta_view_publicationGroup`, `meta_view_publicationStage`, `meta_view_rights`, `meta_view_rowClass`, `meta_view_rowsUpdatedAt`, `meta_view_rowsUpdatedBy`, `meta_view_tableAuthor_displayName`, `meta_view_tableAuthor_flags`, `meta_view_tableAuthor_id`, `meta_view_tableAuthor_profileImageUrlLarge`, `meta_view_tableAuthor_profileImageUrlMedium`, `meta_view_tableAuthor_profileImageUrlSmall`, `meta_view_tableAuthor_screenName`, `meta_view_tableAuthor_type`, `meta_view_tableId`, `meta_view_tags`, `meta_view_totalTimesRated`, `meta_view_viewCount`, `meta_view_viewLastModified`, `meta_view_viewType`.",
      "Data columns: `data`, `meta_view_approvals_documentVersion`, `meta_view_approvals_reviewedAt`, `meta_view_approvals_reviewedAutomatically`, `meta_view_approvals_state`, `meta_view_approvals_submissionDetails_permissionType`, `meta_view_approvals_submissionId`, `meta_view_approvals_submissionObject`, `meta_view_approvals_submissionOutcome`, `meta_view_approvals_submissionOutcomeApplication_failureCount`, `meta_view_approvals_submissionOutcomeApplication_status`, `meta_view_approvals_submittedAt`, `meta_view_approvals_submitter_displayName`, `meta_view_approvals_submitter_id`, `meta_view_approvals_targetAudience`, `meta_view_approvals_workflowId`, `meta_view_assetType`, `meta_view_attributionLink`, `meta_view_averageDocumentRating`, `meta_view_category`, `meta_view_clientContext_clientContextVariables`, `meta_view_columns_cachedContents_average`, `meta_view_columns_cachedContents_cardinality`, `meta_view_columns_cachedContents_count`, `meta_view_columns_cachedContents_largest`, `meta_view_columns_cachedContents_non_null`, `meta_view_columns_cachedContents_null`, `meta_view_columns_cachedContents_smallest`, `meta_view_columns_cachedContents_sum`, `meta_view_columns_cachedContents_top_count`, `meta_view_columns_cachedContents_top_item`, `meta_view_columns_computationStrategy_parameters_primary_key`, `meta_view_columns_computationStrategy_parameters_region`, `meta_view_columns_computationStrategy_source_columns`, `meta_view_columns_computationStrategy_type`, `meta_view_columns_dataTypeName`, `meta_view_columns_description`, `meta_view_columns_documentchangecount`, `meta_view_columns_fieldName`, `meta_view_columns_flags`, `meta_view_columns_format_align`, `meta_view_columns_format_noCommas`, `meta_view_columns_format_precisionStyle`, `meta_view_columns_format_view`, `meta_view_columns_id`, `meta_view_columns_name`, `meta_view_columns_position`, `meta_view_columns_renderTypeName`, `meta_view_columns_tableColumnId`, `meta_view_columns_width`, `meta_view_createdAt`, `meta_view_description`, `meta_view_displayType`, `meta_view_documentReviewed`, `meta_view_downloadCount`, `meta_view_flags`, `meta_view_grants_flags`, `meta_view_grants_inherited`, `meta_view_grants_type`, `meta_view_hideFromDataJson`, `meta_view_id`, `meta_view_indexUpdatedAt`, `meta_view_locked`, `meta_view_metadata_custom_fields_Common Core_Bureau Code`, `meta_view_metadata_custom_fields_Common Core_Program Code`, `meta_view_metadata_rdfClass`, `meta_view_metadata_rdfSubject`, `meta_view_metadata_rowIdentifier`, `meta_view_metadata_rowLabel`, `meta_view_name`, `meta_view_newBackend`, `meta_view_numberOfComments`, `meta_view_oid`, `meta_view_owner_displayName`, `meta_view_owner_flags`, `meta_view_owner_id`, `meta_view_owner_profileImageUrlLarge`, `meta_view_owner_profileImageUrlMedium`, `meta_view_owner_profileImageUrlSmall`, `meta_view_owner_screenName`, `meta_view_owner_type`, `meta_view_provenance`, `meta_view_publicationAppendEnabled`, `meta_view_publicationDate`, `meta_view_publicationGroup`, `meta_view_publicationStage`, `meta_view_rights`, `meta_view_rowClass`, `meta_view_rowsUpdatedAt`, `meta_view_rowsUpdatedBy`, `meta_view_tableAuthor_displayName`, `meta_view_tableAuthor_flags`, `meta_view_tableAuthor_id`, `meta_view_tableAuthor_profileImageUrlLarge`, `meta_view_tableAuthor_profileImageUrlMedium`, `meta_view_tableAuthor_profileImageUrlSmall`, `meta_view_tableAuthor_screenName`, `meta_view_tableAuthor_type`, `meta_view_tableId`, `meta_view_tags`, `meta_view_totalTimesRated`, `meta_view_viewCount`, `meta_view_viewLastModified`, `meta_view_viewType`.",
      "  at org.apache.spark.sql.errors.QueryCompilationErrors$.cannotWriteTooManyColumnsToTableError(QueryCompilationErrors.scala:2115)",
      "  at org.apache.spark.sql.catalyst.analysis.TableOutputResolver$.resolveOutputColumns(TableOutputResolver.scala:52)",
      "  at org.apache.spark.sql.catalyst.analysis.Analyzer$ResolveOutputRelation$$anonfun$apply$50.applyOrElse(Analyzer.scala:3362)",
      "  at org.apache.spark.sql.catalyst.analysis.Analyzer$ResolveOutputRelation$$anonfun$apply$50.applyOrElse(Analyzer.scala:3358)",
      "  at org.apache.spark.sql.catalyst.plans.logical.AnalysisHelper.$anonfun$resolveOperatorsDownWithPruning$2(AnalysisHelper.scala:170)",
      "  at org.apache.spark.sql.catalyst.trees.CurrentOrigin$.withOrigin(origin.scala:76)",
      "  at org.apache.spark.sql.catalyst.plans.logical.AnalysisHelper.$anonfun$resolveOperatorsDownWithPruning$1(AnalysisHelper.scala:170)",
      "  at org.apache.spark.sql.catalyst.plans.logical.AnalysisHelper$.allowInvokingTransformsInAnalyzer(AnalysisHelper.scala:323)",
      "  at org.apache.spark.sql.catalyst.plans.logical.AnalysisHelper.resolveOperatorsDownWithPruning(AnalysisHelper.scala:168)",
      "  at org.apache.spark.sql.catalyst.plans.logical.AnalysisHelper.resolveOperatorsDownWithPruning$(AnalysisHelper.scala:164)",
      "  at org.apache.spark.sql.catalyst.plans.logical.LogicalPlan.resolveOperatorsDownWithPruning(LogicalPlan.scala:32)",
      "  at org.apache.spark.sql.catalyst.plans.logical.AnalysisHelper.resolveOperatorsWithPruning(AnalysisHelper.scala:99)",
      "  at org.apache.spark.sql.catalyst.plans.logical.AnalysisHelper.resolveOperatorsWithPruning$(AnalysisHelper.scala:96)",
      "  at org.apache.spark.sql.catalyst.plans.logical.LogicalPlan.resolveOperatorsWithPruning(LogicalPlan.scala:32)",
      "  at org.apache.spark.sql.catalyst.analysis.Analyzer$ResolveOutputRelation$.apply(Analyzer.scala:3358)",
      "  at org.apache.spark.sql.catalyst.analysis.Analyzer$ResolveOutputRelation$.apply(Analyzer.scala:3356)",
      "  at org.apache.spark.sql.catalyst.rules.RuleExecutor.$anonfun$execute$2(RuleExecutor.scala:222)",
      "  at scala.collection.LinearSeqOptimized.foldLeft(LinearSeqOptimized.scala:126)",
      "  at scala.collection.LinearSeqOptimized.foldLeft$(LinearSeqOptimized.scala:122)",
      "  at scala.collection.immutable.List.foldLeft(List.scala:91)",
      "  at org.apache.spark.sql.catalyst.rules.RuleExecutor.$anonfun$execute$1(RuleExecutor.scala:219)",
      "  at org.apache.spark.sql.catalyst.rules.RuleExecutor.$anonfun$execute$1$adapted(RuleExecutor.scala:211)",
      "  at scala.collection.immutable.List.foreach(List.scala:431)",
      "  at org.apache.spark.sql.catalyst.rules.RuleExecutor.execute(RuleExecutor.scala:211)",
      "  at org.apache.spark.sql.catalyst.analysis.Analyzer.org$apache$spark$sql$catalyst$analysis$Analyzer$$executeSameContext(Analyzer.scala:226)",
      "  at org.apache.spark.sql.catalyst.analysis.Analyzer.$anonfun$execute$1(Analyzer.scala:222)",
      "  at org.apache.spark.sql.catalyst.analysis.AnalysisContext$.withNewAnalysisContext(Analyzer.scala:173)",
      "  at org.apache.spark.sql.catalyst.analysis.Analyzer.execute(Analyzer.scala:222)",
      "  at org.apache.spark.sql.catalyst.analysis.Analyzer.execute(Analyzer.scala:188)",
      "  at org.apache.spark.sql.catalyst.rules.RuleExecutor.$anonfun$executeAndTrack$1(RuleExecutor.scala:182)",
      "  at org.apache.spark.sql.catalyst.QueryPlanningTracker$.withTracker(QueryPlanningTracker.scala:89)",
      "  at org.apache.spark.sql.catalyst.rules.RuleExecutor.executeAndTrack(RuleExecutor.scala:182)",
      "  at org.apache.spark.sql.catalyst.analysis.Analyzer.$anonfun$executeAndCheck$1(Analyzer.scala:209)",
      "  at org.apache.spark.sql.catalyst.plans.logical.AnalysisHelper$.markInAnalyzer(AnalysisHelper.scala:330)",
      "  at org.apache.spark.sql.catalyst.analysis.Analyzer.executeAndCheck(Analyzer.scala:208)",
      "  at org.apache.spark.sql.execution.QueryExecution.$anonfun$analyzed$1(QueryExecution.scala:77)",
      "  at org.apache.spark.sql.catalyst.QueryPlanningTracker.measurePhase(QueryPlanningTracker.scala:138)",
      "  at org.apache.spark.sql.execution.QueryExecution.$anonfun$executePhase$2(QueryExecution.scala:219)",
      "  at org.apache.spark.sql.execution.QueryExecution$.withInternalError(QueryExecution.scala:546)",
      "  at org.apache.spark.sql.execution.QueryExecution.$anonfun$executePhase$1(QueryExecution.scala:219)",
      "  at org.apache.spark.sql.SparkSession.withActive(SparkSession.scala:900)",
      "  at org.apache.spark.sql.execution.QueryExecution.executePhase(QueryExecution.scala:218)",
      "  at org.apache.spark.sql.execution.QueryExecution.analyzed$lzycompute(QueryExecution.scala:77)",
      "  at org.apache.spark.sql.execution.QueryExecution.analyzed(QueryExecution.scala:74)",
      "  at org.apache.spark.sql.execution.QueryExecution.commandExecuted$lzycompute(QueryExecution.scala:85)",
      "  at org.apache.spark.sql.execution.QueryExecution.commandExecuted(QueryExecution.scala:83)",
      "  at org.apache.spark.sql.execution.QueryExecution.assertCommandExecuted(QueryExecution.scala:142)",
      "  at org.apache.spark.sql.DataFrameWriterV2.runCommand(DataFrameWriterV2.scala:196)",
      "  at org.apache.spark.sql.DataFrameWriterV2.append(DataFrameWriterV2.scala:150)",
      "  ... 42 elided",
      ""
     ]
    }
   ],
   "source": [
    "val allchangesColjsonDF =  spark.read.option(\"multiline\", \"true\").json(\"./Data/Json/meteorite_landing_change.json\")\n",
    "val flattenedallchangesDF = allchangesColjsonDF.explodeColumns\n",
    "val icedallchangedTable = flattenedallchangesDF.writeTo(\"icecatalog.mydb.meteorites\").append()"
   ]
  },
  {
   "cell_type": "markdown",
   "id": "29988dc7-228c-4ee0-922a-85ea7498e019",
   "metadata": {},
   "source": [
    "## 4.2.1 \n",
    "## From the original dataset, I have deleted one column 'meta_view_hideFromCatalog' and saved as new dataset,\n",
    "## a boolean column 'meta_view_hideFromCatalog' with value false and newBackend with value true and an integer column publicationGroup whose value is greater than 0\n",
    "## so that I can write back to iceberg table where schema is already set due to first write execution\n",
    "## Steps are - Read the json dataset with one missing column, explode it and then append it to existing iceberg table"
   ]
  },
  {
   "cell_type": "code",
   "execution_count": 16,
   "id": "97495ed3-bf52-46ac-8bf2-97f9d92b7260",
   "metadata": {},
   "outputs": [
    {
     "ename": "org.apache.spark.sql.AnalysisException",
     "evalue": " [INCOMPATIBLE_DATA_FOR_TABLE.CANNOT_FIND_DATA] Cannot write incompatible data for the table `demo`.`icecatalog`.`mydb`.`meteorites`: Cannot find data for the output column `meta_view_hideFromCatalog`.",
     "output_type": "error",
     "traceback": [
      "org.apache.spark.sql.AnalysisException: [INCOMPATIBLE_DATA_FOR_TABLE.CANNOT_FIND_DATA] Cannot write incompatible data for the table `demo`.`icecatalog`.`mydb`.`meteorites`: Cannot find data for the output column `meta_view_hideFromCatalog`.",
      "  at org.apache.spark.sql.errors.QueryCompilationErrors$.incompatibleDataToTableCannotFindDataError(QueryCompilationErrors.scala:2136)",
      "  at org.apache.spark.sql.catalyst.analysis.TableOutputResolver$.$anonfun$reorderColumnsByName$1(TableOutputResolver.scala:191)",
      "  at scala.collection.immutable.List.flatMap(List.scala:366)",
      "  at org.apache.spark.sql.catalyst.analysis.TableOutputResolver$.reorderColumnsByName(TableOutputResolver.scala:180)",
      "  at org.apache.spark.sql.catalyst.analysis.TableOutputResolver$.resolveOutputColumns(TableOutputResolver.scala:66)",
      "  at org.apache.spark.sql.catalyst.analysis.Analyzer$ResolveOutputRelation$$anonfun$apply$50.applyOrElse(Analyzer.scala:3362)",
      "  at org.apache.spark.sql.catalyst.analysis.Analyzer$ResolveOutputRelation$$anonfun$apply$50.applyOrElse(Analyzer.scala:3358)",
      "  at org.apache.spark.sql.catalyst.plans.logical.AnalysisHelper.$anonfun$resolveOperatorsDownWithPruning$2(AnalysisHelper.scala:170)",
      "  at org.apache.spark.sql.catalyst.trees.CurrentOrigin$.withOrigin(origin.scala:76)",
      "  at org.apache.spark.sql.catalyst.plans.logical.AnalysisHelper.$anonfun$resolveOperatorsDownWithPruning$1(AnalysisHelper.scala:170)",
      "  at org.apache.spark.sql.catalyst.plans.logical.AnalysisHelper$.allowInvokingTransformsInAnalyzer(AnalysisHelper.scala:323)",
      "  at org.apache.spark.sql.catalyst.plans.logical.AnalysisHelper.resolveOperatorsDownWithPruning(AnalysisHelper.scala:168)",
      "  at org.apache.spark.sql.catalyst.plans.logical.AnalysisHelper.resolveOperatorsDownWithPruning$(AnalysisHelper.scala:164)",
      "  at org.apache.spark.sql.catalyst.plans.logical.LogicalPlan.resolveOperatorsDownWithPruning(LogicalPlan.scala:32)",
      "  at org.apache.spark.sql.catalyst.plans.logical.AnalysisHelper.resolveOperatorsWithPruning(AnalysisHelper.scala:99)",
      "  at org.apache.spark.sql.catalyst.plans.logical.AnalysisHelper.resolveOperatorsWithPruning$(AnalysisHelper.scala:96)",
      "  at org.apache.spark.sql.catalyst.plans.logical.LogicalPlan.resolveOperatorsWithPruning(LogicalPlan.scala:32)",
      "  at org.apache.spark.sql.catalyst.analysis.Analyzer$ResolveOutputRelation$.apply(Analyzer.scala:3358)",
      "  at org.apache.spark.sql.catalyst.analysis.Analyzer$ResolveOutputRelation$.apply(Analyzer.scala:3356)",
      "  at org.apache.spark.sql.catalyst.rules.RuleExecutor.$anonfun$execute$2(RuleExecutor.scala:222)",
      "  at scala.collection.LinearSeqOptimized.foldLeft(LinearSeqOptimized.scala:126)",
      "  at scala.collection.LinearSeqOptimized.foldLeft$(LinearSeqOptimized.scala:122)",
      "  at scala.collection.immutable.List.foldLeft(List.scala:91)",
      "  at org.apache.spark.sql.catalyst.rules.RuleExecutor.$anonfun$execute$1(RuleExecutor.scala:219)",
      "  at org.apache.spark.sql.catalyst.rules.RuleExecutor.$anonfun$execute$1$adapted(RuleExecutor.scala:211)",
      "  at scala.collection.immutable.List.foreach(List.scala:431)",
      "  at org.apache.spark.sql.catalyst.rules.RuleExecutor.execute(RuleExecutor.scala:211)",
      "  at org.apache.spark.sql.catalyst.analysis.Analyzer.org$apache$spark$sql$catalyst$analysis$Analyzer$$executeSameContext(Analyzer.scala:226)",
      "  at org.apache.spark.sql.catalyst.analysis.Analyzer.$anonfun$execute$1(Analyzer.scala:222)",
      "  at org.apache.spark.sql.catalyst.analysis.AnalysisContext$.withNewAnalysisContext(Analyzer.scala:173)",
      "  at org.apache.spark.sql.catalyst.analysis.Analyzer.execute(Analyzer.scala:222)",
      "  at org.apache.spark.sql.catalyst.analysis.Analyzer.execute(Analyzer.scala:188)",
      "  at org.apache.spark.sql.catalyst.rules.RuleExecutor.$anonfun$executeAndTrack$1(RuleExecutor.scala:182)",
      "  at org.apache.spark.sql.catalyst.QueryPlanningTracker$.withTracker(QueryPlanningTracker.scala:89)",
      "  at org.apache.spark.sql.catalyst.rules.RuleExecutor.executeAndTrack(RuleExecutor.scala:182)",
      "  at org.apache.spark.sql.catalyst.analysis.Analyzer.$anonfun$executeAndCheck$1(Analyzer.scala:209)",
      "  at org.apache.spark.sql.catalyst.plans.logical.AnalysisHelper$.markInAnalyzer(AnalysisHelper.scala:330)",
      "  at org.apache.spark.sql.catalyst.analysis.Analyzer.executeAndCheck(Analyzer.scala:208)",
      "  at org.apache.spark.sql.execution.QueryExecution.$anonfun$analyzed$1(QueryExecution.scala:77)",
      "  at org.apache.spark.sql.catalyst.QueryPlanningTracker.measurePhase(QueryPlanningTracker.scala:138)",
      "  at org.apache.spark.sql.execution.QueryExecution.$anonfun$executePhase$2(QueryExecution.scala:219)",
      "  at org.apache.spark.sql.execution.QueryExecution$.withInternalError(QueryExecution.scala:546)",
      "  at org.apache.spark.sql.execution.QueryExecution.$anonfun$executePhase$1(QueryExecution.scala:219)",
      "  at org.apache.spark.sql.SparkSession.withActive(SparkSession.scala:900)",
      "  at org.apache.spark.sql.execution.QueryExecution.executePhase(QueryExecution.scala:218)",
      "  at org.apache.spark.sql.execution.QueryExecution.analyzed$lzycompute(QueryExecution.scala:77)",
      "  at org.apache.spark.sql.execution.QueryExecution.analyzed(QueryExecution.scala:74)",
      "  at org.apache.spark.sql.execution.QueryExecution.commandExecuted$lzycompute(QueryExecution.scala:85)",
      "  at org.apache.spark.sql.execution.QueryExecution.commandExecuted(QueryExecution.scala:83)",
      "  at org.apache.spark.sql.execution.QueryExecution.assertCommandExecuted(QueryExecution.scala:142)",
      "  at org.apache.spark.sql.DataFrameWriterV2.runCommand(DataFrameWriterV2.scala:196)",
      "  at org.apache.spark.sql.DataFrameWriterV2.append(DataFrameWriterV2.scala:150)",
      "  ... 42 elided",
      ""
     ]
    }
   ],
   "source": [
    "val deletedColjsonDF =  spark.read.option(\"multiline\", \"true\").json(\"./Data/Json/meteorite_landing_deletedmulticols.json\")\n",
    "val flatteneddeletedColJsonDF = deletedColjsonDF.explodeColumns\n",
    "val icedDeletedColTable = flatteneddeletedColJsonDF.writeTo(\"icecatalog.mydb.meteorites\").append()"
   ]
  },
  {
   "cell_type": "markdown",
   "id": "c991ec3c-702a-48d8-a085-7af2b49b4938",
   "metadata": {},
   "source": [
    "## 4.3 From the original dataset, I have updated one column (which is as good as a new column now) toand saved as new dataset, \n",
    "## so that I can write back to iceberg table where schema is already set due to first write execution\n",
    "## Updated column from meta_view_averageRating to meta_view_averageDocumentRating\n",
    "## Steps - Read the json dataset with one new column, explode it and then append it to existing iceberg table"
   ]
  },
  {
   "cell_type": "code",
   "execution_count": 17,
   "id": "68978821-9c4c-4ea9-aa30-6ce9cb1b47f8",
   "metadata": {},
   "outputs": [
    {
     "ename": "org.apache.spark.sql.AnalysisException",
     "evalue": " [INCOMPATIBLE_DATA_FOR_TABLE.CANNOT_FIND_DATA] Cannot write incompatible data for the table `demo`.`icecatalog`.`mydb`.`meteorites`: Cannot find data for the output column `meta_view_averageRating`.",
     "output_type": "error",
     "traceback": [
      "org.apache.spark.sql.AnalysisException: [INCOMPATIBLE_DATA_FOR_TABLE.CANNOT_FIND_DATA] Cannot write incompatible data for the table `demo`.`icecatalog`.`mydb`.`meteorites`: Cannot find data for the output column `meta_view_averageRating`.",
      "  at org.apache.spark.sql.errors.QueryCompilationErrors$.incompatibleDataToTableCannotFindDataError(QueryCompilationErrors.scala:2136)",
      "  at org.apache.spark.sql.catalyst.analysis.TableOutputResolver$.$anonfun$reorderColumnsByName$1(TableOutputResolver.scala:191)",
      "  at scala.collection.immutable.List.flatMap(List.scala:366)",
      "  at org.apache.spark.sql.catalyst.analysis.TableOutputResolver$.reorderColumnsByName(TableOutputResolver.scala:180)",
      "  at org.apache.spark.sql.catalyst.analysis.TableOutputResolver$.resolveOutputColumns(TableOutputResolver.scala:66)",
      "  at org.apache.spark.sql.catalyst.analysis.Analyzer$ResolveOutputRelation$$anonfun$apply$50.applyOrElse(Analyzer.scala:3362)",
      "  at org.apache.spark.sql.catalyst.analysis.Analyzer$ResolveOutputRelation$$anonfun$apply$50.applyOrElse(Analyzer.scala:3358)",
      "  at org.apache.spark.sql.catalyst.plans.logical.AnalysisHelper.$anonfun$resolveOperatorsDownWithPruning$2(AnalysisHelper.scala:170)",
      "  at org.apache.spark.sql.catalyst.trees.CurrentOrigin$.withOrigin(origin.scala:76)",
      "  at org.apache.spark.sql.catalyst.plans.logical.AnalysisHelper.$anonfun$resolveOperatorsDownWithPruning$1(AnalysisHelper.scala:170)",
      "  at org.apache.spark.sql.catalyst.plans.logical.AnalysisHelper$.allowInvokingTransformsInAnalyzer(AnalysisHelper.scala:323)",
      "  at org.apache.spark.sql.catalyst.plans.logical.AnalysisHelper.resolveOperatorsDownWithPruning(AnalysisHelper.scala:168)",
      "  at org.apache.spark.sql.catalyst.plans.logical.AnalysisHelper.resolveOperatorsDownWithPruning$(AnalysisHelper.scala:164)",
      "  at org.apache.spark.sql.catalyst.plans.logical.LogicalPlan.resolveOperatorsDownWithPruning(LogicalPlan.scala:32)",
      "  at org.apache.spark.sql.catalyst.plans.logical.AnalysisHelper.resolveOperatorsWithPruning(AnalysisHelper.scala:99)",
      "  at org.apache.spark.sql.catalyst.plans.logical.AnalysisHelper.resolveOperatorsWithPruning$(AnalysisHelper.scala:96)",
      "  at org.apache.spark.sql.catalyst.plans.logical.LogicalPlan.resolveOperatorsWithPruning(LogicalPlan.scala:32)",
      "  at org.apache.spark.sql.catalyst.analysis.Analyzer$ResolveOutputRelation$.apply(Analyzer.scala:3358)",
      "  at org.apache.spark.sql.catalyst.analysis.Analyzer$ResolveOutputRelation$.apply(Analyzer.scala:3356)",
      "  at org.apache.spark.sql.catalyst.rules.RuleExecutor.$anonfun$execute$2(RuleExecutor.scala:222)",
      "  at scala.collection.LinearSeqOptimized.foldLeft(LinearSeqOptimized.scala:126)",
      "  at scala.collection.LinearSeqOptimized.foldLeft$(LinearSeqOptimized.scala:122)",
      "  at scala.collection.immutable.List.foldLeft(List.scala:91)",
      "  at org.apache.spark.sql.catalyst.rules.RuleExecutor.$anonfun$execute$1(RuleExecutor.scala:219)",
      "  at org.apache.spark.sql.catalyst.rules.RuleExecutor.$anonfun$execute$1$adapted(RuleExecutor.scala:211)",
      "  at scala.collection.immutable.List.foreach(List.scala:431)",
      "  at org.apache.spark.sql.catalyst.rules.RuleExecutor.execute(RuleExecutor.scala:211)",
      "  at org.apache.spark.sql.catalyst.analysis.Analyzer.org$apache$spark$sql$catalyst$analysis$Analyzer$$executeSameContext(Analyzer.scala:226)",
      "  at org.apache.spark.sql.catalyst.analysis.Analyzer.$anonfun$execute$1(Analyzer.scala:222)",
      "  at org.apache.spark.sql.catalyst.analysis.AnalysisContext$.withNewAnalysisContext(Analyzer.scala:173)",
      "  at org.apache.spark.sql.catalyst.analysis.Analyzer.execute(Analyzer.scala:222)",
      "  at org.apache.spark.sql.catalyst.analysis.Analyzer.execute(Analyzer.scala:188)",
      "  at org.apache.spark.sql.catalyst.rules.RuleExecutor.$anonfun$executeAndTrack$1(RuleExecutor.scala:182)",
      "  at org.apache.spark.sql.catalyst.QueryPlanningTracker$.withTracker(QueryPlanningTracker.scala:89)",
      "  at org.apache.spark.sql.catalyst.rules.RuleExecutor.executeAndTrack(RuleExecutor.scala:182)",
      "  at org.apache.spark.sql.catalyst.analysis.Analyzer.$anonfun$executeAndCheck$1(Analyzer.scala:209)",
      "  at org.apache.spark.sql.catalyst.plans.logical.AnalysisHelper$.markInAnalyzer(AnalysisHelper.scala:330)",
      "  at org.apache.spark.sql.catalyst.analysis.Analyzer.executeAndCheck(Analyzer.scala:208)",
      "  at org.apache.spark.sql.execution.QueryExecution.$anonfun$analyzed$1(QueryExecution.scala:77)",
      "  at org.apache.spark.sql.catalyst.QueryPlanningTracker.measurePhase(QueryPlanningTracker.scala:138)",
      "  at org.apache.spark.sql.execution.QueryExecution.$anonfun$executePhase$2(QueryExecution.scala:219)",
      "  at org.apache.spark.sql.execution.QueryExecution$.withInternalError(QueryExecution.scala:546)",
      "  at org.apache.spark.sql.execution.QueryExecution.$anonfun$executePhase$1(QueryExecution.scala:219)",
      "  at org.apache.spark.sql.SparkSession.withActive(SparkSession.scala:900)",
      "  at org.apache.spark.sql.execution.QueryExecution.executePhase(QueryExecution.scala:218)",
      "  at org.apache.spark.sql.execution.QueryExecution.analyzed$lzycompute(QueryExecution.scala:77)",
      "  at org.apache.spark.sql.execution.QueryExecution.analyzed(QueryExecution.scala:74)",
      "  at org.apache.spark.sql.execution.QueryExecution.commandExecuted$lzycompute(QueryExecution.scala:85)",
      "  at org.apache.spark.sql.execution.QueryExecution.commandExecuted(QueryExecution.scala:83)",
      "  at org.apache.spark.sql.execution.QueryExecution.assertCommandExecuted(QueryExecution.scala:142)",
      "  at org.apache.spark.sql.DataFrameWriterV2.runCommand(DataFrameWriterV2.scala:196)",
      "  at org.apache.spark.sql.DataFrameWriterV2.append(DataFrameWriterV2.scala:150)",
      "  ... 41 elided",
      ""
     ]
    }
   ],
   "source": [
    "val updatedColjsonDF =  spark.read.option(\"multiline\", \"true\").json(\"./Data/Json/meteorite_landing_UpdatedCol.json\")\n",
    "val flattenedupdatedColJsonDF = updatedColjsonDF.explodeColumns\n",
    "val icedDeletedColTable = flattenedupdatedColJsonDF.writeTo(\"icecatalog.mydb.meteorites\").append()"
   ]
  },
  {
   "cell_type": "markdown",
   "id": "231b834b-20eb-4886-ad13-0dee1b13edd8",
   "metadata": {},
   "source": [
    "#### 4.4 From the original dataset, I have changed the datat type of column  and saved as new dataset, \n",
    "## so that I can write back to iceberg table where schema is already set due to first write execution\n",
    "## changed the data type of column meta_view_createdAt from string to bigint(basically removed the double quotes around the value from json data)\n",
    "## Read the json dataset with changed data type column, explode it and then append it to existing iceberg table"
   ]
  },
  {
   "cell_type": "code",
   "execution_count": 18,
   "id": "5f06306b-2ce0-49cf-8a8e-b1787dcc5bb6",
   "metadata": {},
   "outputs": [
    {
     "ename": "org.apache.spark.sql.AnalysisException",
     "evalue": " [INCOMPATIBLE_DATA_FOR_TABLE.CANNOT_SAFELY_CAST] Cannot write incompatible data for the table `demo`.`icecatalog`.`mydb`.`meteorites`: Cannot safely cast `meta_view_createdAt` \"STRING\" to \"BIGINT\".",
     "output_type": "error",
     "traceback": [
      "org.apache.spark.sql.AnalysisException: [INCOMPATIBLE_DATA_FOR_TABLE.CANNOT_SAFELY_CAST] Cannot write incompatible data for the table `demo`.`icecatalog`.`mydb`.`meteorites`: Cannot safely cast `meta_view_createdAt` \"STRING\" to \"BIGINT\".",
      "  at org.apache.spark.sql.errors.QueryCompilationErrors$.incompatibleDataToTableCannotSafelyCastError(QueryCompilationErrors.scala:2216)",
      "  at org.apache.spark.sql.catalyst.types.DataTypeUtils$.canWrite(DataTypeUtils.scala:174)",
      "  at org.apache.spark.sql.catalyst.analysis.TableOutputResolver$.canWrite(TableOutputResolver.scala:165)",
      "  at org.apache.spark.sql.catalyst.analysis.TableOutputResolver$.checkField(TableOutputResolver.scala:493)",
      "  at org.apache.spark.sql.catalyst.analysis.TableOutputResolver$.$anonfun$reorderColumnsByName$1(TableOutputResolver.scala:223)",
      "  at scala.collection.immutable.List.flatMap(List.scala:366)",
      "  at org.apache.spark.sql.catalyst.analysis.TableOutputResolver$.reorderColumnsByName(TableOutputResolver.scala:180)",
      "  at org.apache.spark.sql.catalyst.analysis.TableOutputResolver$.resolveOutputColumns(TableOutputResolver.scala:66)",
      "  at org.apache.spark.sql.catalyst.analysis.Analyzer$ResolveOutputRelation$$anonfun$apply$50.applyOrElse(Analyzer.scala:3362)",
      "  at org.apache.spark.sql.catalyst.analysis.Analyzer$ResolveOutputRelation$$anonfun$apply$50.applyOrElse(Analyzer.scala:3358)",
      "  at org.apache.spark.sql.catalyst.plans.logical.AnalysisHelper.$anonfun$resolveOperatorsDownWithPruning$2(AnalysisHelper.scala:170)",
      "  at org.apache.spark.sql.catalyst.trees.CurrentOrigin$.withOrigin(origin.scala:76)",
      "  at org.apache.spark.sql.catalyst.plans.logical.AnalysisHelper.$anonfun$resolveOperatorsDownWithPruning$1(AnalysisHelper.scala:170)",
      "  at org.apache.spark.sql.catalyst.plans.logical.AnalysisHelper$.allowInvokingTransformsInAnalyzer(AnalysisHelper.scala:323)",
      "  at org.apache.spark.sql.catalyst.plans.logical.AnalysisHelper.resolveOperatorsDownWithPruning(AnalysisHelper.scala:168)",
      "  at org.apache.spark.sql.catalyst.plans.logical.AnalysisHelper.resolveOperatorsDownWithPruning$(AnalysisHelper.scala:164)",
      "  at org.apache.spark.sql.catalyst.plans.logical.LogicalPlan.resolveOperatorsDownWithPruning(LogicalPlan.scala:32)",
      "  at org.apache.spark.sql.catalyst.plans.logical.AnalysisHelper.resolveOperatorsWithPruning(AnalysisHelper.scala:99)",
      "  at org.apache.spark.sql.catalyst.plans.logical.AnalysisHelper.resolveOperatorsWithPruning$(AnalysisHelper.scala:96)",
      "  at org.apache.spark.sql.catalyst.plans.logical.LogicalPlan.resolveOperatorsWithPruning(LogicalPlan.scala:32)",
      "  at org.apache.spark.sql.catalyst.analysis.Analyzer$ResolveOutputRelation$.apply(Analyzer.scala:3358)",
      "  at org.apache.spark.sql.catalyst.analysis.Analyzer$ResolveOutputRelation$.apply(Analyzer.scala:3356)",
      "  at org.apache.spark.sql.catalyst.rules.RuleExecutor.$anonfun$execute$2(RuleExecutor.scala:222)",
      "  at scala.collection.LinearSeqOptimized.foldLeft(LinearSeqOptimized.scala:126)",
      "  at scala.collection.LinearSeqOptimized.foldLeft$(LinearSeqOptimized.scala:122)",
      "  at scala.collection.immutable.List.foldLeft(List.scala:91)",
      "  at org.apache.spark.sql.catalyst.rules.RuleExecutor.$anonfun$execute$1(RuleExecutor.scala:219)",
      "  at org.apache.spark.sql.catalyst.rules.RuleExecutor.$anonfun$execute$1$adapted(RuleExecutor.scala:211)",
      "  at scala.collection.immutable.List.foreach(List.scala:431)",
      "  at org.apache.spark.sql.catalyst.rules.RuleExecutor.execute(RuleExecutor.scala:211)",
      "  at org.apache.spark.sql.catalyst.analysis.Analyzer.org$apache$spark$sql$catalyst$analysis$Analyzer$$executeSameContext(Analyzer.scala:226)",
      "  at org.apache.spark.sql.catalyst.analysis.Analyzer.$anonfun$execute$1(Analyzer.scala:222)",
      "  at org.apache.spark.sql.catalyst.analysis.AnalysisContext$.withNewAnalysisContext(Analyzer.scala:173)",
      "  at org.apache.spark.sql.catalyst.analysis.Analyzer.execute(Analyzer.scala:222)",
      "  at org.apache.spark.sql.catalyst.analysis.Analyzer.execute(Analyzer.scala:188)",
      "  at org.apache.spark.sql.catalyst.rules.RuleExecutor.$anonfun$executeAndTrack$1(RuleExecutor.scala:182)",
      "  at org.apache.spark.sql.catalyst.QueryPlanningTracker$.withTracker(QueryPlanningTracker.scala:89)",
      "  at org.apache.spark.sql.catalyst.rules.RuleExecutor.executeAndTrack(RuleExecutor.scala:182)",
      "  at org.apache.spark.sql.catalyst.analysis.Analyzer.$anonfun$executeAndCheck$1(Analyzer.scala:209)",
      "  at org.apache.spark.sql.catalyst.plans.logical.AnalysisHelper$.markInAnalyzer(AnalysisHelper.scala:330)",
      "  at org.apache.spark.sql.catalyst.analysis.Analyzer.executeAndCheck(Analyzer.scala:208)",
      "  at org.apache.spark.sql.execution.QueryExecution.$anonfun$analyzed$1(QueryExecution.scala:77)",
      "  at org.apache.spark.sql.catalyst.QueryPlanningTracker.measurePhase(QueryPlanningTracker.scala:138)",
      "  at org.apache.spark.sql.execution.QueryExecution.$anonfun$executePhase$2(QueryExecution.scala:219)",
      "  at org.apache.spark.sql.execution.QueryExecution$.withInternalError(QueryExecution.scala:546)",
      "  at org.apache.spark.sql.execution.QueryExecution.$anonfun$executePhase$1(QueryExecution.scala:219)",
      "  at org.apache.spark.sql.SparkSession.withActive(SparkSession.scala:900)",
      "  at org.apache.spark.sql.execution.QueryExecution.executePhase(QueryExecution.scala:218)",
      "  at org.apache.spark.sql.execution.QueryExecution.analyzed$lzycompute(QueryExecution.scala:77)",
      "  at org.apache.spark.sql.execution.QueryExecution.analyzed(QueryExecution.scala:74)",
      "  at org.apache.spark.sql.execution.QueryExecution.commandExecuted$lzycompute(QueryExecution.scala:85)",
      "  at org.apache.spark.sql.execution.QueryExecution.commandExecuted(QueryExecution.scala:83)",
      "  at org.apache.spark.sql.execution.QueryExecution.assertCommandExecuted(QueryExecution.scala:142)",
      "  at org.apache.spark.sql.DataFrameWriterV2.runCommand(DataFrameWriterV2.scala:196)",
      "  at org.apache.spark.sql.DataFrameWriterV2.append(DataFrameWriterV2.scala:150)",
      "  ... 41 elided",
      ""
     ]
    }
   ],
   "source": [
    "val deletedColjsonDF =  spark.read.option(\"multiline\", \"true\").json(\"./Data/Json/meteorite_landing_changeDT.json\")\n",
    "val flatteneddeletedColJsonDF = deletedColjsonDF.explodeColumns\n",
    "val icedDeletedColTable = flatteneddeletedColJsonDF.writeTo(\"icecatalog.mydb.meteorites\").append()"
   ]
  },
  {
   "cell_type": "markdown",
   "id": "b3c89873-a69a-4484-96e6-7c9e7b4893c7",
   "metadata": {},
   "source": [
    "## 5.0 SCHEMA EVOLUTION TEST(actually) BEGINS HERE \n",
    "## Original Source : https://iceberg.apache.org/docs/latest/spark-writes/#schema-merge\n",
    "## Set the table property to accept any schema as per the above apache documentation source before \n",
    "\n",
    "## The documentation from above link states below\n",
    "## Schema Merge🔗\n",
    "## While inserting or updating Iceberg is capable of resolving schema mismatch at runtime. \n",
    "## If configured, Iceberg will perform an automatic schema evolution as follows:\n",
    "## A new column is present in the source but not in the target table.\n",
    "## The new column is added to the target table. Column values are set to NULL in all the rows already present in the table\n",
    "## A column is present in the target but not in the source.\n",
    "## The target column value is set to NULL when inserting or left unchanged when updating the row.\n",
    "## The target table must be configured to accept any schema change by setting the property write.spark.accept-any-schema to true."
   ]
  },
  {
   "cell_type": "code",
   "execution_count": 19,
   "id": "04e5603e-68d3-42ce-ab57-b4c48cbd0b5d",
   "metadata": {},
   "outputs": [
    {
     "data": {
      "text/plain": [
       "res9: org.apache.spark.sql.DataFrame = []\n"
      ]
     },
     "execution_count": 19,
     "metadata": {},
     "output_type": "execute_result"
    }
   ],
   "source": [
    "spark.sql(\"ALTER TABLE icecatalog.mydb.meteorites SET TBLPROPERTIES ('write.spark.accept-any-schema'='true')\")"
   ]
  },
  {
   "cell_type": "markdown",
   "id": "a262d433-5c7e-4b62-841c-0f7cd8bce4e6",
   "metadata": {},
   "source": [
    "## 5.1 This step is same as 4.1, I am using the dataset where all changes (add, delete, data type change) exist  \n",
    "## so that I can write back to the iceberg table where the schema is already set due to the first write execution\n",
    "## New columns : Added a new string column meta_view_approvals_documentVersion, boolean column documentReviewed and updated(equivalent to new) integer col from meta_view_averageRating to  meta_view_averageDocumentRating\n",
    "## Deleted column : meta_view_hideFromCatalog\n",
    "## Read the JSON dataset with the changed data type column, explode it, and then append it to the existing iceberg table"
   ]
  },
  {
   "cell_type": "code",
   "execution_count": 20,
   "id": "5c1c4131-16d5-4baa-8db0-cd5c4a8f6bb9",
   "metadata": {},
   "outputs": [
    {
     "ename": "java.lang.IllegalArgumentException",
     "evalue": " Cannot write incompatible dataset to table with schema:",
     "output_type": "error",
     "traceback": [
      "java.lang.IllegalArgumentException: Cannot write incompatible dataset to table with schema:",
      "table {",
      "  1: data: optional string",
      "  2: meta_view_approvals_reviewedAt: optional long",
      "  3: meta_view_approvals_reviewedAutomatically: optional boolean",
      "  4: meta_view_approvals_state: optional string",
      "  5: meta_view_approvals_submissionDetails_permissionType: optional string",
      "  6: meta_view_approvals_submissionId: optional long",
      "  7: meta_view_approvals_submissionObject: optional string",
      "  8: meta_view_approvals_submissionOutcome: optional string",
      "  9: meta_view_approvals_submissionOutcomeApplication_failureCount: optional long",
      "  10: meta_view_approvals_submissionOutcomeApplication_status: optional string",
      "  11: meta_view_approvals_submittedAt: optional long",
      "  12: meta_view_approvals_submitter_displayName: optional string",
      "  13: meta_view_approvals_submitter_id: optional string",
      "  14: meta_view_approvals_targetAudience: optional string",
      "  15: meta_view_approvals_workflowId: optional long",
      "  16: meta_view_assetType: optional string",
      "  17: meta_view_attributionLink: optional string",
      "  18: meta_view_averageRating: optional long",
      "  19: meta_view_category: optional string",
      "  20: meta_view_clientContext_clientContextVariables: optional string",
      "  21: meta_view_columns_cachedContents_average: optional string",
      "  22: meta_view_columns_cachedContents_cardinality: optional string",
      "  23: meta_view_columns_cachedContents_count: optional string",
      "  24: meta_view_columns_cachedContents_largest: optional string",
      "  25: meta_view_columns_cachedContents_non_null: optional string",
      "  26: meta_view_columns_cachedContents_null: optional string",
      "  27: meta_view_columns_cachedContents_smallest: optional string",
      "  28: meta_view_columns_cachedContents_sum: optional string",
      "  29: meta_view_columns_cachedContents_top_count: optional string",
      "  30: meta_view_columns_cachedContents_top_item: optional string",
      "  31: meta_view_columns_computationStrategy_parameters_primary_key: optional string",
      "  32: meta_view_columns_computationStrategy_parameters_region: optional string",
      "  33: meta_view_columns_computationStrategy_source_columns: optional string",
      "  34: meta_view_columns_computationStrategy_type: optional string",
      "  35: meta_view_columns_dataTypeName: optional string",
      "  36: meta_view_columns_description: optional string",
      "  37: meta_view_columns_fieldName: optional string",
      "  38: meta_view_columns_flags: optional string",
      "  39: meta_view_columns_format_align: optional string",
      "  40: meta_view_columns_format_noCommas: optional string",
      "  41: meta_view_columns_format_precisionStyle: optional string",
      "  42: meta_view_columns_format_view: optional string",
      "  43: meta_view_columns_id: optional long",
      "  44: meta_view_columns_name: optional string",
      "  45: meta_view_columns_position: optional long",
      "  46: meta_view_columns_renderTypeName: optional string",
      "  47: meta_view_columns_tableColumnId: optional long",
      "  48: meta_view_columns_width: optional long",
      "  49: meta_view_createdAt: optional long",
      "  50: meta_view_description: optional string",
      "  51: meta_view_displayType: optional string",
      "  52: meta_view_downloadCount: optional long",
      "  53: meta_view_flags: optional string",
      "  54: meta_view_grants_flags: optional string",
      "  55: meta_view_grants_inherited: optional boolean",
      "  56: meta_view_grants_type: optional string",
      "  57: meta_view_hideFromCatalog: optional boolean",
      "  58: meta_view_hideFromDataJson: optional boolean",
      "  59: meta_view_id: optional string",
      "  60: meta_view_indexUpdatedAt: optional long",
      "  61: meta_view_locked: optional boolean",
      "  62: meta_view_metadata_custom_fields_Common Core_Bureau Code: optional string",
      "  63: meta_view_metadata_custom_fields_Common Core_Program Code: optional string",
      "  64: meta_view_metadata_rdfClass: optional string",
      "  65: meta_view_metadata_rdfSubject: optional string",
      "  66: meta_view_metadata_rowIdentifier: optional string",
      "  67: meta_view_metadata_rowLabel: optional string",
      "  68: meta_view_name: optional string",
      "  69: meta_view_newBackend: optional boolean",
      "  70: meta_view_numberOfComments: optional long",
      "  71: meta_view_oid: optional long",
      "  72: meta_view_owner_displayName: optional string",
      "  73: meta_view_owner_flags: optional string",
      "  74: meta_view_owner_id: optional string",
      "  75: meta_view_owner_profileImageUrlLarge: optional string",
      "  76: meta_view_owner_profileImageUrlMedium: optional string",
      "  77: meta_view_owner_profileImageUrlSmall: optional string",
      "  78: meta_view_owner_screenName: optional string",
      "  79: meta_view_owner_type: optional string",
      "  80: meta_view_provenance: optional string",
      "  81: meta_view_publicationAppendEnabled: optional boolean",
      "  82: meta_view_publicationDate: optional long",
      "  83: meta_view_publicationGroup: optional long",
      "  84: meta_view_publicationStage: optional string",
      "  85: meta_view_rights: optional string",
      "  86: meta_view_rowClass: optional string",
      "  87: meta_view_rowsUpdatedAt: optional long",
      "  88: meta_view_rowsUpdatedBy: optional string",
      "  89: meta_view_tableAuthor_displayName: optional string",
      "  90: meta_view_tableAuthor_flags: optional string",
      "  91: meta_view_tableAuthor_id: optional string",
      "  92: meta_view_tableAuthor_profileImageUrlLarge: optional string",
      "  93: meta_view_tableAuthor_profileImageUrlMedium: optional string",
      "  94: meta_view_tableAuthor_profileImageUrlSmall: optional string",
      "  95: meta_view_tableAuthor_screenName: optional string",
      "  96: meta_view_tableAuthor_type: optional string",
      "  97: meta_view_tableId: optional long",
      "  98: meta_view_tags: optional string",
      "  99: meta_view_totalTimesRated: optional long",
      "  100: meta_view_viewCount: optional long",
      "  101: meta_view_viewLastModified: optional long",
      "  102: meta_view_viewType: optional string",
      "  103: meta_view_approvals_documentVersion: optional string",
      "  104: meta_view_averageDocumentRating: optional long",
      "  105: meta_view_columns_documentchangecount: optional long",
      "  106: meta_view_documentReviewed: optional boolean",
      "}",
      "Provided schema:",
      "table {",
      "  1: data: optional string",
      "  103: meta_view_approvals_documentVersion: optional string",
      "  2: meta_view_approvals_reviewedAt: optional long",
      "  3: meta_view_approvals_reviewedAutomatically: optional boolean",
      "  4: meta_view_approvals_state: optional string",
      "  5: meta_view_approvals_submissionDetails_permissionType: optional string",
      "  6: meta_view_approvals_submissionId: optional long",
      "  7: meta_view_approvals_submissionObject: optional string",
      "  8: meta_view_approvals_submissionOutcome: optional string",
      "  9: meta_view_approvals_submissionOutcomeApplication_failureCount: optional long",
      "  10: meta_view_approvals_submissionOutcomeApplication_status: optional string",
      "  11: meta_view_approvals_submittedAt: optional long",
      "  12: meta_view_approvals_submitter_displayName: optional string",
      "  13: meta_view_approvals_submitter_id: optional string",
      "  14: meta_view_approvals_targetAudience: optional string",
      "  15: meta_view_approvals_workflowId: optional long",
      "  16: meta_view_assetType: optional string",
      "  17: meta_view_attributionLink: optional string",
      "  104: meta_view_averageDocumentRating: optional long",
      "  19: meta_view_category: optional string",
      "  20: meta_view_clientContext_clientContextVariables: optional string",
      "  21: meta_view_columns_cachedContents_average: optional string",
      "  22: meta_view_columns_cachedContents_cardinality: optional string",
      "  23: meta_view_columns_cachedContents_count: optional string",
      "  24: meta_view_columns_cachedContents_largest: optional string",
      "  25: meta_view_columns_cachedContents_non_null: optional string",
      "  26: meta_view_columns_cachedContents_null: optional string",
      "  27: meta_view_columns_cachedContents_smallest: optional string",
      "  28: meta_view_columns_cachedContents_sum: optional string",
      "  29: meta_view_columns_cachedContents_top_count: optional string",
      "  30: meta_view_columns_cachedContents_top_item: optional string",
      "  31: meta_view_columns_computationStrategy_parameters_primary_key: optional string",
      "  32: meta_view_columns_computationStrategy_parameters_region: optional string",
      "  33: meta_view_columns_computationStrategy_source_columns: optional string",
      "  34: meta_view_columns_computationStrategy_type: optional string",
      "  35: meta_view_columns_dataTypeName: optional string",
      "  36: meta_view_columns_description: optional string",
      "  105: meta_view_columns_documentchangecount: optional long",
      "  37: meta_view_columns_fieldName: optional string",
      "  38: meta_view_columns_flags: optional string",
      "  39: meta_view_columns_format_align: optional string",
      "  40: meta_view_columns_format_noCommas: optional string",
      "  41: meta_view_columns_format_precisionStyle: optional string",
      "  42: meta_view_columns_format_view: optional string",
      "  43: meta_view_columns_id: optional long",
      "  44: meta_view_columns_name: optional string",
      "  45: meta_view_columns_position: optional long",
      "  46: meta_view_columns_renderTypeName: optional string",
      "  47: meta_view_columns_tableColumnId: optional long",
      "  48: meta_view_columns_width: optional long",
      "  49: meta_view_createdAt: optional long",
      "  50: meta_view_description: optional string",
      "  51: meta_view_displayType: optional string",
      "  106: meta_view_documentReviewed: optional boolean",
      "  52: meta_view_downloadCount: optional long",
      "  53: meta_view_flags: optional string",
      "  54: meta_view_grants_flags: optional string",
      "  55: meta_view_grants_inherited: optional boolean",
      "  56: meta_view_grants_type: optional string",
      "  58: meta_view_hideFromDataJson: optional boolean",
      "  59: meta_view_id: optional string",
      "  60: meta_view_indexUpdatedAt: optional long",
      "  61: meta_view_locked: optional boolean",
      "  62: meta_view_metadata_custom_fields_Common Core_Bureau Code: optional string",
      "  63: meta_view_metadata_custom_fields_Common Core_Program Code: optional string",
      "  64: meta_view_metadata_rdfClass: optional string",
      "  65: meta_view_metadata_rdfSubject: optional string",
      "  66: meta_view_metadata_rowIdentifier: optional string",
      "  67: meta_view_metadata_rowLabel: optional string",
      "  68: meta_view_name: optional string",
      "  69: meta_view_newBackend: optional boolean",
      "  70: meta_view_numberOfComments: optional long",
      "  71: meta_view_oid: optional long",
      "  72: meta_view_owner_displayName: optional string",
      "  73: meta_view_owner_flags: optional string",
      "  74: meta_view_owner_id: optional string",
      "  75: meta_view_owner_profileImageUrlLarge: optional string",
      "  76: meta_view_owner_profileImageUrlMedium: optional string",
      "  77: meta_view_owner_profileImageUrlSmall: optional string",
      "  78: meta_view_owner_screenName: optional string",
      "  79: meta_view_owner_type: optional string",
      "  80: meta_view_provenance: optional string",
      "  81: meta_view_publicationAppendEnabled: optional boolean",
      "  82: meta_view_publicationDate: optional long",
      "  83: meta_view_publicationGroup: optional long",
      "  84: meta_view_publicationStage: optional string",
      "  85: meta_view_rights: optional string",
      "  86: meta_view_rowClass: optional string",
      "  87: meta_view_rowsUpdatedAt: optional long",
      "  88: meta_view_rowsUpdatedBy: optional string",
      "  89: meta_view_tableAuthor_displayName: optional string",
      "  90: meta_view_tableAuthor_flags: optional string",
      "  91: meta_view_tableAuthor_id: optional string",
      "  92: meta_view_tableAuthor_profileImageUrlLarge: optional string",
      "  93: meta_view_tableAuthor_profileImageUrlMedium: optional string",
      "  94: meta_view_tableAuthor_profileImageUrlSmall: optional string",
      "  95: meta_view_tableAuthor_screenName: optional string",
      "  96: meta_view_tableAuthor_type: optional string",
      "  97: meta_view_tableId: optional long",
      "  98: meta_view_tags: optional string",
      "  99: meta_view_totalTimesRated: optional long",
      "  100: meta_view_viewCount: optional long",
      "  101: meta_view_viewLastModified: optional long",
      "  102: meta_view_viewType: optional string",
      "}",
      "Problems:",
      "* meta_view_approvals_documentVersion is out of order, before meta_view_viewType",
      "  at org.apache.iceberg.types.TypeUtil.checkSchemaCompatibility(TypeUtil.java:453)",
      "  at org.apache.iceberg.types.TypeUtil.validateWriteSchema(TypeUtil.java:402)",
      "  at org.apache.iceberg.spark.source.SparkWriteBuilder.validateOrMergeWriteSchema(SparkWriteBuilder.java:189)",
      "  at org.apache.iceberg.spark.source.SparkWriteBuilder.build(SparkWriteBuilder.java:120)",
      "  at org.apache.spark.sql.execution.datasources.v2.V2Writes$$anonfun$apply$1.applyOrElse(V2Writes.scala:47)",
      "  at org.apache.spark.sql.execution.datasources.v2.V2Writes$$anonfun$apply$1.applyOrElse(V2Writes.scala:44)",
      "  at org.apache.spark.sql.catalyst.trees.TreeNode.$anonfun$transformDownWithPruning$1(TreeNode.scala:461)",
      "  at org.apache.spark.sql.catalyst.trees.CurrentOrigin$.withOrigin(origin.scala:76)",
      "  at org.apache.spark.sql.catalyst.trees.TreeNode.transformDownWithPruning(TreeNode.scala:461)",
      "  at org.apache.spark.sql.catalyst.plans.logical.LogicalPlan.org$apache$spark$sql$catalyst$plans$logical$AnalysisHelper$$super$transformDownWithPruning(LogicalPlan.scala:32)",
      "  at org.apache.spark.sql.catalyst.plans.logical.AnalysisHelper.transformDownWithPruning(AnalysisHelper.scala:267)",
      "  at org.apache.spark.sql.catalyst.plans.logical.AnalysisHelper.transformDownWithPruning$(AnalysisHelper.scala:263)",
      "  at org.apache.spark.sql.catalyst.plans.logical.LogicalPlan.transformDownWithPruning(LogicalPlan.scala:32)",
      "  at org.apache.spark.sql.catalyst.plans.logical.LogicalPlan.transformDownWithPruning(LogicalPlan.scala:32)",
      "  at org.apache.spark.sql.catalyst.trees.TreeNode.transformDown(TreeNode.scala:437)",
      "  at org.apache.spark.sql.execution.datasources.v2.V2Writes$.apply(V2Writes.scala:44)",
      "  at org.apache.spark.sql.execution.datasources.v2.V2Writes$.apply(V2Writes.scala:40)",
      "  at org.apache.spark.sql.catalyst.rules.RuleExecutor.$anonfun$execute$2(RuleExecutor.scala:222)",
      "  at scala.collection.LinearSeqOptimized.foldLeft(LinearSeqOptimized.scala:126)",
      "  at scala.collection.LinearSeqOptimized.foldLeft$(LinearSeqOptimized.scala:122)",
      "  at scala.collection.immutable.List.foldLeft(List.scala:91)",
      "  at org.apache.spark.sql.catalyst.rules.RuleExecutor.$anonfun$execute$1(RuleExecutor.scala:219)",
      "  at org.apache.spark.sql.catalyst.rules.RuleExecutor.$anonfun$execute$1$adapted(RuleExecutor.scala:211)",
      "  at scala.collection.immutable.List.foreach(List.scala:431)",
      "  at org.apache.spark.sql.catalyst.rules.RuleExecutor.execute(RuleExecutor.scala:211)",
      "  at org.apache.spark.sql.catalyst.rules.RuleExecutor.$anonfun$executeAndTrack$1(RuleExecutor.scala:182)",
      "  at org.apache.spark.sql.catalyst.QueryPlanningTracker$.withTracker(QueryPlanningTracker.scala:89)",
      "  at org.apache.spark.sql.catalyst.rules.RuleExecutor.executeAndTrack(RuleExecutor.scala:182)",
      "  at org.apache.spark.sql.execution.QueryExecution.$anonfun$optimizedPlan$1(QueryExecution.scala:152)",
      "  at org.apache.spark.sql.catalyst.QueryPlanningTracker.measurePhase(QueryPlanningTracker.scala:138)",
      "  at org.apache.spark.sql.execution.QueryExecution.$anonfun$executePhase$2(QueryExecution.scala:219)",
      "  at org.apache.spark.sql.execution.QueryExecution$.withInternalError(QueryExecution.scala:546)",
      "  at org.apache.spark.sql.execution.QueryExecution.$anonfun$executePhase$1(QueryExecution.scala:219)",
      "  at org.apache.spark.sql.SparkSession.withActive(SparkSession.scala:900)",
      "  at org.apache.spark.sql.execution.QueryExecution.executePhase(QueryExecution.scala:218)",
      "  at org.apache.spark.sql.execution.QueryExecution.optimizedPlan$lzycompute(QueryExecution.scala:148)",
      "  at org.apache.spark.sql.execution.QueryExecution.optimizedPlan(QueryExecution.scala:144)",
      "  at org.apache.spark.sql.execution.QueryExecution.assertOptimized(QueryExecution.scala:162)",
      "  at org.apache.spark.sql.execution.QueryExecution.executedPlan$lzycompute(QueryExecution.scala:182)",
      "  at org.apache.spark.sql.execution.QueryExecution.executedPlan(QueryExecution.scala:179)",
      "  at org.apache.spark.sql.execution.SQLExecution$.$anonfun$withNewExecutionId$6(SQLExecution.scala:120)",
      "  at org.apache.spark.sql.execution.SQLExecution$.withSQLConfPropagated(SQLExecution.scala:201)",
      "  at org.apache.spark.sql.execution.SQLExecution$.$anonfun$withNewExecutionId$1(SQLExecution.scala:108)",
      "  at org.apache.spark.sql.SparkSession.withActive(SparkSession.scala:900)",
      "  at org.apache.spark.sql.execution.SQLExecution$.withNewExecutionId(SQLExecution.scala:66)",
      "  at org.apache.spark.sql.execution.QueryExecution$$anonfun$eagerlyExecuteCommands$1.applyOrElse(QueryExecution.scala:107)",
      "  at org.apache.spark.sql.execution.QueryExecution$$anonfun$eagerlyExecuteCommands$1.applyOrElse(QueryExecution.scala:98)",
      "  at org.apache.spark.sql.catalyst.trees.TreeNode.$anonfun$transformDownWithPruning$1(TreeNode.scala:461)",
      "  at org.apache.spark.sql.catalyst.trees.CurrentOrigin$.withOrigin(origin.scala:76)",
      "  at org.apache.spark.sql.catalyst.trees.TreeNode.transformDownWithPruning(TreeNode.scala:461)",
      "  at org.apache.spark.sql.catalyst.plans.logical.LogicalPlan.org$apache$spark$sql$catalyst$plans$logical$AnalysisHelper$$super$transformDownWithPruning(LogicalPlan.scala:32)",
      "  at org.apache.spark.sql.catalyst.plans.logical.AnalysisHelper.transformDownWithPruning(AnalysisHelper.scala:267)",
      "  at org.apache.spark.sql.catalyst.plans.logical.AnalysisHelper.transformDownWithPruning$(AnalysisHelper.scala:263)",
      "  at org.apache.spark.sql.catalyst.plans.logical.LogicalPlan.transformDownWithPruning(LogicalPlan.scala:32)",
      "  at org.apache.spark.sql.catalyst.plans.logical.LogicalPlan.transformDownWithPruning(LogicalPlan.scala:32)",
      "  at org.apache.spark.sql.catalyst.trees.TreeNode.transformDown(TreeNode.scala:437)",
      "  at org.apache.spark.sql.execution.QueryExecution.eagerlyExecuteCommands(QueryExecution.scala:98)",
      "  at org.apache.spark.sql.execution.QueryExecution.commandExecuted$lzycompute(QueryExecution.scala:85)",
      "  at org.apache.spark.sql.execution.QueryExecution.commandExecuted(QueryExecution.scala:83)",
      "  at org.apache.spark.sql.execution.QueryExecution.assertCommandExecuted(QueryExecution.scala:142)",
      "  at org.apache.spark.sql.DataFrameWriterV2.runCommand(DataFrameWriterV2.scala:196)",
      "  at org.apache.spark.sql.DataFrameWriterV2.append(DataFrameWriterV2.scala:150)",
      "  ... 41 elided",
      ""
     ]
    }
   ],
   "source": [
    "val allschemchangesDF =  spark.read.option(\"multiline\", \"true\").json(\"./Data/Json/meteorite_landing_change.json\")\n",
    "val allschemchangesFlatDF = allschemchangesDF.explodeColumns\n",
    "val allschemchangesIcedTable = allschemchangesFlatDF.writeTo(\"icecatalog.mydb.meteorites\").option(\"mergeSchema\",\"true\").append()"
   ]
  },
  {
   "cell_type": "markdown",
   "id": "4d1ba861-3e5c-43eb-b707-7472ea585ac7",
   "metadata": {},
   "source": [
    "## 5.2.1 This step is similar to 4.2\n",
    "## From the original dataset, I have deleted three columns of different datatype and saved as new dataset\n",
    "## a boolean column 'meta_view_hideFromCatalog' with value false and newBackend with value true and an integer column publicationGroup whose value is greater than 0\n",
    "## so that I can write back to iceberg table where schema is already set due to first write execution\n",
    "## Read the json dataset with one missing column, explode it and then append it to existing iceberg table"
   ]
  },
  {
   "cell_type": "code",
   "execution_count": 1,
   "id": "e620c22e-ca59-4a8f-975b-6896b4d49857",
   "metadata": {},
   "outputs": [
    {
     "data": {
      "text/plain": [
       "Intitializing Scala interpreter ..."
      ]
     },
     "metadata": {},
     "output_type": "display_data"
    },
    {
     "data": {
      "text/plain": [
       "Spark Web UI available at http://bc18817f1332:4045\n",
       "SparkContext available as 'sc' (version = 3.5.1, master = local[*], app id = local-1720471709248)\n",
       "SparkSession available as 'spark'\n"
      ]
     },
     "metadata": {},
     "output_type": "display_data"
    },
    {
     "data": {
      "text/plain": [
       "allschemchangesDelDF: org.apache.spark.sql.DataFrame = [data: array<array<string>>, meta: struct<view: struct<approvals: array<struct<reviewedAt:bigint,reviewedAutomatically:boolean,state:string,submissionDetails:struct<permissionType:string>,submissionId:bigint,submissionObject:string,submissionOutcome:string,submissionOutcomeApplication:struct<failureCount:bigint,status:string>,submittedAt:bigint,submitter:struct<displayName:string,id:string>,targetAudience:string,workflowId:bigint>>, assetType: string ... 35 more fields>>]\n"
      ]
     },
     "execution_count": 1,
     "metadata": {},
     "output_type": "execute_result"
    }
   ],
   "source": [
    "val allschemchangesDelDF =  spark.read.option(\"multiline\", \"true\").json(\"./Data/Json/meteorite_landing_deletedmulticols.json\")"
   ]
  },
  {
   "cell_type": "code",
   "execution_count": 4,
   "id": "94ded07b-f562-4e8f-ae57-3b6ee8448703",
   "metadata": {},
   "outputs": [
    {
     "data": {
      "text/plain": [
       "allschemchangesDelFlatDF: org.apache.spark.sql.DataFrame = [data: string, meta_view_approvals_reviewedAt: bigint ... 97 more fields]\n"
      ]
     },
     "execution_count": 4,
     "metadata": {},
     "output_type": "execute_result"
    }
   ],
   "source": [
    "val allschemchangesDelFlatDF = allschemchangesDelDF.explodeColumns"
   ]
  },
  {
   "cell_type": "code",
   "execution_count": null,
   "id": "c2e79f51-f127-4952-a0fb-154b5a55abd6",
   "metadata": {},
   "outputs": [],
   "source": [
    "val allschemchangesDelIcedTable = allschemchangesDelFlatDF.writeTo(\"icecatalog.mydb.meteorites\").option(\"mergeSchema\",\"true\").append()"
   ]
  },
  {
   "cell_type": "markdown",
   "id": "025a1abf-9e4c-47f2-a225-b9885f79340f",
   "metadata": {},
   "source": [
    "## 5.2.2 Since the deletion works or atleast appended without any errors, its worth checking how the table schema looks now."
   ]
  },
  {
   "cell_type": "code",
   "execution_count": null,
   "id": "dc5759ce-7aeb-4370-ba7a-96aabc945318",
   "metadata": {},
   "outputs": [],
   "source": [
    "val icedmeteorCheckTable = spark.read.format(\"iceberg\").load(\"icecatalog.mydb.meteorites\")\n",
    "icedmeteorCheckTable.printSchema"
   ]
  },
  {
   "cell_type": "markdown",
   "id": "2c0e6c46-fe95-4f28-892a-5b78534ec378",
   "metadata": {},
   "source": [
    "## 4.2.3 Verify the count as the data is succesfully appended, it should be exactly twice the earlier result checked at 3.3"
   ]
  },
  {
   "cell_type": "code",
   "execution_count": null,
   "id": "7b3ba3af-b4b7-472a-9d55-74f2b5be6dcd",
   "metadata": {},
   "outputs": [],
   "source": [
    "icedmeteorCheckTable.count()"
   ]
  },
  {
   "cell_type": "markdown",
   "id": "1f23b979-919a-4c56-98cd-78eb199a39ff",
   "metadata": {},
   "source": [
    "## 4.2.4 Verify the columsn count as one column is deleted now"
   ]
  },
  {
   "cell_type": "code",
   "execution_count": null,
   "id": "ab1c390d-736f-4b8e-8c13-ad86263dcc75",
   "metadata": {},
   "outputs": [],
   "source": [
    "icedmeteorCheckTable.columns.length"
   ]
  },
  {
   "cell_type": "code",
   "execution_count": null,
   "id": "371c60ae-4f7f-4f62-b3df-580697d2f461",
   "metadata": {},
   "outputs": [],
   "source": [
    "icedmeteorCheckTable.select(\"meta_view_hideFromCatalog\",\"meta_view_newBackend\",\"meta_view_publicationGroup\").head(10)"
   ]
  },
  {
   "cell_type": "code",
   "execution_count": null,
   "id": "1bc33fe6-5c7c-4aed-ab64-b011489e609c",
   "metadata": {},
   "outputs": [],
   "source": [
    "icedmeteorCheckTable.select(\"meta_view_hideFromCatalog\",\"meta_view_newBackend\",\"meta_view_publicationGroup\").tail(10)"
   ]
  },
  {
   "cell_type": "markdown",
   "id": "63dc3092-30a5-4195-b8d0-51115b423159",
   "metadata": {},
   "source": [
    "## 5.3 This step is same and using same dataset as 4.3\n",
    "## From the original dataset, I have updated one column (which is as good as a new column now) toand saved as new dataset, \n",
    "## so that I can write back to iceberg table where schema is already set due to first write execution\n",
    "## Updated column from meta_view_averageRating to meta_view_averageDocumentRating\n",
    "## Steps - Read the json dataset with one new column, explode it and then append it to existing iceberg table"
   ]
  },
  {
   "cell_type": "code",
   "execution_count": 5,
   "id": "45db001a-65a3-4bc9-871a-80bfef5ae67e",
   "metadata": {},
   "outputs": [
    {
     "ename": "java.lang.IllegalArgumentException",
     "evalue": " Cannot write incompatible dataset to table with schema:",
     "output_type": "error",
     "traceback": [
      "java.lang.IllegalArgumentException: Cannot write incompatible dataset to table with schema:",
      "table {",
      "  1: data: optional string",
      "  2: meta_view_approvals_reviewedAt: optional long",
      "  3: meta_view_approvals_reviewedAutomatically: optional boolean",
      "  4: meta_view_approvals_state: optional string",
      "  5: meta_view_approvals_submissionDetails_permissionType: optional string",
      "  6: meta_view_approvals_submissionId: optional long",
      "  7: meta_view_approvals_submissionObject: optional string",
      "  8: meta_view_approvals_submissionOutcome: optional string",
      "  9: meta_view_approvals_submissionOutcomeApplication_failureCount: optional long",
      "  10: meta_view_approvals_submissionOutcomeApplication_status: optional string",
      "  11: meta_view_approvals_submittedAt: optional long",
      "  12: meta_view_approvals_submitter_displayName: optional string",
      "  13: meta_view_approvals_submitter_id: optional string",
      "  14: meta_view_approvals_targetAudience: optional string",
      "  15: meta_view_approvals_workflowId: optional long",
      "  16: meta_view_assetType: optional string",
      "  17: meta_view_attributionLink: optional string",
      "  18: meta_view_averageRating: optional long",
      "  19: meta_view_category: optional string",
      "  20: meta_view_clientContext_clientContextVariables: optional string",
      "  21: meta_view_columns_cachedContents_average: optional string",
      "  22: meta_view_columns_cachedContents_cardinality: optional string",
      "  23: meta_view_columns_cachedContents_count: optional string",
      "  24: meta_view_columns_cachedContents_largest: optional string",
      "  25: meta_view_columns_cachedContents_non_null: optional string",
      "  26: meta_view_columns_cachedContents_null: optional string",
      "  27: meta_view_columns_cachedContents_smallest: optional string",
      "  28: meta_view_columns_cachedContents_sum: optional string",
      "  29: meta_view_columns_cachedContents_top_count: optional string",
      "  30: meta_view_columns_cachedContents_top_item: optional string",
      "  31: meta_view_columns_computationStrategy_parameters_primary_key: optional string",
      "  32: meta_view_columns_computationStrategy_parameters_region: optional string",
      "  33: meta_view_columns_computationStrategy_source_columns: optional string",
      "  34: meta_view_columns_computationStrategy_type: optional string",
      "  35: meta_view_columns_dataTypeName: optional string",
      "  36: meta_view_columns_description: optional string",
      "  37: meta_view_columns_fieldName: optional string",
      "  38: meta_view_columns_flags: optional string",
      "  39: meta_view_columns_format_align: optional string",
      "  40: meta_view_columns_format_noCommas: optional string",
      "  41: meta_view_columns_format_precisionStyle: optional string",
      "  42: meta_view_columns_format_view: optional string",
      "  43: meta_view_columns_id: optional long",
      "  44: meta_view_columns_name: optional string",
      "  45: meta_view_columns_position: optional long",
      "  46: meta_view_columns_renderTypeName: optional string",
      "  47: meta_view_columns_tableColumnId: optional long",
      "  48: meta_view_columns_width: optional long",
      "  49: meta_view_createdAt: optional long",
      "  50: meta_view_description: optional string",
      "  51: meta_view_displayType: optional string",
      "  52: meta_view_downloadCount: optional long",
      "  53: meta_view_flags: optional string",
      "  54: meta_view_grants_flags: optional string",
      "  55: meta_view_grants_inherited: optional boolean",
      "  56: meta_view_grants_type: optional string",
      "  57: meta_view_hideFromCatalog: optional boolean",
      "  58: meta_view_hideFromDataJson: optional boolean",
      "  59: meta_view_id: optional string",
      "  60: meta_view_indexUpdatedAt: optional long",
      "  61: meta_view_locked: optional boolean",
      "  62: meta_view_metadata_custom_fields_Common Core_Bureau Code: optional string",
      "  63: meta_view_metadata_custom_fields_Common Core_Program Code: optional string",
      "  64: meta_view_metadata_rdfClass: optional string",
      "  65: meta_view_metadata_rdfSubject: optional string",
      "  66: meta_view_metadata_rowIdentifier: optional string",
      "  67: meta_view_metadata_rowLabel: optional string",
      "  68: meta_view_name: optional string",
      "  69: meta_view_newBackend: optional boolean",
      "  70: meta_view_numberOfComments: optional long",
      "  71: meta_view_oid: optional long",
      "  72: meta_view_owner_displayName: optional string",
      "  73: meta_view_owner_flags: optional string",
      "  74: meta_view_owner_id: optional string",
      "  75: meta_view_owner_profileImageUrlLarge: optional string",
      "  76: meta_view_owner_profileImageUrlMedium: optional string",
      "  77: meta_view_owner_profileImageUrlSmall: optional string",
      "  78: meta_view_owner_screenName: optional string",
      "  79: meta_view_owner_type: optional string",
      "  80: meta_view_provenance: optional string",
      "  81: meta_view_publicationAppendEnabled: optional boolean",
      "  82: meta_view_publicationDate: optional long",
      "  83: meta_view_publicationGroup: optional long",
      "  84: meta_view_publicationStage: optional string",
      "  85: meta_view_rights: optional string",
      "  86: meta_view_rowClass: optional string",
      "  87: meta_view_rowsUpdatedAt: optional long",
      "  88: meta_view_rowsUpdatedBy: optional string",
      "  89: meta_view_tableAuthor_displayName: optional string",
      "  90: meta_view_tableAuthor_flags: optional string",
      "  91: meta_view_tableAuthor_id: optional string",
      "  92: meta_view_tableAuthor_profileImageUrlLarge: optional string",
      "  93: meta_view_tableAuthor_profileImageUrlMedium: optional string",
      "  94: meta_view_tableAuthor_profileImageUrlSmall: optional string",
      "  95: meta_view_tableAuthor_screenName: optional string",
      "  96: meta_view_tableAuthor_type: optional string",
      "  97: meta_view_tableId: optional long",
      "  98: meta_view_tags: optional string",
      "  99: meta_view_totalTimesRated: optional long",
      "  100: meta_view_viewCount: optional long",
      "  101: meta_view_viewLastModified: optional long",
      "  102: meta_view_viewType: optional string",
      "  103: meta_view_averageDocumentRating: optional long",
      "}",
      "Provided schema:",
      "table {",
      "  1: data: optional string",
      "  2: meta_view_approvals_reviewedAt: optional long",
      "  3: meta_view_approvals_reviewedAutomatically: optional boolean",
      "  4: meta_view_approvals_state: optional string",
      "  5: meta_view_approvals_submissionDetails_permissionType: optional string",
      "  6: meta_view_approvals_submissionId: optional long",
      "  7: meta_view_approvals_submissionObject: optional string",
      "  8: meta_view_approvals_submissionOutcome: optional string",
      "  9: meta_view_approvals_submissionOutcomeApplication_failureCount: optional long",
      "  10: meta_view_approvals_submissionOutcomeApplication_status: optional string",
      "  11: meta_view_approvals_submittedAt: optional long",
      "  12: meta_view_approvals_submitter_displayName: optional string",
      "  13: meta_view_approvals_submitter_id: optional string",
      "  14: meta_view_approvals_targetAudience: optional string",
      "  15: meta_view_approvals_workflowId: optional long",
      "  16: meta_view_assetType: optional string",
      "  17: meta_view_attributionLink: optional string",
      "  103: meta_view_averageDocumentRating: optional long",
      "  19: meta_view_category: optional string",
      "  20: meta_view_clientContext_clientContextVariables: optional string",
      "  21: meta_view_columns_cachedContents_average: optional string",
      "  22: meta_view_columns_cachedContents_cardinality: optional string",
      "  23: meta_view_columns_cachedContents_count: optional string",
      "  24: meta_view_columns_cachedContents_largest: optional string",
      "  25: meta_view_columns_cachedContents_non_null: optional string",
      "  26: meta_view_columns_cachedContents_null: optional string",
      "  27: meta_view_columns_cachedContents_smallest: optional string",
      "  28: meta_view_columns_cachedContents_sum: optional string",
      "  29: meta_view_columns_cachedContents_top_count: optional string",
      "  30: meta_view_columns_cachedContents_top_item: optional string",
      "  31: meta_view_columns_computationStrategy_parameters_primary_key: optional string",
      "  32: meta_view_columns_computationStrategy_parameters_region: optional string",
      "  33: meta_view_columns_computationStrategy_source_columns: optional string",
      "  34: meta_view_columns_computationStrategy_type: optional string",
      "  35: meta_view_columns_dataTypeName: optional string",
      "  36: meta_view_columns_description: optional string",
      "  37: meta_view_columns_fieldName: optional string",
      "  38: meta_view_columns_flags: optional string",
      "  39: meta_view_columns_format_align: optional string",
      "  40: meta_view_columns_format_noCommas: optional string",
      "  41: meta_view_columns_format_precisionStyle: optional string",
      "  42: meta_view_columns_format_view: optional string",
      "  43: meta_view_columns_id: optional long",
      "  44: meta_view_columns_name: optional string",
      "  45: meta_view_columns_position: optional long",
      "  46: meta_view_columns_renderTypeName: optional string",
      "  47: meta_view_columns_tableColumnId: optional long",
      "  48: meta_view_columns_width: optional long",
      "  49: meta_view_createdAt: optional long",
      "  50: meta_view_description: optional string",
      "  51: meta_view_displayType: optional string",
      "  52: meta_view_downloadCount: optional long",
      "  53: meta_view_flags: optional string",
      "  54: meta_view_grants_flags: optional string",
      "  55: meta_view_grants_inherited: optional boolean",
      "  56: meta_view_grants_type: optional string",
      "  57: meta_view_hideFromCatalog: optional boolean",
      "  58: meta_view_hideFromDataJson: optional boolean",
      "  59: meta_view_id: optional string",
      "  60: meta_view_indexUpdatedAt: optional long",
      "  61: meta_view_locked: optional boolean",
      "  62: meta_view_metadata_custom_fields_Common Core_Bureau Code: optional string",
      "  63: meta_view_metadata_custom_fields_Common Core_Program Code: optional string",
      "  64: meta_view_metadata_rdfClass: optional string",
      "  65: meta_view_metadata_rdfSubject: optional string",
      "  66: meta_view_metadata_rowIdentifier: optional string",
      "  67: meta_view_metadata_rowLabel: optional string",
      "  68: meta_view_name: optional string",
      "  69: meta_view_newBackend: optional boolean",
      "  70: meta_view_numberOfComments: optional long",
      "  71: meta_view_oid: optional long",
      "  72: meta_view_owner_displayName: optional string",
      "  73: meta_view_owner_flags: optional string",
      "  74: meta_view_owner_id: optional string",
      "  75: meta_view_owner_profileImageUrlLarge: optional string",
      "  76: meta_view_owner_profileImageUrlMedium: optional string",
      "  77: meta_view_owner_profileImageUrlSmall: optional string",
      "  78: meta_view_owner_screenName: optional string",
      "  79: meta_view_owner_type: optional string",
      "  80: meta_view_provenance: optional string",
      "  81: meta_view_publicationAppendEnabled: optional boolean",
      "  82: meta_view_publicationDate: optional long",
      "  83: meta_view_publicationGroup: optional long",
      "  84: meta_view_publicationStage: optional string",
      "  85: meta_view_rights: optional string",
      "  86: meta_view_rowClass: optional string",
      "  87: meta_view_rowsUpdatedAt: optional long",
      "  88: meta_view_rowsUpdatedBy: optional string",
      "  89: meta_view_tableAuthor_displayName: optional string",
      "  90: meta_view_tableAuthor_flags: optional string",
      "  91: meta_view_tableAuthor_id: optional string",
      "  92: meta_view_tableAuthor_profileImageUrlLarge: optional string",
      "  93: meta_view_tableAuthor_profileImageUrlMedium: optional string",
      "  94: meta_view_tableAuthor_profileImageUrlSmall: optional string",
      "  95: meta_view_tableAuthor_screenName: optional string",
      "  96: meta_view_tableAuthor_type: optional string",
      "  97: meta_view_tableId: optional long",
      "  98: meta_view_tags: optional string",
      "  99: meta_view_totalTimesRated: optional long",
      "  100: meta_view_viewCount: optional long",
      "  101: meta_view_viewLastModified: optional long",
      "  102: meta_view_viewType: optional string",
      "}",
      "Problems:",
      "* meta_view_averageDocumentRating is out of order, before meta_view_viewType",
      "  at org.apache.iceberg.types.TypeUtil.checkSchemaCompatibility(TypeUtil.java:453)",
      "  at org.apache.iceberg.types.TypeUtil.validateWriteSchema(TypeUtil.java:402)",
      "  at org.apache.iceberg.spark.source.SparkWriteBuilder.validateOrMergeWriteSchema(SparkWriteBuilder.java:189)",
      "  at org.apache.iceberg.spark.source.SparkWriteBuilder.build(SparkWriteBuilder.java:120)",
      "  at org.apache.spark.sql.execution.datasources.v2.V2Writes$$anonfun$apply$1.applyOrElse(V2Writes.scala:47)",
      "  at org.apache.spark.sql.execution.datasources.v2.V2Writes$$anonfun$apply$1.applyOrElse(V2Writes.scala:44)",
      "  at org.apache.spark.sql.catalyst.trees.TreeNode.$anonfun$transformDownWithPruning$1(TreeNode.scala:461)",
      "  at org.apache.spark.sql.catalyst.trees.CurrentOrigin$.withOrigin(origin.scala:76)",
      "  at org.apache.spark.sql.catalyst.trees.TreeNode.transformDownWithPruning(TreeNode.scala:461)",
      "  at org.apache.spark.sql.catalyst.plans.logical.LogicalPlan.org$apache$spark$sql$catalyst$plans$logical$AnalysisHelper$$super$transformDownWithPruning(LogicalPlan.scala:32)",
      "  at org.apache.spark.sql.catalyst.plans.logical.AnalysisHelper.transformDownWithPruning(AnalysisHelper.scala:267)",
      "  at org.apache.spark.sql.catalyst.plans.logical.AnalysisHelper.transformDownWithPruning$(AnalysisHelper.scala:263)",
      "  at org.apache.spark.sql.catalyst.plans.logical.LogicalPlan.transformDownWithPruning(LogicalPlan.scala:32)",
      "  at org.apache.spark.sql.catalyst.plans.logical.LogicalPlan.transformDownWithPruning(LogicalPlan.scala:32)",
      "  at org.apache.spark.sql.catalyst.trees.TreeNode.transformDown(TreeNode.scala:437)",
      "  at org.apache.spark.sql.execution.datasources.v2.V2Writes$.apply(V2Writes.scala:44)",
      "  at org.apache.spark.sql.execution.datasources.v2.V2Writes$.apply(V2Writes.scala:40)",
      "  at org.apache.spark.sql.catalyst.rules.RuleExecutor.$anonfun$execute$2(RuleExecutor.scala:222)",
      "  at scala.collection.LinearSeqOptimized.foldLeft(LinearSeqOptimized.scala:126)",
      "  at scala.collection.LinearSeqOptimized.foldLeft$(LinearSeqOptimized.scala:122)",
      "  at scala.collection.immutable.List.foldLeft(List.scala:91)",
      "  at org.apache.spark.sql.catalyst.rules.RuleExecutor.$anonfun$execute$1(RuleExecutor.scala:219)",
      "  at org.apache.spark.sql.catalyst.rules.RuleExecutor.$anonfun$execute$1$adapted(RuleExecutor.scala:211)",
      "  at scala.collection.immutable.List.foreach(List.scala:431)",
      "  at org.apache.spark.sql.catalyst.rules.RuleExecutor.execute(RuleExecutor.scala:211)",
      "  at org.apache.spark.sql.catalyst.rules.RuleExecutor.$anonfun$executeAndTrack$1(RuleExecutor.scala:182)",
      "  at org.apache.spark.sql.catalyst.QueryPlanningTracker$.withTracker(QueryPlanningTracker.scala:89)",
      "  at org.apache.spark.sql.catalyst.rules.RuleExecutor.executeAndTrack(RuleExecutor.scala:182)",
      "  at org.apache.spark.sql.execution.QueryExecution.$anonfun$optimizedPlan$1(QueryExecution.scala:152)",
      "  at org.apache.spark.sql.catalyst.QueryPlanningTracker.measurePhase(QueryPlanningTracker.scala:138)",
      "  at org.apache.spark.sql.execution.QueryExecution.$anonfun$executePhase$2(QueryExecution.scala:219)",
      "  at org.apache.spark.sql.execution.QueryExecution$.withInternalError(QueryExecution.scala:546)",
      "  at org.apache.spark.sql.execution.QueryExecution.$anonfun$executePhase$1(QueryExecution.scala:219)",
      "  at org.apache.spark.sql.SparkSession.withActive(SparkSession.scala:900)",
      "  at org.apache.spark.sql.execution.QueryExecution.executePhase(QueryExecution.scala:218)",
      "  at org.apache.spark.sql.execution.QueryExecution.optimizedPlan$lzycompute(QueryExecution.scala:148)",
      "  at org.apache.spark.sql.execution.QueryExecution.optimizedPlan(QueryExecution.scala:144)",
      "  at org.apache.spark.sql.execution.QueryExecution.assertOptimized(QueryExecution.scala:162)",
      "  at org.apache.spark.sql.execution.QueryExecution.executedPlan$lzycompute(QueryExecution.scala:182)",
      "  at org.apache.spark.sql.execution.QueryExecution.executedPlan(QueryExecution.scala:179)",
      "  at org.apache.spark.sql.execution.SQLExecution$.$anonfun$withNewExecutionId$6(SQLExecution.scala:120)",
      "  at org.apache.spark.sql.execution.SQLExecution$.withSQLConfPropagated(SQLExecution.scala:201)",
      "  at org.apache.spark.sql.execution.SQLExecution$.$anonfun$withNewExecutionId$1(SQLExecution.scala:108)",
      "  at org.apache.spark.sql.SparkSession.withActive(SparkSession.scala:900)",
      "  at org.apache.spark.sql.execution.SQLExecution$.withNewExecutionId(SQLExecution.scala:66)",
      "  at org.apache.spark.sql.execution.QueryExecution$$anonfun$eagerlyExecuteCommands$1.applyOrElse(QueryExecution.scala:107)",
      "  at org.apache.spark.sql.execution.QueryExecution$$anonfun$eagerlyExecuteCommands$1.applyOrElse(QueryExecution.scala:98)",
      "  at org.apache.spark.sql.catalyst.trees.TreeNode.$anonfun$transformDownWithPruning$1(TreeNode.scala:461)",
      "  at org.apache.spark.sql.catalyst.trees.CurrentOrigin$.withOrigin(origin.scala:76)",
      "  at org.apache.spark.sql.catalyst.trees.TreeNode.transformDownWithPruning(TreeNode.scala:461)",
      "  at org.apache.spark.sql.catalyst.plans.logical.LogicalPlan.org$apache$spark$sql$catalyst$plans$logical$AnalysisHelper$$super$transformDownWithPruning(LogicalPlan.scala:32)",
      "  at org.apache.spark.sql.catalyst.plans.logical.AnalysisHelper.transformDownWithPruning(AnalysisHelper.scala:267)",
      "  at org.apache.spark.sql.catalyst.plans.logical.AnalysisHelper.transformDownWithPruning$(AnalysisHelper.scala:263)",
      "  at org.apache.spark.sql.catalyst.plans.logical.LogicalPlan.transformDownWithPruning(LogicalPlan.scala:32)",
      "  at org.apache.spark.sql.catalyst.plans.logical.LogicalPlan.transformDownWithPruning(LogicalPlan.scala:32)",
      "  at org.apache.spark.sql.catalyst.trees.TreeNode.transformDown(TreeNode.scala:437)",
      "  at org.apache.spark.sql.execution.QueryExecution.eagerlyExecuteCommands(QueryExecution.scala:98)",
      "  at org.apache.spark.sql.execution.QueryExecution.commandExecuted$lzycompute(QueryExecution.scala:85)",
      "  at org.apache.spark.sql.execution.QueryExecution.commandExecuted(QueryExecution.scala:83)",
      "  at org.apache.spark.sql.execution.QueryExecution.assertCommandExecuted(QueryExecution.scala:142)",
      "  at org.apache.spark.sql.DataFrameWriterV2.runCommand(DataFrameWriterV2.scala:196)",
      "  at org.apache.spark.sql.DataFrameWriterV2.append(DataFrameWriterV2.scala:150)",
      "  ... 42 elided",
      ""
     ]
    }
   ],
   "source": [
    "val allschemchangesUpDF =  spark.read.option(\"multiline\", \"true\").json(\"./Data/Json/meteorite_landing_UpdatedCol.json\")\n",
    "val allschemchangesUpFlatDF = allschemchangesUpDF.explodeColumns\n",
    "val allschemchangesUpIcedTable = allschemchangesUpFlatDF.writeTo(\"icecatalog.mydb.meteorites\").option(\"mergeSchema\",\"true\").append()"
   ]
  },
  {
   "cell_type": "markdown",
   "id": "4ea58257-ea02-4dc1-ac6d-cc919f4a5ca1",
   "metadata": {},
   "source": [
    "## 5.4.1 This step is same as 4.4 \n",
    "## From the original dataset, I have changed the datat type of column  and saved as new dataset, \n",
    "## so that I can write back to iceberg table where schema is already set due to first write execution\n",
    "##changed the data type of column meta_view_createdAt from string to bigint(basically removed the double quotes around teh value from json data)\n",
    "## Read the json dataset with changed data type column, explode it and then append it to existing iceberg table"
   ]
  },
  {
   "cell_type": "code",
   "execution_count": 6,
   "id": "d1f00582-0a18-473c-b2d5-e3335a903f57",
   "metadata": {},
   "outputs": [
    {
     "ename": "java.lang.IllegalArgumentException",
     "evalue": " Cannot change column type: meta_view_createdAt: long -> string",
     "output_type": "error",
     "traceback": [
      "java.lang.IllegalArgumentException: Cannot change column type: meta_view_createdAt: long -> string",
      "  at org.apache.iceberg.relocated.com.google.common.base.Preconditions.checkArgument(Preconditions.java:463)",
      "  at org.apache.iceberg.SchemaUpdate.updateColumn(SchemaUpdate.java:287)",
      "  at org.apache.iceberg.schema.UnionByNameVisitor.updateColumn(UnionByNameVisitor.java:175)",
      "  at org.apache.iceberg.schema.UnionByNameVisitor.lambda$struct$0(UnionByNameVisitor.java:98)",
      "  at java.base/java.util.stream.Streams$RangeIntSpliterator.forEachRemaining(Streams.java:104)",
      "  at java.base/java.util.stream.IntPipeline$Head.forEach(IntPipeline.java:593)",
      "  at org.apache.iceberg.schema.UnionByNameVisitor.struct(UnionByNameVisitor.java:87)",
      "  at org.apache.iceberg.schema.UnionByNameVisitor.struct(UnionByNameVisitor.java:33)",
      "  at org.apache.iceberg.schema.SchemaWithPartnerVisitor.visit(SchemaWithPartnerVisitor.java:68)",
      "  at org.apache.iceberg.schema.SchemaWithPartnerVisitor.visit(SchemaWithPartnerVisitor.java:45)",
      "  at org.apache.iceberg.schema.UnionByNameVisitor.visit(UnionByNameVisitor.java:70)",
      "  at org.apache.iceberg.SchemaUpdate.unionByNameWith(SchemaUpdate.java:373)",
      "  at org.apache.iceberg.spark.source.SparkWriteBuilder.validateOrMergeWriteSchema(SparkWriteBuilder.java:183)",
      "  at org.apache.iceberg.spark.source.SparkWriteBuilder.build(SparkWriteBuilder.java:120)",
      "  at org.apache.spark.sql.execution.datasources.v2.V2Writes$$anonfun$apply$1.applyOrElse(V2Writes.scala:47)",
      "  at org.apache.spark.sql.execution.datasources.v2.V2Writes$$anonfun$apply$1.applyOrElse(V2Writes.scala:44)",
      "  at org.apache.spark.sql.catalyst.trees.TreeNode.$anonfun$transformDownWithPruning$1(TreeNode.scala:461)",
      "  at org.apache.spark.sql.catalyst.trees.CurrentOrigin$.withOrigin(origin.scala:76)",
      "  at org.apache.spark.sql.catalyst.trees.TreeNode.transformDownWithPruning(TreeNode.scala:461)",
      "  at org.apache.spark.sql.catalyst.plans.logical.LogicalPlan.org$apache$spark$sql$catalyst$plans$logical$AnalysisHelper$$super$transformDownWithPruning(LogicalPlan.scala:32)",
      "  at org.apache.spark.sql.catalyst.plans.logical.AnalysisHelper.transformDownWithPruning(AnalysisHelper.scala:267)",
      "  at org.apache.spark.sql.catalyst.plans.logical.AnalysisHelper.transformDownWithPruning$(AnalysisHelper.scala:263)",
      "  at org.apache.spark.sql.catalyst.plans.logical.LogicalPlan.transformDownWithPruning(LogicalPlan.scala:32)",
      "  at org.apache.spark.sql.catalyst.plans.logical.LogicalPlan.transformDownWithPruning(LogicalPlan.scala:32)",
      "  at org.apache.spark.sql.catalyst.trees.TreeNode.transformDown(TreeNode.scala:437)",
      "  at org.apache.spark.sql.execution.datasources.v2.V2Writes$.apply(V2Writes.scala:44)",
      "  at org.apache.spark.sql.execution.datasources.v2.V2Writes$.apply(V2Writes.scala:40)",
      "  at org.apache.spark.sql.catalyst.rules.RuleExecutor.$anonfun$execute$2(RuleExecutor.scala:222)",
      "  at scala.collection.LinearSeqOptimized.foldLeft(LinearSeqOptimized.scala:126)",
      "  at scala.collection.LinearSeqOptimized.foldLeft$(LinearSeqOptimized.scala:122)",
      "  at scala.collection.immutable.List.foldLeft(List.scala:91)",
      "  at org.apache.spark.sql.catalyst.rules.RuleExecutor.$anonfun$execute$1(RuleExecutor.scala:219)",
      "  at org.apache.spark.sql.catalyst.rules.RuleExecutor.$anonfun$execute$1$adapted(RuleExecutor.scala:211)",
      "  at scala.collection.immutable.List.foreach(List.scala:431)",
      "  at org.apache.spark.sql.catalyst.rules.RuleExecutor.execute(RuleExecutor.scala:211)",
      "  at org.apache.spark.sql.catalyst.rules.RuleExecutor.$anonfun$executeAndTrack$1(RuleExecutor.scala:182)",
      "  at org.apache.spark.sql.catalyst.QueryPlanningTracker$.withTracker(QueryPlanningTracker.scala:89)",
      "  at org.apache.spark.sql.catalyst.rules.RuleExecutor.executeAndTrack(RuleExecutor.scala:182)",
      "  at org.apache.spark.sql.execution.QueryExecution.$anonfun$optimizedPlan$1(QueryExecution.scala:152)",
      "  at org.apache.spark.sql.catalyst.QueryPlanningTracker.measurePhase(QueryPlanningTracker.scala:138)",
      "  at org.apache.spark.sql.execution.QueryExecution.$anonfun$executePhase$2(QueryExecution.scala:219)",
      "  at org.apache.spark.sql.execution.QueryExecution$.withInternalError(QueryExecution.scala:546)",
      "  at org.apache.spark.sql.execution.QueryExecution.$anonfun$executePhase$1(QueryExecution.scala:219)",
      "  at org.apache.spark.sql.SparkSession.withActive(SparkSession.scala:900)",
      "  at org.apache.spark.sql.execution.QueryExecution.executePhase(QueryExecution.scala:218)",
      "  at org.apache.spark.sql.execution.QueryExecution.optimizedPlan$lzycompute(QueryExecution.scala:148)",
      "  at org.apache.spark.sql.execution.QueryExecution.optimizedPlan(QueryExecution.scala:144)",
      "  at org.apache.spark.sql.execution.QueryExecution.assertOptimized(QueryExecution.scala:162)",
      "  at org.apache.spark.sql.execution.QueryExecution.executedPlan$lzycompute(QueryExecution.scala:182)",
      "  at org.apache.spark.sql.execution.QueryExecution.executedPlan(QueryExecution.scala:179)",
      "  at org.apache.spark.sql.execution.SQLExecution$.$anonfun$withNewExecutionId$6(SQLExecution.scala:120)",
      "  at org.apache.spark.sql.execution.SQLExecution$.withSQLConfPropagated(SQLExecution.scala:201)",
      "  at org.apache.spark.sql.execution.SQLExecution$.$anonfun$withNewExecutionId$1(SQLExecution.scala:108)",
      "  at org.apache.spark.sql.SparkSession.withActive(SparkSession.scala:900)",
      "  at org.apache.spark.sql.execution.SQLExecution$.withNewExecutionId(SQLExecution.scala:66)",
      "  at org.apache.spark.sql.execution.QueryExecution$$anonfun$eagerlyExecuteCommands$1.applyOrElse(QueryExecution.scala:107)",
      "  at org.apache.spark.sql.execution.QueryExecution$$anonfun$eagerlyExecuteCommands$1.applyOrElse(QueryExecution.scala:98)",
      "  at org.apache.spark.sql.catalyst.trees.TreeNode.$anonfun$transformDownWithPruning$1(TreeNode.scala:461)",
      "  at org.apache.spark.sql.catalyst.trees.CurrentOrigin$.withOrigin(origin.scala:76)",
      "  at org.apache.spark.sql.catalyst.trees.TreeNode.transformDownWithPruning(TreeNode.scala:461)",
      "  at org.apache.spark.sql.catalyst.plans.logical.LogicalPlan.org$apache$spark$sql$catalyst$plans$logical$AnalysisHelper$$super$transformDownWithPruning(LogicalPlan.scala:32)",
      "  at org.apache.spark.sql.catalyst.plans.logical.AnalysisHelper.transformDownWithPruning(AnalysisHelper.scala:267)",
      "  at org.apache.spark.sql.catalyst.plans.logical.AnalysisHelper.transformDownWithPruning$(AnalysisHelper.scala:263)",
      "  at org.apache.spark.sql.catalyst.plans.logical.LogicalPlan.transformDownWithPruning(LogicalPlan.scala:32)",
      "  at org.apache.spark.sql.catalyst.plans.logical.LogicalPlan.transformDownWithPruning(LogicalPlan.scala:32)",
      "  at org.apache.spark.sql.catalyst.trees.TreeNode.transformDown(TreeNode.scala:437)",
      "  at org.apache.spark.sql.execution.QueryExecution.eagerlyExecuteCommands(QueryExecution.scala:98)",
      "  at org.apache.spark.sql.execution.QueryExecution.commandExecuted$lzycompute(QueryExecution.scala:85)",
      "  at org.apache.spark.sql.execution.QueryExecution.commandExecuted(QueryExecution.scala:83)",
      "  at org.apache.spark.sql.execution.QueryExecution.assertCommandExecuted(QueryExecution.scala:142)",
      "  at org.apache.spark.sql.DataFrameWriterV2.runCommand(DataFrameWriterV2.scala:196)",
      "  at org.apache.spark.sql.DataFrameWriterV2.append(DataFrameWriterV2.scala:150)",
      "  ... 42 elided",
      ""
     ]
    }
   ],
   "source": [
    "val allschemchangesTypeDF =  spark.read.option(\"multiline\", \"true\").json(\"./Data/Json/meteorite_landing_changeDT.json\")\n",
    "val allschemchangesTypeFlatDF = allschemchangesTypeDF.explodeColumns\n",
    "val allschemchangesTypeIcedTable = allschemchangesTypeFlatDF.writeTo(\"icecatalog.mydb.meteorites\").option(\"mergeSchema\",\"true\").append()"
   ]
  },
  {
   "cell_type": "markdown",
   "id": "c83f5a90-2a8c-4e92-a851-fd78681c69e6",
   "metadata": {},
   "source": [
    "## 5.4.2 This step is similar to 4.4 however here, I have downcasted the column datatype to check if downcasting works\n",
    "## From the original dataset, I have changed the datat type of column  and saved as new dataset, \n",
    "## so that I can write back to iceberg table where schema is already set due to first write execution\n",
    "##changed the data type of column meta_view_averageRating from LONG to DOUBLE\n",
    "## Read the json dataset with changed data type column, explode it and then append it to existing iceberg table"
   ]
  },
  {
   "cell_type": "code",
   "execution_count": 7,
   "id": "d74333aa-aa08-4540-ac21-b8d832280e22",
   "metadata": {},
   "outputs": [
    {
     "ename": "java.lang.IllegalArgumentException",
     "evalue": " Cannot change column type: meta_view_averageRating: long -> double",
     "output_type": "error",
     "traceback": [
      "java.lang.IllegalArgumentException: Cannot change column type: meta_view_averageRating: long -> double",
      "  at org.apache.iceberg.relocated.com.google.common.base.Preconditions.checkArgument(Preconditions.java:463)",
      "  at org.apache.iceberg.SchemaUpdate.updateColumn(SchemaUpdate.java:287)",
      "  at org.apache.iceberg.schema.UnionByNameVisitor.updateColumn(UnionByNameVisitor.java:175)",
      "  at org.apache.iceberg.schema.UnionByNameVisitor.lambda$struct$0(UnionByNameVisitor.java:98)",
      "  at java.base/java.util.stream.Streams$RangeIntSpliterator.forEachRemaining(Streams.java:104)",
      "  at java.base/java.util.stream.IntPipeline$Head.forEach(IntPipeline.java:593)",
      "  at org.apache.iceberg.schema.UnionByNameVisitor.struct(UnionByNameVisitor.java:87)",
      "  at org.apache.iceberg.schema.UnionByNameVisitor.struct(UnionByNameVisitor.java:33)",
      "  at org.apache.iceberg.schema.SchemaWithPartnerVisitor.visit(SchemaWithPartnerVisitor.java:68)",
      "  at org.apache.iceberg.schema.SchemaWithPartnerVisitor.visit(SchemaWithPartnerVisitor.java:45)",
      "  at org.apache.iceberg.schema.UnionByNameVisitor.visit(UnionByNameVisitor.java:70)",
      "  at org.apache.iceberg.SchemaUpdate.unionByNameWith(SchemaUpdate.java:373)",
      "  at org.apache.iceberg.spark.source.SparkWriteBuilder.validateOrMergeWriteSchema(SparkWriteBuilder.java:183)",
      "  at org.apache.iceberg.spark.source.SparkWriteBuilder.build(SparkWriteBuilder.java:120)",
      "  at org.apache.spark.sql.execution.datasources.v2.V2Writes$$anonfun$apply$1.applyOrElse(V2Writes.scala:47)",
      "  at org.apache.spark.sql.execution.datasources.v2.V2Writes$$anonfun$apply$1.applyOrElse(V2Writes.scala:44)",
      "  at org.apache.spark.sql.catalyst.trees.TreeNode.$anonfun$transformDownWithPruning$1(TreeNode.scala:461)",
      "  at org.apache.spark.sql.catalyst.trees.CurrentOrigin$.withOrigin(origin.scala:76)",
      "  at org.apache.spark.sql.catalyst.trees.TreeNode.transformDownWithPruning(TreeNode.scala:461)",
      "  at org.apache.spark.sql.catalyst.plans.logical.LogicalPlan.org$apache$spark$sql$catalyst$plans$logical$AnalysisHelper$$super$transformDownWithPruning(LogicalPlan.scala:32)",
      "  at org.apache.spark.sql.catalyst.plans.logical.AnalysisHelper.transformDownWithPruning(AnalysisHelper.scala:267)",
      "  at org.apache.spark.sql.catalyst.plans.logical.AnalysisHelper.transformDownWithPruning$(AnalysisHelper.scala:263)",
      "  at org.apache.spark.sql.catalyst.plans.logical.LogicalPlan.transformDownWithPruning(LogicalPlan.scala:32)",
      "  at org.apache.spark.sql.catalyst.plans.logical.LogicalPlan.transformDownWithPruning(LogicalPlan.scala:32)",
      "  at org.apache.spark.sql.catalyst.trees.TreeNode.transformDown(TreeNode.scala:437)",
      "  at org.apache.spark.sql.execution.datasources.v2.V2Writes$.apply(V2Writes.scala:44)",
      "  at org.apache.spark.sql.execution.datasources.v2.V2Writes$.apply(V2Writes.scala:40)",
      "  at org.apache.spark.sql.catalyst.rules.RuleExecutor.$anonfun$execute$2(RuleExecutor.scala:222)",
      "  at scala.collection.LinearSeqOptimized.foldLeft(LinearSeqOptimized.scala:126)",
      "  at scala.collection.LinearSeqOptimized.foldLeft$(LinearSeqOptimized.scala:122)",
      "  at scala.collection.immutable.List.foldLeft(List.scala:91)",
      "  at org.apache.spark.sql.catalyst.rules.RuleExecutor.$anonfun$execute$1(RuleExecutor.scala:219)",
      "  at org.apache.spark.sql.catalyst.rules.RuleExecutor.$anonfun$execute$1$adapted(RuleExecutor.scala:211)",
      "  at scala.collection.immutable.List.foreach(List.scala:431)",
      "  at org.apache.spark.sql.catalyst.rules.RuleExecutor.execute(RuleExecutor.scala:211)",
      "  at org.apache.spark.sql.catalyst.rules.RuleExecutor.$anonfun$executeAndTrack$1(RuleExecutor.scala:182)",
      "  at org.apache.spark.sql.catalyst.QueryPlanningTracker$.withTracker(QueryPlanningTracker.scala:89)",
      "  at org.apache.spark.sql.catalyst.rules.RuleExecutor.executeAndTrack(RuleExecutor.scala:182)",
      "  at org.apache.spark.sql.execution.QueryExecution.$anonfun$optimizedPlan$1(QueryExecution.scala:152)",
      "  at org.apache.spark.sql.catalyst.QueryPlanningTracker.measurePhase(QueryPlanningTracker.scala:138)",
      "  at org.apache.spark.sql.execution.QueryExecution.$anonfun$executePhase$2(QueryExecution.scala:219)",
      "  at org.apache.spark.sql.execution.QueryExecution$.withInternalError(QueryExecution.scala:546)",
      "  at org.apache.spark.sql.execution.QueryExecution.$anonfun$executePhase$1(QueryExecution.scala:219)",
      "  at org.apache.spark.sql.SparkSession.withActive(SparkSession.scala:900)",
      "  at org.apache.spark.sql.execution.QueryExecution.executePhase(QueryExecution.scala:218)",
      "  at org.apache.spark.sql.execution.QueryExecution.optimizedPlan$lzycompute(QueryExecution.scala:148)",
      "  at org.apache.spark.sql.execution.QueryExecution.optimizedPlan(QueryExecution.scala:144)",
      "  at org.apache.spark.sql.execution.QueryExecution.assertOptimized(QueryExecution.scala:162)",
      "  at org.apache.spark.sql.execution.QueryExecution.executedPlan$lzycompute(QueryExecution.scala:182)",
      "  at org.apache.spark.sql.execution.QueryExecution.executedPlan(QueryExecution.scala:179)",
      "  at org.apache.spark.sql.execution.SQLExecution$.$anonfun$withNewExecutionId$6(SQLExecution.scala:120)",
      "  at org.apache.spark.sql.execution.SQLExecution$.withSQLConfPropagated(SQLExecution.scala:201)",
      "  at org.apache.spark.sql.execution.SQLExecution$.$anonfun$withNewExecutionId$1(SQLExecution.scala:108)",
      "  at org.apache.spark.sql.SparkSession.withActive(SparkSession.scala:900)",
      "  at org.apache.spark.sql.execution.SQLExecution$.withNewExecutionId(SQLExecution.scala:66)",
      "  at org.apache.spark.sql.execution.QueryExecution$$anonfun$eagerlyExecuteCommands$1.applyOrElse(QueryExecution.scala:107)",
      "  at org.apache.spark.sql.execution.QueryExecution$$anonfun$eagerlyExecuteCommands$1.applyOrElse(QueryExecution.scala:98)",
      "  at org.apache.spark.sql.catalyst.trees.TreeNode.$anonfun$transformDownWithPruning$1(TreeNode.scala:461)",
      "  at org.apache.spark.sql.catalyst.trees.CurrentOrigin$.withOrigin(origin.scala:76)",
      "  at org.apache.spark.sql.catalyst.trees.TreeNode.transformDownWithPruning(TreeNode.scala:461)",
      "  at org.apache.spark.sql.catalyst.plans.logical.LogicalPlan.org$apache$spark$sql$catalyst$plans$logical$AnalysisHelper$$super$transformDownWithPruning(LogicalPlan.scala:32)",
      "  at org.apache.spark.sql.catalyst.plans.logical.AnalysisHelper.transformDownWithPruning(AnalysisHelper.scala:267)",
      "  at org.apache.spark.sql.catalyst.plans.logical.AnalysisHelper.transformDownWithPruning$(AnalysisHelper.scala:263)",
      "  at org.apache.spark.sql.catalyst.plans.logical.LogicalPlan.transformDownWithPruning(LogicalPlan.scala:32)",
      "  at org.apache.spark.sql.catalyst.plans.logical.LogicalPlan.transformDownWithPruning(LogicalPlan.scala:32)",
      "  at org.apache.spark.sql.catalyst.trees.TreeNode.transformDown(TreeNode.scala:437)",
      "  at org.apache.spark.sql.execution.QueryExecution.eagerlyExecuteCommands(QueryExecution.scala:98)",
      "  at org.apache.spark.sql.execution.QueryExecution.commandExecuted$lzycompute(QueryExecution.scala:85)",
      "  at org.apache.spark.sql.execution.QueryExecution.commandExecuted(QueryExecution.scala:83)",
      "  at org.apache.spark.sql.execution.QueryExecution.assertCommandExecuted(QueryExecution.scala:142)",
      "  at org.apache.spark.sql.DataFrameWriterV2.runCommand(DataFrameWriterV2.scala:196)",
      "  at org.apache.spark.sql.DataFrameWriterV2.append(DataFrameWriterV2.scala:150)",
      "  ... 42 elided",
      ""
     ]
    }
   ],
   "source": [
    "val allschemchangesDownTypeDF =  spark.read.option(\"multiline\", \"true\").json(\"./Data/Json/meteorite_landing-changeDTup.json\")\n",
    "val allschemchangesDownTypeFlatDF = allschemchangesDownTypeDF.explodeColumns\n",
    "val allschemchangesDownTypeIcedTable = allschemchangesDownTypeFlatDF.writeTo(\"icecatalog.mydb.meteorites\").option(\"mergeSchema\",\"true\").append()"
   ]
  }
 ],
 "metadata": {
  "kernelspec": {
   "display_name": "spylon-kernel",
   "language": "scala",
   "name": "spylon-kernel"
  },
  "language_info": {
   "codemirror_mode": "text/x-scala",
   "file_extension": ".scala",
   "help_links": [
    {
     "text": "MetaKernel Magics",
     "url": "https://metakernel.readthedocs.io/en/latest/source/README.html"
    }
   ],
   "mimetype": "text/x-scala",
   "name": "scala",
   "pygments_lexer": "scala",
   "version": "0.4.1"
  }
 },
 "nbformat": 4,
 "nbformat_minor": 5
}
