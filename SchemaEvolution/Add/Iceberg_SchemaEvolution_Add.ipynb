{
 "cells": [
  {
   "cell_type": "markdown",
   "id": "bdc48d35-9b9c-4596-b87c-189edce771fd",
   "metadata": {},
   "source": [
    "##### ICEBERG - SCHEMA EVOLUTION\n",
    "##### Objective: To test the schema evolution by adding, updating, deleting columns, and changing the datatype of columns \n",
    "##### Dataset format: This nested JSON dataset is about meteorite landing which is downloaded from the public source mentioned below\n",
    "##### Dataset Source: https://catalog.data.gov/dataset/"
   ]
  },
  {
   "cell_type": "markdown",
   "id": "297208f6-3d35-4615-b8e3-4ffd099e4ad0",
   "metadata": {},
   "source": [
    "##### 1.1 Configure Spark Iceberg Runtime package and other settings"
   ]
  },
  {
   "cell_type": "code",
   "execution_count": 2,
   "id": "7e2e0b4e-51bc-4cf0-9dff-af84df075ce0",
   "metadata": {},
   "outputs": [],
   "source": [
    "spark.conf.set(\"spark.sql.catalog.mycatalog.type\", \"Hadoop\")"
   ]
  },
  {
   "cell_type": "code",
   "execution_count": 3,
   "id": "6bb976d5-0b25-4a6b-b64f-c1dbe3f742f6",
   "metadata": {},
   "outputs": [
    {
     "ename": "org.apache.spark.sql.AnalysisException",
     "evalue": " Cannot modify the value of a static config: spark.sql.extensions.",
     "output_type": "error",
     "traceback": [
      "org.apache.spark.sql.AnalysisException: Cannot modify the value of a static config: spark.sql.extensions.",
      "  at org.apache.spark.sql.errors.QueryCompilationErrors$.cannotModifyValueOfStaticConfigError(QueryCompilationErrors.scala:3179)",
      "  at org.apache.spark.sql.RuntimeConfig.requireNonStaticConf(RuntimeConfig.scala:162)",
      "  at org.apache.spark.sql.RuntimeConfig.set(RuntimeConfig.scala:42)",
      "  ... 38 elided",
      ""
     ]
    }
   ],
   "source": [
    "spark.conf.set(\"spark-sql.packages\", \"org.apache.iceberg:iceberg-spark-runtime-3.5_2.12:1.5.2\")\n",
    "spark.conf.set(\"spark.sql.extensions\", \"org.apache.iceberg.spark.extensions.IcebergSparkSessionExtensions\")\n",
    "spark.conf.set(\"spark.sql.catalog.mycatalog\", \"org.apache.iceberg.spark.SparkSessionCatalog\")"
   ]
  },
  {
   "cell_type": "markdown",
   "id": "6928c58d-e221-4d2b-849a-e95442f81720",
   "metadata": {
    "jp-MarkdownHeadingCollapsed": true
   },
   "source": [
    "##### packages that need to be downloaded and used during the Spark session.\n",
    "###### spark.conf.set(\"spark-sql.packages\", \"org.apache.iceberg:iceberg-spark-runtime-3.5_2.12:1.5.2\")\n",
    "\n",
    "##### This specifies any extensions to SQL that should be present in the Spark session\n",
    "###### spark.conf.set(\"spark.sql.extensions\", \"org.apache.iceberg.spark.extensions.IcebergSparkSessionExtensions\")\n",
    "\n",
    "##### The settings below are to configure your specific catalog, which can be under a namespace of your choosing eg: here it is spark_catalog\n",
    "##### This specifies that this specific catalog is using the Apache Iceberg Spark Catalog class.\n",
    "###### spark.conf.set(\"spark.sql.catalog.mycatalog\", \"org.apache.iceberg.spark.SparkSessionCatalog\")\n",
    "\n",
    "##### This setting is used to set the type of catalog you are using, and possible values include:Hadoop (if using HDFS/File System Catalog), Hive\n",
    "###### spark.conf.set(\"spark.sql.catalog.mycatalog.type\", \"Hadoop\")"
   ]
  },
  {
   "cell_type": "markdown",
   "id": "44e43286-a5f9-455c-af9d-32c542f47916",
   "metadata": {},
   "source": [
    "##### 1.2 The spark.sql.extensions might show an error that \"Cannot modify the value of a static config: spark.sql.extensions\" which means it's not set, However, when its value is checked Using getter configuration, it displays the value as set above i.e. IcebergSparkSessionExtensions"
   ]
  },
  {
   "cell_type": "code",
   "execution_count": 4,
   "id": "010b0861-bfca-43ed-9e61-ce2738f59e5a",
   "metadata": {},
   "outputs": [
    {
     "data": {
      "text/plain": [
       "res3: String = Hadoop\n"
      ]
     },
     "execution_count": 4,
     "metadata": {},
     "output_type": "execute_result"
    }
   ],
   "source": [
    "spark.conf.get(\"spark.sql.catalog.mycatalog.type\")"
   ]
  },
  {
   "cell_type": "markdown",
   "id": "885bc0ab-14f6-4668-8f08-f9b6b4171c6f",
   "metadata": {},
   "source": [
    "##### 2.0 Read the nested json dataset and verify its schema"
   ]
  },
  {
   "cell_type": "code",
   "execution_count": 8,
   "id": "f3d14f5f-ae07-46db-91e4-7341e37ca3fe",
   "metadata": {},
   "outputs": [
    {
     "data": {
      "text/plain": [
       "jsonDF: org.apache.spark.sql.DataFrame = [data: array<array<string>>, meta: struct<view: struct<approvals: array<struct<reviewedAt:bigint,reviewedAutomatically:boolean,state:string,submissionDetails:struct<permissionType:string>,submissionId:bigint,submissionObject:string,submissionOutcome:string,submissionOutcomeApplication:struct<failureCount:bigint,status:string>,submittedAt:bigint,submitter:struct<displayName:string,id:string>,targetAudience:string,workflowId:bigint>>, assetType: string ... 38 more fields>>]\n"
      ]
     },
     "execution_count": 8,
     "metadata": {},
     "output_type": "execute_result"
    }
   ],
   "source": [
    "val jsonDF =  spark.read.option(\"multiline\", \"true\").json(\"../Data/Json/meteorite_landing.json\")"
   ]
  },
  {
   "cell_type": "code",
   "execution_count": 10,
   "id": "b9320a79-8a8d-4fdb-9255-b34332915659",
   "metadata": {},
   "outputs": [
    {
     "name": "stdout",
     "output_type": "stream",
     "text": [
      "root\n",
      " |-- data: array (nullable = true)\n",
      " |    |-- element: array (containsNull = true)\n",
      " |    |    |-- element: string (containsNull = true)\n",
      " |-- meta: struct (nullable = true)\n",
      " |    |-- view: struct (nullable = true)\n",
      " |    |    |-- approvals: array (nullable = true)\n",
      " |    |    |    |-- element: struct (containsNull = true)\n",
      " |    |    |    |    |-- reviewedAt: long (nullable = true)\n",
      " |    |    |    |    |-- reviewedAutomatically: boolean (nullable = true)\n",
      " |    |    |    |    |-- state: string (nullable = true)\n",
      " |    |    |    |    |-- submissionDetails: struct (nullable = true)\n",
      " |    |    |    |    |    |-- permissionType: string (nullable = true)\n",
      " |    |    |    |    |-- submissionId: long (nullable = true)\n",
      " |    |    |    |    |-- submissionObject: string (nullable = true)\n",
      " |    |    |    |    |-- submissionOutcome: string (nullable = true)\n",
      " |    |    |    |    |-- submissionOutcomeApplication: struct (nullable = true)\n",
      " |    |    |    |    |    |-- failureCount: long (nullable = true)\n",
      " |    |    |    |    |    |-- status: string (nullable = true)\n",
      " |    |    |    |    |-- submittedAt: long (nullable = true)\n",
      " |    |    |    |    |-- submitter: struct (nullable = true)\n",
      " |    |    |    |    |    |-- displayName: string (nullable = true)\n",
      " |    |    |    |    |    |-- id: string (nullable = true)\n",
      " |    |    |    |    |-- targetAudience: string (nullable = true)\n",
      " |    |    |    |    |-- workflowId: long (nullable = true)\n",
      " |    |    |-- assetType: string (nullable = true)\n",
      " |    |    |-- attributionLink: string (nullable = true)\n",
      " |    |    |-- averageRating: long (nullable = true)\n",
      " |    |    |-- category: string (nullable = true)\n",
      " |    |    |-- clientContext: struct (nullable = true)\n",
      " |    |    |    |-- clientContextVariables: array (nullable = true)\n",
      " |    |    |    |    |-- element: string (containsNull = true)\n",
      " |    |    |-- columns: array (nullable = true)\n",
      " |    |    |    |-- element: struct (containsNull = true)\n",
      " |    |    |    |    |-- cachedContents: struct (nullable = true)\n",
      " |    |    |    |    |    |-- average: string (nullable = true)\n",
      " |    |    |    |    |    |-- cardinality: string (nullable = true)\n",
      " |    |    |    |    |    |-- count: string (nullable = true)\n",
      " |    |    |    |    |    |-- largest: string (nullable = true)\n",
      " |    |    |    |    |    |-- non_null: string (nullable = true)\n",
      " |    |    |    |    |    |-- null: string (nullable = true)\n",
      " |    |    |    |    |    |-- smallest: string (nullable = true)\n",
      " |    |    |    |    |    |-- sum: string (nullable = true)\n",
      " |    |    |    |    |    |-- top: array (nullable = true)\n",
      " |    |    |    |    |    |    |-- element: struct (containsNull = true)\n",
      " |    |    |    |    |    |    |    |-- count: string (nullable = true)\n",
      " |    |    |    |    |    |    |    |-- item: string (nullable = true)\n",
      " |    |    |    |    |-- computationStrategy: struct (nullable = true)\n",
      " |    |    |    |    |    |-- parameters: struct (nullable = true)\n",
      " |    |    |    |    |    |    |-- primary_key: string (nullable = true)\n",
      " |    |    |    |    |    |    |-- region: string (nullable = true)\n",
      " |    |    |    |    |    |-- source_columns: array (nullable = true)\n",
      " |    |    |    |    |    |    |-- element: string (containsNull = true)\n",
      " |    |    |    |    |    |-- type: string (nullable = true)\n",
      " |    |    |    |    |-- dataTypeName: string (nullable = true)\n",
      " |    |    |    |    |-- description: string (nullable = true)\n",
      " |    |    |    |    |-- fieldName: string (nullable = true)\n",
      " |    |    |    |    |-- flags: array (nullable = true)\n",
      " |    |    |    |    |    |-- element: string (containsNull = true)\n",
      " |    |    |    |    |-- format: struct (nullable = true)\n",
      " |    |    |    |    |    |-- align: string (nullable = true)\n",
      " |    |    |    |    |    |-- noCommas: string (nullable = true)\n",
      " |    |    |    |    |    |-- precisionStyle: string (nullable = true)\n",
      " |    |    |    |    |    |-- view: string (nullable = true)\n",
      " |    |    |    |    |-- id: long (nullable = true)\n",
      " |    |    |    |    |-- name: string (nullable = true)\n",
      " |    |    |    |    |-- position: long (nullable = true)\n",
      " |    |    |    |    |-- renderTypeName: string (nullable = true)\n",
      " |    |    |    |    |-- tableColumnId: long (nullable = true)\n",
      " |    |    |    |    |-- width: long (nullable = true)\n",
      " |    |    |-- createdAt: long (nullable = true)\n",
      " |    |    |-- description: string (nullable = true)\n",
      " |    |    |-- displayType: string (nullable = true)\n",
      " |    |    |-- downloadCount: long (nullable = true)\n",
      " |    |    |-- flags: array (nullable = true)\n",
      " |    |    |    |-- element: string (containsNull = true)\n",
      " |    |    |-- grants: array (nullable = true)\n",
      " |    |    |    |-- element: struct (containsNull = true)\n",
      " |    |    |    |    |-- flags: array (nullable = true)\n",
      " |    |    |    |    |    |-- element: string (containsNull = true)\n",
      " |    |    |    |    |-- inherited: boolean (nullable = true)\n",
      " |    |    |    |    |-- type: string (nullable = true)\n",
      " |    |    |-- hideFromCatalog: boolean (nullable = true)\n",
      " |    |    |-- hideFromDataJson: boolean (nullable = true)\n",
      " |    |    |-- id: string (nullable = true)\n",
      " |    |    |-- indexUpdatedAt: long (nullable = true)\n",
      " |    |    |-- locked: boolean (nullable = true)\n",
      " |    |    |-- metadata: struct (nullable = true)\n",
      " |    |    |    |-- custom_fields: struct (nullable = true)\n",
      " |    |    |    |    |-- Common Core: struct (nullable = true)\n",
      " |    |    |    |    |    |-- Bureau Code: array (nullable = true)\n",
      " |    |    |    |    |    |    |-- element: string (containsNull = true)\n",
      " |    |    |    |    |    |-- Program Code: string (nullable = true)\n",
      " |    |    |    |-- rdfClass: string (nullable = true)\n",
      " |    |    |    |-- rdfSubject: string (nullable = true)\n",
      " |    |    |    |-- rowIdentifier: string (nullable = true)\n",
      " |    |    |    |-- rowLabel: string (nullable = true)\n",
      " |    |    |-- name: string (nullable = true)\n",
      " |    |    |-- newBackend: boolean (nullable = true)\n",
      " |    |    |-- numberOfComments: long (nullable = true)\n",
      " |    |    |-- oid: long (nullable = true)\n",
      " |    |    |-- owner: struct (nullable = true)\n",
      " |    |    |    |-- displayName: string (nullable = true)\n",
      " |    |    |    |-- flags: array (nullable = true)\n",
      " |    |    |    |    |-- element: string (containsNull = true)\n",
      " |    |    |    |-- id: string (nullable = true)\n",
      " |    |    |    |-- profileImageUrlLarge: string (nullable = true)\n",
      " |    |    |    |-- profileImageUrlMedium: string (nullable = true)\n",
      " |    |    |    |-- profileImageUrlSmall: string (nullable = true)\n",
      " |    |    |    |-- screenName: string (nullable = true)\n",
      " |    |    |    |-- type: string (nullable = true)\n",
      " |    |    |-- provenance: string (nullable = true)\n",
      " |    |    |-- publicationAppendEnabled: boolean (nullable = true)\n",
      " |    |    |-- publicationDate: long (nullable = true)\n",
      " |    |    |-- publicationGroup: long (nullable = true)\n",
      " |    |    |-- publicationStage: string (nullable = true)\n",
      " |    |    |-- rights: array (nullable = true)\n",
      " |    |    |    |-- element: string (containsNull = true)\n",
      " |    |    |-- rowClass: string (nullable = true)\n",
      " |    |    |-- rowsUpdatedAt: long (nullable = true)\n",
      " |    |    |-- rowsUpdatedBy: string (nullable = true)\n",
      " |    |    |-- tableAuthor: struct (nullable = true)\n",
      " |    |    |    |-- displayName: string (nullable = true)\n",
      " |    |    |    |-- flags: array (nullable = true)\n",
      " |    |    |    |    |-- element: string (containsNull = true)\n",
      " |    |    |    |-- id: string (nullable = true)\n",
      " |    |    |    |-- profileImageUrlLarge: string (nullable = true)\n",
      " |    |    |    |-- profileImageUrlMedium: string (nullable = true)\n",
      " |    |    |    |-- profileImageUrlSmall: string (nullable = true)\n",
      " |    |    |    |-- screenName: string (nullable = true)\n",
      " |    |    |    |-- type: string (nullable = true)\n",
      " |    |    |-- tableId: long (nullable = true)\n",
      " |    |    |-- tags: array (nullable = true)\n",
      " |    |    |    |-- element: string (containsNull = true)\n",
      " |    |    |-- totalTimesRated: long (nullable = true)\n",
      " |    |    |-- viewCount: long (nullable = true)\n",
      " |    |    |-- viewLastModified: long (nullable = true)\n",
      " |    |    |-- viewType: string (nullable = true)\n",
      "\n"
     ]
    }
   ],
   "source": [
    "jsonDF.printSchema"
   ]
  },
  {
   "cell_type": "markdown",
   "id": "98a2d49c-7aea-4122-9119-e58e6290fc82",
   "metadata": {},
   "source": [
    "##### source: https://stackoverflow.com/questions/61863489/flatten-nested-json-in-scala-spark-dataframe/61863579#61863579\n",
    "##### 2.1 The dynamic code in scala is referred from the above source where it explodes the nested JSON into individual columns, since all of these are not arrays we cannot use the explode function and also it will make it more cumbersome to process individual columns. The below code dynamically splits arrays, and structs type into individual columns keeping its hierarchy intact, For eg if c is the nested child of b which is a child of an i.e. a.b.c, the code will split it as an a_b_c column. This will also prevent duplicating columns in case nested JSON has the same property name because its specific hierarchy will be attached to its name now."
   ]
  },
  {
   "cell_type": "code",
   "execution_count": 11,
   "id": "24830e28-8d1b-4e0e-bdcf-a25011b69b40",
   "metadata": {},
   "outputs": [
    {
     "data": {
      "text/plain": [
       "import org.apache.spark.sql.{DataFrame, SparkSession}\n",
       "import org.apache.spark.sql.functions._\n",
       "import org.apache.spark.sql.types._\n",
       "import scala.annotation.tailrec\n",
       "import scala.util.Try\n",
       "defined class DFHelpers\n"
      ]
     },
     "execution_count": 11,
     "metadata": {},
     "output_type": "execute_result"
    }
   ],
   "source": [
    "import org.apache.spark.sql.{DataFrame, SparkSession}\n",
    "import org.apache.spark.sql.functions._\n",
    "import org.apache.spark.sql.types._\n",
    "import scala.annotation.tailrec\n",
    "import scala.util.Try\n",
    "\n",
    "implicit class DFHelpers(df: DataFrame) {\n",
    "    def columns = {\n",
    "      val dfColumns = df.columns.map(_.toLowerCase)\n",
    "      df.schema.fields.flatMap { data =>\n",
    "        data match {\n",
    "          case column if column.dataType.isInstanceOf[StructType] => {\n",
    "            column.dataType.asInstanceOf[StructType].fields.map { field =>\n",
    "              val columnName = column.name\n",
    "              val fieldName = field.name\n",
    "              col(s\"${columnName}.${fieldName}\").as(s\"${columnName}_${fieldName}\")\n",
    "            }.toList\n",
    "          }\n",
    "          case column => List(col(s\"${column.name}\"))\n",
    "        }\n",
    "      }\n",
    "    }\n",
    "\n",
    "    def flatten: DataFrame = {\n",
    "      val empty = df.schema.filter(_.dataType.isInstanceOf[StructType]).isEmpty\n",
    "      empty match {\n",
    "        case false =>\n",
    "          df.select(columns: _*).flatten\n",
    "        case _ => df\n",
    "      }\n",
    "    }\n",
    "    def explodeColumns = {\n",
    "      @tailrec\n",
    "      def columns(cdf: DataFrame):DataFrame = cdf.schema.fields.filter(_.dataType.typeName == \"array\") match {\n",
    "        case c if !c.isEmpty => columns(c.foldLeft(cdf)((dfa,field) => {\n",
    "          dfa.withColumn(field.name,explode_outer(col(s\"${field.name}\"))).flatten\n",
    "        }))\n",
    "        case _ => cdf\n",
    "      }\n",
    "      columns(df.flatten)\n",
    "    }\n",
    "}\n",
    "\n"
   ]
  },
  {
   "cell_type": "markdown",
   "id": "651e505c-3c7e-481d-b11d-138186ca18c3",
   "metadata": {},
   "source": [
    "##### 2.2 Call the above function with the dataframe variable"
   ]
  },
  {
   "cell_type": "code",
   "execution_count": 12,
   "id": "8197fc02-4c7e-49d7-8fc1-da458dabf717",
   "metadata": {},
   "outputs": [
    {
     "data": {
      "text/plain": [
       "flattenedJsonDF: org.apache.spark.sql.DataFrame = [data: string, meta_view_approvals_reviewedAt: bigint ... 100 more fields]\n"
      ]
     },
     "execution_count": 12,
     "metadata": {},
     "output_type": "execute_result"
    }
   ],
   "source": [
    "val flattenedJsonDF = jsonDF.explodeColumns"
   ]
  },
  {
   "cell_type": "markdown",
   "id": "67b2c2fd-1278-4efd-8fd9-e2817ea5541f",
   "metadata": {},
   "source": [
    "##### 2.3 Verifying the schema after the function is run. It maintained the hierarchy by separating the names with underscore symbole ('-') between each data column. This will also prevent duplicating columns in case nested json has the same property name because its specific hierarchy will be attached to its name now.\n",
    "##### For eg: the property 'flags' are now prefixed with its hierarchy meta_view_flags, meta_view_owner_flags, meta_view_columns_flags"
   ]
  },
  {
   "cell_type": "code",
   "execution_count": 13,
   "id": "f7d2868e-2488-4481-bc62-9c7e1afe63c1",
   "metadata": {},
   "outputs": [
    {
     "name": "stdout",
     "output_type": "stream",
     "text": [
      "root\n",
      " |-- data: string (nullable = true)\n",
      " |-- meta_view_approvals_reviewedAt: long (nullable = true)\n",
      " |-- meta_view_approvals_reviewedAutomatically: boolean (nullable = true)\n",
      " |-- meta_view_approvals_state: string (nullable = true)\n",
      " |-- meta_view_approvals_submissionDetails_permissionType: string (nullable = true)\n",
      " |-- meta_view_approvals_submissionId: long (nullable = true)\n",
      " |-- meta_view_approvals_submissionObject: string (nullable = true)\n",
      " |-- meta_view_approvals_submissionOutcome: string (nullable = true)\n",
      " |-- meta_view_approvals_submissionOutcomeApplication_failureCount: long (nullable = true)\n",
      " |-- meta_view_approvals_submissionOutcomeApplication_status: string (nullable = true)\n",
      " |-- meta_view_approvals_submittedAt: long (nullable = true)\n",
      " |-- meta_view_approvals_submitter_displayName: string (nullable = true)\n",
      " |-- meta_view_approvals_submitter_id: string (nullable = true)\n",
      " |-- meta_view_approvals_targetAudience: string (nullable = true)\n",
      " |-- meta_view_approvals_workflowId: long (nullable = true)\n",
      " |-- meta_view_assetType: string (nullable = true)\n",
      " |-- meta_view_attributionLink: string (nullable = true)\n",
      " |-- meta_view_averageRating: long (nullable = true)\n",
      " |-- meta_view_category: string (nullable = true)\n",
      " |-- meta_view_clientContext_clientContextVariables: string (nullable = true)\n",
      " |-- meta_view_columns_cachedContents_average: string (nullable = true)\n",
      " |-- meta_view_columns_cachedContents_cardinality: string (nullable = true)\n",
      " |-- meta_view_columns_cachedContents_count: string (nullable = true)\n",
      " |-- meta_view_columns_cachedContents_largest: string (nullable = true)\n",
      " |-- meta_view_columns_cachedContents_non_null: string (nullable = true)\n",
      " |-- meta_view_columns_cachedContents_null: string (nullable = true)\n",
      " |-- meta_view_columns_cachedContents_smallest: string (nullable = true)\n",
      " |-- meta_view_columns_cachedContents_sum: string (nullable = true)\n",
      " |-- meta_view_columns_cachedContents_top_count: string (nullable = true)\n",
      " |-- meta_view_columns_cachedContents_top_item: string (nullable = true)\n",
      " |-- meta_view_columns_computationStrategy_parameters_primary_key: string (nullable = true)\n",
      " |-- meta_view_columns_computationStrategy_parameters_region: string (nullable = true)\n",
      " |-- meta_view_columns_computationStrategy_source_columns: string (nullable = true)\n",
      " |-- meta_view_columns_computationStrategy_type: string (nullable = true)\n",
      " |-- meta_view_columns_dataTypeName: string (nullable = true)\n",
      " |-- meta_view_columns_description: string (nullable = true)\n",
      " |-- meta_view_columns_fieldName: string (nullable = true)\n",
      " |-- meta_view_columns_flags: string (nullable = true)\n",
      " |-- meta_view_columns_format_align: string (nullable = true)\n",
      " |-- meta_view_columns_format_noCommas: string (nullable = true)\n",
      " |-- meta_view_columns_format_precisionStyle: string (nullable = true)\n",
      " |-- meta_view_columns_format_view: string (nullable = true)\n",
      " |-- meta_view_columns_id: long (nullable = true)\n",
      " |-- meta_view_columns_name: string (nullable = true)\n",
      " |-- meta_view_columns_position: long (nullable = true)\n",
      " |-- meta_view_columns_renderTypeName: string (nullable = true)\n",
      " |-- meta_view_columns_tableColumnId: long (nullable = true)\n",
      " |-- meta_view_columns_width: long (nullable = true)\n",
      " |-- meta_view_createdAt: long (nullable = true)\n",
      " |-- meta_view_description: string (nullable = true)\n",
      " |-- meta_view_displayType: string (nullable = true)\n",
      " |-- meta_view_downloadCount: long (nullable = true)\n",
      " |-- meta_view_flags: string (nullable = true)\n",
      " |-- meta_view_grants_flags: string (nullable = true)\n",
      " |-- meta_view_grants_inherited: boolean (nullable = true)\n",
      " |-- meta_view_grants_type: string (nullable = true)\n",
      " |-- meta_view_hideFromCatalog: boolean (nullable = true)\n",
      " |-- meta_view_hideFromDataJson: boolean (nullable = true)\n",
      " |-- meta_view_id: string (nullable = true)\n",
      " |-- meta_view_indexUpdatedAt: long (nullable = true)\n",
      " |-- meta_view_locked: boolean (nullable = true)\n",
      " |-- meta_view_metadata_custom_fields_Common Core_Bureau Code: string (nullable = true)\n",
      " |-- meta_view_metadata_custom_fields_Common Core_Program Code: string (nullable = true)\n",
      " |-- meta_view_metadata_rdfClass: string (nullable = true)\n",
      " |-- meta_view_metadata_rdfSubject: string (nullable = true)\n",
      " |-- meta_view_metadata_rowIdentifier: string (nullable = true)\n",
      " |-- meta_view_metadata_rowLabel: string (nullable = true)\n",
      " |-- meta_view_name: string (nullable = true)\n",
      " |-- meta_view_newBackend: boolean (nullable = true)\n",
      " |-- meta_view_numberOfComments: long (nullable = true)\n",
      " |-- meta_view_oid: long (nullable = true)\n",
      " |-- meta_view_owner_displayName: string (nullable = true)\n",
      " |-- meta_view_owner_flags: string (nullable = true)\n",
      " |-- meta_view_owner_id: string (nullable = true)\n",
      " |-- meta_view_owner_profileImageUrlLarge: string (nullable = true)\n",
      " |-- meta_view_owner_profileImageUrlMedium: string (nullable = true)\n",
      " |-- meta_view_owner_profileImageUrlSmall: string (nullable = true)\n",
      " |-- meta_view_owner_screenName: string (nullable = true)\n",
      " |-- meta_view_owner_type: string (nullable = true)\n",
      " |-- meta_view_provenance: string (nullable = true)\n",
      " |-- meta_view_publicationAppendEnabled: boolean (nullable = true)\n",
      " |-- meta_view_publicationDate: long (nullable = true)\n",
      " |-- meta_view_publicationGroup: long (nullable = true)\n",
      " |-- meta_view_publicationStage: string (nullable = true)\n",
      " |-- meta_view_rights: string (nullable = true)\n",
      " |-- meta_view_rowClass: string (nullable = true)\n",
      " |-- meta_view_rowsUpdatedAt: long (nullable = true)\n",
      " |-- meta_view_rowsUpdatedBy: string (nullable = true)\n",
      " |-- meta_view_tableAuthor_displayName: string (nullable = true)\n",
      " |-- meta_view_tableAuthor_flags: string (nullable = true)\n",
      " |-- meta_view_tableAuthor_id: string (nullable = true)\n",
      " |-- meta_view_tableAuthor_profileImageUrlLarge: string (nullable = true)\n",
      " |-- meta_view_tableAuthor_profileImageUrlMedium: string (nullable = true)\n",
      " |-- meta_view_tableAuthor_profileImageUrlSmall: string (nullable = true)\n",
      " |-- meta_view_tableAuthor_screenName: string (nullable = true)\n",
      " |-- meta_view_tableAuthor_type: string (nullable = true)\n",
      " |-- meta_view_tableId: long (nullable = true)\n",
      " |-- meta_view_tags: string (nullable = true)\n",
      " |-- meta_view_totalTimesRated: long (nullable = true)\n",
      " |-- meta_view_viewCount: long (nullable = true)\n",
      " |-- meta_view_viewLastModified: long (nullable = true)\n",
      " |-- meta_view_viewType: string (nullable = true)\n",
      "\n"
     ]
    }
   ],
   "source": [
    "flattenedJsonDF.printSchema"
   ]
  },
  {
   "cell_type": "code",
   "execution_count": 14,
   "id": "b390ea0e-9172-4057-a2bc-6ea1a1541e76",
   "metadata": {},
   "outputs": [
    {
     "name": "stdout",
     "output_type": "stream",
     "text": [
      "+--------------------+------------------------------+-----------------------------------------+-------------------------+----------------------------------------------------+--------------------------------+------------------------------------+-------------------------------------+-------------------------------------------------------------+-------------------------------------------------------+-------------------------------+-----------------------------------------+--------------------------------+----------------------------------+------------------------------+-------------------+-------------------------+-----------------------+------------------+----------------------------------------------+----------------------------------------+--------------------------------------------+--------------------------------------+----------------------------------------+-----------------------------------------+-------------------------------------+-----------------------------------------+------------------------------------+------------------------------------------+-----------------------------------------+------------------------------------------------------------+-------------------------------------------------------+----------------------------------------------------+------------------------------------------+------------------------------+-----------------------------+---------------------------+-----------------------+------------------------------+---------------------------------+---------------------------------------+-----------------------------+--------------------+----------------------+--------------------------+--------------------------------+-------------------------------+-----------------------+-------------------+---------------------+---------------------+-----------------------+---------------+----------------------+--------------------------+---------------------+-------------------------+--------------------------+------------+------------------------+----------------+--------------------------------------------------------+---------------------------------------------------------+---------------------------+-----------------------------+--------------------------------+---------------------------+------------------+--------------------+--------------------------+-------------+---------------------------+---------------------+------------------+------------------------------------+-------------------------------------+------------------------------------+--------------------------+--------------------+--------------------+----------------------------------+-------------------------+--------------------------+--------------------------+----------------+------------------+-----------------------+-----------------------+---------------------------------+---------------------------+------------------------+------------------------------------------+-------------------------------------------+------------------------------------------+--------------------------------+--------------------------+-----------------+--------------+-------------------------+-------------------+--------------------------+------------------+\n",
      "|                data|meta_view_approvals_reviewedAt|meta_view_approvals_reviewedAutomatically|meta_view_approvals_state|meta_view_approvals_submissionDetails_permissionType|meta_view_approvals_submissionId|meta_view_approvals_submissionObject|meta_view_approvals_submissionOutcome|meta_view_approvals_submissionOutcomeApplication_failureCount|meta_view_approvals_submissionOutcomeApplication_status|meta_view_approvals_submittedAt|meta_view_approvals_submitter_displayName|meta_view_approvals_submitter_id|meta_view_approvals_targetAudience|meta_view_approvals_workflowId|meta_view_assetType|meta_view_attributionLink|meta_view_averageRating|meta_view_category|meta_view_clientContext_clientContextVariables|meta_view_columns_cachedContents_average|meta_view_columns_cachedContents_cardinality|meta_view_columns_cachedContents_count|meta_view_columns_cachedContents_largest|meta_view_columns_cachedContents_non_null|meta_view_columns_cachedContents_null|meta_view_columns_cachedContents_smallest|meta_view_columns_cachedContents_sum|meta_view_columns_cachedContents_top_count|meta_view_columns_cachedContents_top_item|meta_view_columns_computationStrategy_parameters_primary_key|meta_view_columns_computationStrategy_parameters_region|meta_view_columns_computationStrategy_source_columns|meta_view_columns_computationStrategy_type|meta_view_columns_dataTypeName|meta_view_columns_description|meta_view_columns_fieldName|meta_view_columns_flags|meta_view_columns_format_align|meta_view_columns_format_noCommas|meta_view_columns_format_precisionStyle|meta_view_columns_format_view|meta_view_columns_id|meta_view_columns_name|meta_view_columns_position|meta_view_columns_renderTypeName|meta_view_columns_tableColumnId|meta_view_columns_width|meta_view_createdAt|meta_view_description|meta_view_displayType|meta_view_downloadCount|meta_view_flags|meta_view_grants_flags|meta_view_grants_inherited|meta_view_grants_type|meta_view_hideFromCatalog|meta_view_hideFromDataJson|meta_view_id|meta_view_indexUpdatedAt|meta_view_locked|meta_view_metadata_custom_fields_Common Core_Bureau Code|meta_view_metadata_custom_fields_Common Core_Program Code|meta_view_metadata_rdfClass|meta_view_metadata_rdfSubject|meta_view_metadata_rowIdentifier|meta_view_metadata_rowLabel|    meta_view_name|meta_view_newBackend|meta_view_numberOfComments|meta_view_oid|meta_view_owner_displayName|meta_view_owner_flags|meta_view_owner_id|meta_view_owner_profileImageUrlLarge|meta_view_owner_profileImageUrlMedium|meta_view_owner_profileImageUrlSmall|meta_view_owner_screenName|meta_view_owner_type|meta_view_provenance|meta_view_publicationAppendEnabled|meta_view_publicationDate|meta_view_publicationGroup|meta_view_publicationStage|meta_view_rights|meta_view_rowClass|meta_view_rowsUpdatedAt|meta_view_rowsUpdatedBy|meta_view_tableAuthor_displayName|meta_view_tableAuthor_flags|meta_view_tableAuthor_id|meta_view_tableAuthor_profileImageUrlLarge|meta_view_tableAuthor_profileImageUrlMedium|meta_view_tableAuthor_profileImageUrlSmall|meta_view_tableAuthor_screenName|meta_view_tableAuthor_type|meta_view_tableId|meta_view_tags|meta_view_totalTimesRated|meta_view_viewCount|meta_view_viewLastModified|meta_view_viewType|\n",
      "+--------------------+------------------------------+-----------------------------------------+-------------------------+----------------------------------------------------+--------------------------------+------------------------------------+-------------------------------------+-------------------------------------------------------------+-------------------------------------------------------+-------------------------------+-----------------------------------------+--------------------------------+----------------------------------+------------------------------+-------------------+-------------------------+-----------------------+------------------+----------------------------------------------+----------------------------------------+--------------------------------------------+--------------------------------------+----------------------------------------+-----------------------------------------+-------------------------------------+-----------------------------------------+------------------------------------+------------------------------------------+-----------------------------------------+------------------------------------------------------------+-------------------------------------------------------+----------------------------------------------------+------------------------------------------+------------------------------+-----------------------------+---------------------------+-----------------------+------------------------------+---------------------------------+---------------------------------------+-----------------------------+--------------------+----------------------+--------------------------+--------------------------------+-------------------------------+-----------------------+-------------------+---------------------+---------------------+-----------------------+---------------+----------------------+--------------------------+---------------------+-------------------------+--------------------------+------------+------------------------+----------------+--------------------------------------------------------+---------------------------------------------------------+---------------------------+-----------------------------+--------------------------------+---------------------------+------------------+--------------------+--------------------------+-------------+---------------------------+---------------------+------------------+------------------------------------+-------------------------------------+------------------------------------+--------------------------+--------------------+--------------------+----------------------------------+-------------------------+--------------------------+--------------------------+----------------+------------------+-----------------------+-----------------------+---------------------------------+---------------------------+------------------------+------------------------------------------+-------------------------------------------+------------------------------------------+--------------------------------+--------------------------+-----------------+--------------+-------------------------+-------------------+--------------------------+------------------+\n",
      "|  row-hzx5-myxf_ktcf|                    1437418476|                                     true|                 approved|                                                READ|                          650286|                public_audience_r...|                      change_audience|                                                            0|                                                success|                     1437418476|                         NASA Public Data|                       isxt-qkkm|                            public|                          2019|            dataset|     http://visualizin...|                      0|     Space Science|                                          NULL|                                    NULL|                                        NULL|                                  NULL|                                    NULL|                                     NULL|                                 NULL|                                     NULL|                                NULL|                                      NULL|                                     NULL|                                                        NULL|                                                   NULL|                                                NULL|                                      NULL|                     meta_data|                         NULL|                       :sid|                 hidden|                          NULL|                             NULL|                                   NULL|                         NULL|                  -1|                   sid|                         0|                       meta_data|                           NULL|                   NULL|         1427993711| This comprehensiv...|                table|                 272174|        default|                public|                     false|               viewer|                    false|                     false|   gh4g-9sfh|              1530128561|           false|                                                  026:00|                                                  026:009|                           |                            0|                               0|         meteorite landings|Meteorite Landings|                true|                         0|     12394300|           NASA Public Data|  mayBeStoriesCoOwner|         isxt-qkkm|                /api/users/isxt-q...|                 /api/users/isxt-q...|                /api/users/isxt-q...|          NASA Public Data|         interactive|            official|                             false|               1437418476|                   2592752|                 published|            read|                  |             1437418165|              isxt-qkkm|                 NASA Public Data|        mayBeStoriesCoOwner|               isxt-qkkm|                      /api/users/isxt-q...|                       /api/users/isxt-q...|                      /api/users/isxt-q...|                NASA Public Data|               interactive|          3654362|     spaceapps|                        0|             146157|                1675176938|           tabular|\n",
      "|00000000-0000-000...|                    1437418476|                                     true|                 approved|                                                READ|                          650286|                public_audience_r...|                      change_audience|                                                            0|                                                success|                     1437418476|                         NASA Public Data|                       isxt-qkkm|                            public|                          2019|            dataset|     http://visualizin...|                      0|     Space Science|                                          NULL|                                    NULL|                                        NULL|                                  NULL|                                    NULL|                                     NULL|                                 NULL|                                     NULL|                                NULL|                                      NULL|                                     NULL|                                                        NULL|                                                   NULL|                                                NULL|                                      NULL|                     meta_data|                         NULL|                       :sid|                 hidden|                          NULL|                             NULL|                                   NULL|                         NULL|                  -1|                   sid|                         0|                       meta_data|                           NULL|                   NULL|         1427993711| This comprehensiv...|                table|                 272174|        default|                public|                     false|               viewer|                    false|                     false|   gh4g-9sfh|              1530128561|           false|                                                  026:00|                                                  026:009|                           |                            0|                               0|         meteorite landings|Meteorite Landings|                true|                         0|     12394300|           NASA Public Data|  mayBeStoriesCoOwner|         isxt-qkkm|                /api/users/isxt-q...|                 /api/users/isxt-q...|                /api/users/isxt-q...|          NASA Public Data|         interactive|            official|                             false|               1437418476|                   2592752|                 published|            read|                  |             1437418165|              isxt-qkkm|                 NASA Public Data|        mayBeStoriesCoOwner|               isxt-qkkm|                      /api/users/isxt-q...|                       /api/users/isxt-q...|                      /api/users/isxt-q...|                NASA Public Data|               interactive|          3654362|     spaceapps|                        0|             146157|                1675176938|           tabular|\n",
      "+--------------------+------------------------------+-----------------------------------------+-------------------------+----------------------------------------------------+--------------------------------+------------------------------------+-------------------------------------+-------------------------------------------------------------+-------------------------------------------------------+-------------------------------+-----------------------------------------+--------------------------------+----------------------------------+------------------------------+-------------------+-------------------------+-----------------------+------------------+----------------------------------------------+----------------------------------------+--------------------------------------------+--------------------------------------+----------------------------------------+-----------------------------------------+-------------------------------------+-----------------------------------------+------------------------------------+------------------------------------------+-----------------------------------------+------------------------------------------------------------+-------------------------------------------------------+----------------------------------------------------+------------------------------------------+------------------------------+-----------------------------+---------------------------+-----------------------+------------------------------+---------------------------------+---------------------------------------+-----------------------------+--------------------+----------------------+--------------------------+--------------------------------+-------------------------------+-----------------------+-------------------+---------------------+---------------------+-----------------------+---------------+----------------------+--------------------------+---------------------+-------------------------+--------------------------+------------+------------------------+----------------+--------------------------------------------------------+---------------------------------------------------------+---------------------------+-----------------------------+--------------------------------+---------------------------+------------------+--------------------+--------------------------+-------------+---------------------------+---------------------+------------------+------------------------------------+-------------------------------------+------------------------------------+--------------------------+--------------------+--------------------+----------------------------------+-------------------------+--------------------------+--------------------------+----------------+------------------+-----------------------+-----------------------+---------------------------------+---------------------------+------------------------+------------------------------------------+-------------------------------------------+------------------------------------------+--------------------------------+--------------------------+-----------------+--------------+-------------------------+-------------------+--------------------------+------------------+\n",
      "only showing top 2 rows\n",
      "\n"
     ]
    }
   ],
   "source": [
    "flattenedJsonDF.show(2)"
   ]
  },
  {
   "cell_type": "markdown",
   "id": "19393a03-ff88-46e5-8448-02ce5215fe66",
   "metadata": {},
   "source": [
    "##### 3. Finally :-), the core step, create an iceberg table and write the json data to it. \n",
    "##### Once the catalog is created, for the next writes use append to add to an existing table, create for new , replace to overwrite, or use both createOrReplace for the safer side if one wants to replace and create a new table if it already exists to "
   ]
  },
  {
   "cell_type": "code",
   "execution_count": 16,
   "id": "c0e6a8c8-b884-4883-9a8f-e77cff6d05b6",
   "metadata": {},
   "outputs": [
    {
     "data": {
      "text/plain": [
       "icedTable: Unit = ()\n"
      ]
     },
     "execution_count": 16,
     "metadata": {},
     "output_type": "execute_result"
    }
   ],
   "source": [
    "val icedTable = flattenedJsonDF.writeTo(\"iceberg.mydb.meteorites\").using(\"iceberg\").createOrReplace()"
   ]
  },
  {
   "cell_type": "markdown",
   "id": "e6235ca2-84f2-42c7-8162-bb857de75b4f",
   "metadata": {},
   "source": [
    "##### 3.1 Verify if the table is created using iceberg format"
   ]
  },
  {
   "cell_type": "code",
   "execution_count": 17,
   "id": "b2aa38b0-21ba-418c-8a4d-75cfd4f00c61",
   "metadata": {},
   "outputs": [
    {
     "data": {
      "text/plain": [
       "meteorTable: org.apache.spark.sql.DataFrame = [data: string, meta_view_approvals_reviewedAt: bigint ... 100 more fields]\n"
      ]
     },
     "execution_count": 17,
     "metadata": {},
     "output_type": "execute_result"
    }
   ],
   "source": [
    "val meteorTable = spark.read.format(\"iceberg\").load(\"iceberg.mydb.meteorites\")"
   ]
  },
  {
   "cell_type": "markdown",
   "id": "504b3548-e5e2-4b58-9438-48f78ade5a40",
   "metadata": {},
   "source": [
    "##### 3.2 Display result"
   ]
  },
  {
   "cell_type": "code",
   "execution_count": 18,
   "id": "b270c4bd-c74f-466a-91a8-f2f9ea5e6571",
   "metadata": {},
   "outputs": [
    {
     "name": "stdout",
     "output_type": "stream",
     "text": [
      "+--------------------+------------------------------+-----------------------------------------+-------------------------+----------------------------------------------------+--------------------------------+------------------------------------+-------------------------------------+-------------------------------------------------------------+-------------------------------------------------------+-------------------------------+-----------------------------------------+--------------------------------+----------------------------------+------------------------------+-------------------+-------------------------+-----------------------+------------------+----------------------------------------------+----------------------------------------+--------------------------------------------+--------------------------------------+----------------------------------------+-----------------------------------------+-------------------------------------+-----------------------------------------+------------------------------------+------------------------------------------+-----------------------------------------+------------------------------------------------------------+-------------------------------------------------------+----------------------------------------------------+------------------------------------------+------------------------------+-----------------------------+---------------------------+-----------------------+------------------------------+---------------------------------+---------------------------------------+-----------------------------+--------------------+----------------------+--------------------------+--------------------------------+-------------------------------+-----------------------+-------------------+---------------------+---------------------+-----------------------+---------------+----------------------+--------------------------+---------------------+-------------------------+--------------------------+------------+------------------------+----------------+--------------------------------------------------------+---------------------------------------------------------+---------------------------+-----------------------------+--------------------------------+---------------------------+------------------+--------------------+--------------------------+-------------+---------------------------+---------------------+------------------+------------------------------------+-------------------------------------+------------------------------------+--------------------------+--------------------+--------------------+----------------------------------+-------------------------+--------------------------+--------------------------+----------------+------------------+-----------------------+-----------------------+---------------------------------+---------------------------+------------------------+------------------------------------------+-------------------------------------------+------------------------------------------+--------------------------------+--------------------------+-----------------+--------------+-------------------------+-------------------+--------------------------+------------------+\n",
      "|                data|meta_view_approvals_reviewedAt|meta_view_approvals_reviewedAutomatically|meta_view_approvals_state|meta_view_approvals_submissionDetails_permissionType|meta_view_approvals_submissionId|meta_view_approvals_submissionObject|meta_view_approvals_submissionOutcome|meta_view_approvals_submissionOutcomeApplication_failureCount|meta_view_approvals_submissionOutcomeApplication_status|meta_view_approvals_submittedAt|meta_view_approvals_submitter_displayName|meta_view_approvals_submitter_id|meta_view_approvals_targetAudience|meta_view_approvals_workflowId|meta_view_assetType|meta_view_attributionLink|meta_view_averageRating|meta_view_category|meta_view_clientContext_clientContextVariables|meta_view_columns_cachedContents_average|meta_view_columns_cachedContents_cardinality|meta_view_columns_cachedContents_count|meta_view_columns_cachedContents_largest|meta_view_columns_cachedContents_non_null|meta_view_columns_cachedContents_null|meta_view_columns_cachedContents_smallest|meta_view_columns_cachedContents_sum|meta_view_columns_cachedContents_top_count|meta_view_columns_cachedContents_top_item|meta_view_columns_computationStrategy_parameters_primary_key|meta_view_columns_computationStrategy_parameters_region|meta_view_columns_computationStrategy_source_columns|meta_view_columns_computationStrategy_type|meta_view_columns_dataTypeName|meta_view_columns_description|meta_view_columns_fieldName|meta_view_columns_flags|meta_view_columns_format_align|meta_view_columns_format_noCommas|meta_view_columns_format_precisionStyle|meta_view_columns_format_view|meta_view_columns_id|meta_view_columns_name|meta_view_columns_position|meta_view_columns_renderTypeName|meta_view_columns_tableColumnId|meta_view_columns_width|meta_view_createdAt|meta_view_description|meta_view_displayType|meta_view_downloadCount|meta_view_flags|meta_view_grants_flags|meta_view_grants_inherited|meta_view_grants_type|meta_view_hideFromCatalog|meta_view_hideFromDataJson|meta_view_id|meta_view_indexUpdatedAt|meta_view_locked|meta_view_metadata_custom_fields_Common Core_Bureau Code|meta_view_metadata_custom_fields_Common Core_Program Code|meta_view_metadata_rdfClass|meta_view_metadata_rdfSubject|meta_view_metadata_rowIdentifier|meta_view_metadata_rowLabel|    meta_view_name|meta_view_newBackend|meta_view_numberOfComments|meta_view_oid|meta_view_owner_displayName|meta_view_owner_flags|meta_view_owner_id|meta_view_owner_profileImageUrlLarge|meta_view_owner_profileImageUrlMedium|meta_view_owner_profileImageUrlSmall|meta_view_owner_screenName|meta_view_owner_type|meta_view_provenance|meta_view_publicationAppendEnabled|meta_view_publicationDate|meta_view_publicationGroup|meta_view_publicationStage|meta_view_rights|meta_view_rowClass|meta_view_rowsUpdatedAt|meta_view_rowsUpdatedBy|meta_view_tableAuthor_displayName|meta_view_tableAuthor_flags|meta_view_tableAuthor_id|meta_view_tableAuthor_profileImageUrlLarge|meta_view_tableAuthor_profileImageUrlMedium|meta_view_tableAuthor_profileImageUrlSmall|meta_view_tableAuthor_screenName|meta_view_tableAuthor_type|meta_view_tableId|meta_view_tags|meta_view_totalTimesRated|meta_view_viewCount|meta_view_viewLastModified|meta_view_viewType|\n",
      "+--------------------+------------------------------+-----------------------------------------+-------------------------+----------------------------------------------------+--------------------------------+------------------------------------+-------------------------------------+-------------------------------------------------------------+-------------------------------------------------------+-------------------------------+-----------------------------------------+--------------------------------+----------------------------------+------------------------------+-------------------+-------------------------+-----------------------+------------------+----------------------------------------------+----------------------------------------+--------------------------------------------+--------------------------------------+----------------------------------------+-----------------------------------------+-------------------------------------+-----------------------------------------+------------------------------------+------------------------------------------+-----------------------------------------+------------------------------------------------------------+-------------------------------------------------------+----------------------------------------------------+------------------------------------------+------------------------------+-----------------------------+---------------------------+-----------------------+------------------------------+---------------------------------+---------------------------------------+-----------------------------+--------------------+----------------------+--------------------------+--------------------------------+-------------------------------+-----------------------+-------------------+---------------------+---------------------+-----------------------+---------------+----------------------+--------------------------+---------------------+-------------------------+--------------------------+------------+------------------------+----------------+--------------------------------------------------------+---------------------------------------------------------+---------------------------+-----------------------------+--------------------------------+---------------------------+------------------+--------------------+--------------------------+-------------+---------------------------+---------------------+------------------+------------------------------------+-------------------------------------+------------------------------------+--------------------------+--------------------+--------------------+----------------------------------+-------------------------+--------------------------+--------------------------+----------------+------------------+-----------------------+-----------------------+---------------------------------+---------------------------+------------------------+------------------------------------------+-------------------------------------------+------------------------------------------+--------------------------------+--------------------------+-----------------+--------------+-------------------------+-------------------+--------------------------+------------------+\n",
      "|  row-hzx5-myxf_ktcf|                    1437418476|                                     true|                 approved|                                                READ|                          650286|                public_audience_r...|                      change_audience|                                                            0|                                                success|                     1437418476|                         NASA Public Data|                       isxt-qkkm|                            public|                          2019|            dataset|     http://visualizin...|                      0|     Space Science|                                          NULL|                                    NULL|                                        NULL|                                  NULL|                                    NULL|                                     NULL|                                 NULL|                                     NULL|                                NULL|                                      NULL|                                     NULL|                                                        NULL|                                                   NULL|                                                NULL|                                      NULL|                     meta_data|                         NULL|                       :sid|                 hidden|                          NULL|                             NULL|                                   NULL|                         NULL|                  -1|                   sid|                         0|                       meta_data|                           NULL|                   NULL|         1427993711| This comprehensiv...|                table|                 272174|        default|                public|                     false|               viewer|                    false|                     false|   gh4g-9sfh|              1530128561|           false|                                                  026:00|                                                  026:009|                           |                            0|                               0|         meteorite landings|Meteorite Landings|                true|                         0|     12394300|           NASA Public Data|  mayBeStoriesCoOwner|         isxt-qkkm|                /api/users/isxt-q...|                 /api/users/isxt-q...|                /api/users/isxt-q...|          NASA Public Data|         interactive|            official|                             false|               1437418476|                   2592752|                 published|            read|                  |             1437418165|              isxt-qkkm|                 NASA Public Data|        mayBeStoriesCoOwner|               isxt-qkkm|                      /api/users/isxt-q...|                       /api/users/isxt-q...|                      /api/users/isxt-q...|                NASA Public Data|               interactive|          3654362|     spaceapps|                        0|             146157|                1675176938|           tabular|\n",
      "|00000000-0000-000...|                    1437418476|                                     true|                 approved|                                                READ|                          650286|                public_audience_r...|                      change_audience|                                                            0|                                                success|                     1437418476|                         NASA Public Data|                       isxt-qkkm|                            public|                          2019|            dataset|     http://visualizin...|                      0|     Space Science|                                          NULL|                                    NULL|                                        NULL|                                  NULL|                                    NULL|                                     NULL|                                 NULL|                                     NULL|                                NULL|                                      NULL|                                     NULL|                                                        NULL|                                                   NULL|                                                NULL|                                      NULL|                     meta_data|                         NULL|                       :sid|                 hidden|                          NULL|                             NULL|                                   NULL|                         NULL|                  -1|                   sid|                         0|                       meta_data|                           NULL|                   NULL|         1427993711| This comprehensiv...|                table|                 272174|        default|                public|                     false|               viewer|                    false|                     false|   gh4g-9sfh|              1530128561|           false|                                                  026:00|                                                  026:009|                           |                            0|                               0|         meteorite landings|Meteorite Landings|                true|                         0|     12394300|           NASA Public Data|  mayBeStoriesCoOwner|         isxt-qkkm|                /api/users/isxt-q...|                 /api/users/isxt-q...|                /api/users/isxt-q...|          NASA Public Data|         interactive|            official|                             false|               1437418476|                   2592752|                 published|            read|                  |             1437418165|              isxt-qkkm|                 NASA Public Data|        mayBeStoriesCoOwner|               isxt-qkkm|                      /api/users/isxt-q...|                       /api/users/isxt-q...|                      /api/users/isxt-q...|                NASA Public Data|               interactive|          3654362|     spaceapps|                        0|             146157|                1675176938|           tabular|\n",
      "+--------------------+------------------------------+-----------------------------------------+-------------------------+----------------------------------------------------+--------------------------------+------------------------------------+-------------------------------------+-------------------------------------------------------------+-------------------------------------------------------+-------------------------------+-----------------------------------------+--------------------------------+----------------------------------+------------------------------+-------------------+-------------------------+-----------------------+------------------+----------------------------------------------+----------------------------------------+--------------------------------------------+--------------------------------------+----------------------------------------+-----------------------------------------+-------------------------------------+-----------------------------------------+------------------------------------+------------------------------------------+-----------------------------------------+------------------------------------------------------------+-------------------------------------------------------+----------------------------------------------------+------------------------------------------+------------------------------+-----------------------------+---------------------------+-----------------------+------------------------------+---------------------------------+---------------------------------------+-----------------------------+--------------------+----------------------+--------------------------+--------------------------------+-------------------------------+-----------------------+-------------------+---------------------+---------------------+-----------------------+---------------+----------------------+--------------------------+---------------------+-------------------------+--------------------------+------------+------------------------+----------------+--------------------------------------------------------+---------------------------------------------------------+---------------------------+-----------------------------+--------------------------------+---------------------------+------------------+--------------------+--------------------------+-------------+---------------------------+---------------------+------------------+------------------------------------+-------------------------------------+------------------------------------+--------------------------+--------------------+--------------------+----------------------------------+-------------------------+--------------------------+--------------------------+----------------+------------------+-----------------------+-----------------------+---------------------------------+---------------------------+------------------------+------------------------------------------+-------------------------------------------+------------------------------------------+--------------------------------+--------------------------+-----------------+--------------+-------------------------+-------------------+--------------------------+------------------+\n",
      "only showing top 2 rows\n",
      "\n"
     ]
    }
   ],
   "source": [
    "meteorTable.show(2)"
   ]
  },
  {
   "cell_type": "markdown",
   "id": "ad9cd832-e09e-44fb-9f5e-3103016fc194",
   "metadata": {},
   "source": [
    "##### 3.3 Check the count to test later when we append the data again"
   ]
  },
  {
   "cell_type": "code",
   "execution_count": 19,
   "id": "a60af0ae-efef-42ce-a4f0-97c41b7c5fdd",
   "metadata": {},
   "outputs": [
    {
     "data": {
      "text/plain": [
       "res11: Long = 542500\n"
      ]
     },
     "execution_count": 19,
     "metadata": {},
     "output_type": "execute_result"
    }
   ],
   "source": [
    "meteorTable.count()"
   ]
  },
  {
   "cell_type": "markdown",
   "id": "44a1e490-b09d-4fbf-bbdd-db475afc329c",
   "metadata": {},
   "source": [
    "##### 3.4 Check the count of columns to test the columsn size post delete step executions"
   ]
  },
  {
   "cell_type": "code",
   "execution_count": 20,
   "id": "8fdf046e-5cd2-44c9-8747-fb33194d278f",
   "metadata": {},
   "outputs": [
    {
     "data": {
      "text/plain": [
       "res12: Int = 102\n"
      ]
     },
     "execution_count": 20,
     "metadata": {},
     "output_type": "execute_result"
    }
   ],
   "source": [
    "meteorTable.columns.length"
   ]
  },
  {
   "cell_type": "markdown",
   "id": "4a7f7ac7-7972-4710-bd34-03db23904f43",
   "metadata": {
    "jp-MarkdownHeadingCollapsed": true
   },
   "source": [
    "##### 4 The Schema Evolution Feature test Begins here. Not really :-p, It is a test before the actual test\n",
    "##### Testing if any of the cases of Schema Evolution works by default without further configurations. \n",
    "##### These 4.x steps are to verify if any of the schema evolution cases works by default before configuring schema evolution-specific settings. These executions are run to compare results before and after schema evolution configurations."
   ]
  },
  {
   "cell_type": "markdown",
   "id": "40423bc3-c0dd-42eb-909a-9112f6f8d3b7",
   "metadata": {},
   "source": [
    "##### 4.1 From the original dataset, I have added new integer column and saved it as new dataset, so that I can write back to the iceberg table where the schema is already set due to the first write execution\n",
    "##### Added new integer column : testintproperty\n",
    "##### Steps are - Read the modified JSON dataset, explode it, and then append it to the existing iceberg table"
   ]
  },
  {
   "cell_type": "code",
   "execution_count": 26,
   "id": "9430053a-c4bc-46d9-aeb1-bbf3e2c33bfa",
   "metadata": {},
   "outputs": [
    {
     "ename": "org.apache.spark.sql.AnalysisException",
     "evalue": " [INSERT_COLUMN_ARITY_MISMATCH.TOO_MANY_DATA_COLUMNS] Cannot write to `demo`.`iceberg`.`mydb`.`meteorites`, the reason is too many data columns:",
     "output_type": "error",
     "traceback": [
      "org.apache.spark.sql.AnalysisException: [INSERT_COLUMN_ARITY_MISMATCH.TOO_MANY_DATA_COLUMNS] Cannot write to `demo`.`iceberg`.`mydb`.`meteorites`, the reason is too many data columns:",
      "Table columns: `data`, `meta_view_approvals_reviewedAt`, `meta_view_approvals_reviewedAutomatically`, `meta_view_approvals_state`, `meta_view_approvals_submissionDetails_permissionType`, `meta_view_approvals_submissionId`, `meta_view_approvals_submissionObject`, `meta_view_approvals_submissionOutcome`, `meta_view_approvals_submissionOutcomeApplication_failureCount`, `meta_view_approvals_submissionOutcomeApplication_status`, `meta_view_approvals_submittedAt`, `meta_view_approvals_submitter_displayName`, `meta_view_approvals_submitter_id`, `meta_view_approvals_targetAudience`, `meta_view_approvals_workflowId`, `meta_view_assetType`, `meta_view_attributionLink`, `meta_view_averageRating`, `meta_view_category`, `meta_view_clientContext_clientContextVariables`, `meta_view_columns_cachedContents_average`, `meta_view_columns_cachedContents_cardinality`, `meta_view_columns_cachedContents_count`, `meta_view_columns_cachedContents_largest`, `meta_view_columns_cachedContents_non_null`, `meta_view_columns_cachedContents_null`, `meta_view_columns_cachedContents_smallest`, `meta_view_columns_cachedContents_sum`, `meta_view_columns_cachedContents_top_count`, `meta_view_columns_cachedContents_top_item`, `meta_view_columns_computationStrategy_parameters_primary_key`, `meta_view_columns_computationStrategy_parameters_region`, `meta_view_columns_computationStrategy_source_columns`, `meta_view_columns_computationStrategy_type`, `meta_view_columns_dataTypeName`, `meta_view_columns_description`, `meta_view_columns_fieldName`, `meta_view_columns_flags`, `meta_view_columns_format_align`, `meta_view_columns_format_noCommas`, `meta_view_columns_format_precisionStyle`, `meta_view_columns_format_view`, `meta_view_columns_id`, `meta_view_columns_name`, `meta_view_columns_position`, `meta_view_columns_renderTypeName`, `meta_view_columns_tableColumnId`, `meta_view_columns_width`, `meta_view_createdAt`, `meta_view_description`, `meta_view_displayType`, `meta_view_downloadCount`, `meta_view_flags`, `meta_view_grants_flags`, `meta_view_grants_inherited`, `meta_view_grants_type`, `meta_view_hideFromCatalog`, `meta_view_hideFromDataJson`, `meta_view_id`, `meta_view_indexUpdatedAt`, `meta_view_locked`, `meta_view_metadata_custom_fields_Common Core_Bureau Code`, `meta_view_metadata_custom_fields_Common Core_Program Code`, `meta_view_metadata_rdfClass`, `meta_view_metadata_rdfSubject`, `meta_view_metadata_rowIdentifier`, `meta_view_metadata_rowLabel`, `meta_view_name`, `meta_view_newBackend`, `meta_view_numberOfComments`, `meta_view_oid`, `meta_view_owner_displayName`, `meta_view_owner_flags`, `meta_view_owner_id`, `meta_view_owner_profileImageUrlLarge`, `meta_view_owner_profileImageUrlMedium`, `meta_view_owner_profileImageUrlSmall`, `meta_view_owner_screenName`, `meta_view_owner_type`, `meta_view_provenance`, `meta_view_publicationAppendEnabled`, `meta_view_publicationDate`, `meta_view_publicationGroup`, `meta_view_publicationStage`, `meta_view_rights`, `meta_view_rowClass`, `meta_view_rowsUpdatedAt`, `meta_view_rowsUpdatedBy`, `meta_view_tableAuthor_displayName`, `meta_view_tableAuthor_flags`, `meta_view_tableAuthor_id`, `meta_view_tableAuthor_profileImageUrlLarge`, `meta_view_tableAuthor_profileImageUrlMedium`, `meta_view_tableAuthor_profileImageUrlSmall`, `meta_view_tableAuthor_screenName`, `meta_view_tableAuthor_type`, `meta_view_tableId`, `meta_view_tags`, `meta_view_totalTimesRated`, `meta_view_viewCount`, `meta_view_viewLastModified`, `meta_view_viewType`.",
      "Data columns: `data`, `meta_view_approvals_reviewedAt`, `meta_view_approvals_reviewedAutomatically`, `meta_view_approvals_state`, `meta_view_approvals_submissionDetails_permissionType`, `meta_view_approvals_submissionId`, `meta_view_approvals_submissionObject`, `meta_view_approvals_submissionOutcome`, `meta_view_approvals_submissionOutcomeApplication_failureCount`, `meta_view_approvals_submissionOutcomeApplication_status`, `meta_view_approvals_submittedAt`, `meta_view_approvals_submitter_displayName`, `meta_view_approvals_submitter_id`, `meta_view_approvals_targetAudience`, `meta_view_approvals_workflowId`, `meta_view_assetType`, `meta_view_attributionLink`, `meta_view_averageRating`, `meta_view_category`, `meta_view_clientContext_clientContextVariables`, `meta_view_columns_cachedContents_average`, `meta_view_columns_cachedContents_cardinality`, `meta_view_columns_cachedContents_count`, `meta_view_columns_cachedContents_largest`, `meta_view_columns_cachedContents_non_null`, `meta_view_columns_cachedContents_null`, `meta_view_columns_cachedContents_smallest`, `meta_view_columns_cachedContents_sum`, `meta_view_columns_cachedContents_top_count`, `meta_view_columns_cachedContents_top_item`, `meta_view_columns_computationStrategy_parameters_primary_key`, `meta_view_columns_computationStrategy_parameters_region`, `meta_view_columns_computationStrategy_source_columns`, `meta_view_columns_computationStrategy_type`, `meta_view_columns_dataTypeName`, `meta_view_columns_description`, `meta_view_columns_fieldName`, `meta_view_columns_flags`, `meta_view_columns_format_align`, `meta_view_columns_format_noCommas`, `meta_view_columns_format_precisionStyle`, `meta_view_columns_format_view`, `meta_view_columns_id`, `meta_view_columns_name`, `meta_view_columns_position`, `meta_view_columns_renderTypeName`, `meta_view_columns_tableColumnId`, `meta_view_columns_width`, `meta_view_createdAt`, `meta_view_description`, `meta_view_displayType`, `meta_view_downloadCount`, `meta_view_flags`, `meta_view_grants_flags`, `meta_view_grants_inherited`, `meta_view_grants_type`, `meta_view_hideFromCatalog`, `meta_view_hideFromDataJson`, `meta_view_id`, `meta_view_indexUpdatedAt`, `meta_view_locked`, `meta_view_metadata_custom_fields_Common Core_Bureau Code`, `meta_view_metadata_custom_fields_Common Core_Program Code`, `meta_view_metadata_rdfClass`, `meta_view_metadata_rdfSubject`, `meta_view_metadata_rowIdentifier`, `meta_view_metadata_rowLabel`, `meta_view_name`, `meta_view_newBackend`, `meta_view_numberOfComments`, `meta_view_oid`, `meta_view_owner_displayName`, `meta_view_owner_flags`, `meta_view_owner_id`, `meta_view_owner_profileImageUrlLarge`, `meta_view_owner_profileImageUrlMedium`, `meta_view_owner_profileImageUrlSmall`, `meta_view_owner_screenName`, `meta_view_owner_type`, `meta_view_provenance`, `meta_view_publicationAppendEnabled`, `meta_view_publicationDate`, `meta_view_publicationGroup`, `meta_view_publicationStage`, `meta_view_rights`, `meta_view_rowClass`, `meta_view_rowsUpdatedAt`, `meta_view_rowsUpdatedBy`, `meta_view_tableAuthor_displayName`, `meta_view_tableAuthor_flags`, `meta_view_tableAuthor_id`, `meta_view_tableAuthor_profileImageUrlLarge`, `meta_view_tableAuthor_profileImageUrlMedium`, `meta_view_tableAuthor_profileImageUrlSmall`, `meta_view_tableAuthor_screenName`, `meta_view_tableAuthor_type`, `meta_view_tableId`, `meta_view_tags`, `meta_view_testintproperty`, `meta_view_totalTimesRated`, `meta_view_viewCount`, `meta_view_viewLastModified`, `meta_view_viewType`.",
      "  at org.apache.spark.sql.errors.QueryCompilationErrors$.cannotWriteTooManyColumnsToTableError(QueryCompilationErrors.scala:2115)",
      "  at org.apache.spark.sql.catalyst.analysis.TableOutputResolver$.resolveOutputColumns(TableOutputResolver.scala:52)",
      "  at org.apache.spark.sql.catalyst.analysis.Analyzer$ResolveOutputRelation$$anonfun$apply$50.applyOrElse(Analyzer.scala:3362)",
      "  at org.apache.spark.sql.catalyst.analysis.Analyzer$ResolveOutputRelation$$anonfun$apply$50.applyOrElse(Analyzer.scala:3358)",
      "  at org.apache.spark.sql.catalyst.plans.logical.AnalysisHelper.$anonfun$resolveOperatorsDownWithPruning$2(AnalysisHelper.scala:170)",
      "  at org.apache.spark.sql.catalyst.trees.CurrentOrigin$.withOrigin(origin.scala:76)",
      "  at org.apache.spark.sql.catalyst.plans.logical.AnalysisHelper.$anonfun$resolveOperatorsDownWithPruning$1(AnalysisHelper.scala:170)",
      "  at org.apache.spark.sql.catalyst.plans.logical.AnalysisHelper$.allowInvokingTransformsInAnalyzer(AnalysisHelper.scala:323)",
      "  at org.apache.spark.sql.catalyst.plans.logical.AnalysisHelper.resolveOperatorsDownWithPruning(AnalysisHelper.scala:168)",
      "  at org.apache.spark.sql.catalyst.plans.logical.AnalysisHelper.resolveOperatorsDownWithPruning$(AnalysisHelper.scala:164)",
      "  at org.apache.spark.sql.catalyst.plans.logical.LogicalPlan.resolveOperatorsDownWithPruning(LogicalPlan.scala:32)",
      "  at org.apache.spark.sql.catalyst.plans.logical.AnalysisHelper.resolveOperatorsWithPruning(AnalysisHelper.scala:99)",
      "  at org.apache.spark.sql.catalyst.plans.logical.AnalysisHelper.resolveOperatorsWithPruning$(AnalysisHelper.scala:96)",
      "  at org.apache.spark.sql.catalyst.plans.logical.LogicalPlan.resolveOperatorsWithPruning(LogicalPlan.scala:32)",
      "  at org.apache.spark.sql.catalyst.analysis.Analyzer$ResolveOutputRelation$.apply(Analyzer.scala:3358)",
      "  at org.apache.spark.sql.catalyst.analysis.Analyzer$ResolveOutputRelation$.apply(Analyzer.scala:3356)",
      "  at org.apache.spark.sql.catalyst.rules.RuleExecutor.$anonfun$execute$2(RuleExecutor.scala:222)",
      "  at scala.collection.LinearSeqOptimized.foldLeft(LinearSeqOptimized.scala:126)",
      "  at scala.collection.LinearSeqOptimized.foldLeft$(LinearSeqOptimized.scala:122)",
      "  at scala.collection.immutable.List.foldLeft(List.scala:91)",
      "  at org.apache.spark.sql.catalyst.rules.RuleExecutor.$anonfun$execute$1(RuleExecutor.scala:219)",
      "  at org.apache.spark.sql.catalyst.rules.RuleExecutor.$anonfun$execute$1$adapted(RuleExecutor.scala:211)",
      "  at scala.collection.immutable.List.foreach(List.scala:431)",
      "  at org.apache.spark.sql.catalyst.rules.RuleExecutor.execute(RuleExecutor.scala:211)",
      "  at org.apache.spark.sql.catalyst.analysis.Analyzer.org$apache$spark$sql$catalyst$analysis$Analyzer$$executeSameContext(Analyzer.scala:226)",
      "  at org.apache.spark.sql.catalyst.analysis.Analyzer.$anonfun$execute$1(Analyzer.scala:222)",
      "  at org.apache.spark.sql.catalyst.analysis.AnalysisContext$.withNewAnalysisContext(Analyzer.scala:173)",
      "  at org.apache.spark.sql.catalyst.analysis.Analyzer.execute(Analyzer.scala:222)",
      "  at org.apache.spark.sql.catalyst.analysis.Analyzer.execute(Analyzer.scala:188)",
      "  at org.apache.spark.sql.catalyst.rules.RuleExecutor.$anonfun$executeAndTrack$1(RuleExecutor.scala:182)",
      "  at org.apache.spark.sql.catalyst.QueryPlanningTracker$.withTracker(QueryPlanningTracker.scala:89)",
      "  at org.apache.spark.sql.catalyst.rules.RuleExecutor.executeAndTrack(RuleExecutor.scala:182)",
      "  at org.apache.spark.sql.catalyst.analysis.Analyzer.$anonfun$executeAndCheck$1(Analyzer.scala:209)",
      "  at org.apache.spark.sql.catalyst.plans.logical.AnalysisHelper$.markInAnalyzer(AnalysisHelper.scala:330)",
      "  at org.apache.spark.sql.catalyst.analysis.Analyzer.executeAndCheck(Analyzer.scala:208)",
      "  at org.apache.spark.sql.execution.QueryExecution.$anonfun$analyzed$1(QueryExecution.scala:77)",
      "  at org.apache.spark.sql.catalyst.QueryPlanningTracker.measurePhase(QueryPlanningTracker.scala:138)",
      "  at org.apache.spark.sql.execution.QueryExecution.$anonfun$executePhase$2(QueryExecution.scala:219)",
      "  at org.apache.spark.sql.execution.QueryExecution$.withInternalError(QueryExecution.scala:546)",
      "  at org.apache.spark.sql.execution.QueryExecution.$anonfun$executePhase$1(QueryExecution.scala:219)",
      "  at org.apache.spark.sql.SparkSession.withActive(SparkSession.scala:900)",
      "  at org.apache.spark.sql.execution.QueryExecution.executePhase(QueryExecution.scala:218)",
      "  at org.apache.spark.sql.execution.QueryExecution.analyzed$lzycompute(QueryExecution.scala:77)",
      "  at org.apache.spark.sql.execution.QueryExecution.analyzed(QueryExecution.scala:74)",
      "  at org.apache.spark.sql.execution.QueryExecution.commandExecuted$lzycompute(QueryExecution.scala:85)",
      "  at org.apache.spark.sql.execution.QueryExecution.commandExecuted(QueryExecution.scala:83)",
      "  at org.apache.spark.sql.execution.QueryExecution.assertCommandExecuted(QueryExecution.scala:142)",
      "  at org.apache.spark.sql.DataFrameWriterV2.runCommand(DataFrameWriterV2.scala:196)",
      "  at org.apache.spark.sql.DataFrameWriterV2.append(DataFrameWriterV2.scala:150)",
      "  ... 41 elided",
      ""
     ]
    }
   ],
   "source": [
    "val addnewintcolDF =  spark.read.option(\"multiline\", \"true\").json(\"../Data/Json/meteorite_landing_addnew_int.json\")\n",
    "val flattenedsinglechangeDF = addnewintcolDF.explodeColumns\n",
    "val icedsinglechangedTable = flattenedsinglechangeDF.writeTo(\"iceberg.mydb.meteorites\").append()"
   ]
  },
  {
   "cell_type": "markdown",
   "id": "c116b75d-82f8-47d5-9bf4-b35211d22c9f",
   "metadata": {},
   "source": [
    "##### 4.2 From the original dataset, I have added new integer,double,bool and strings column and saved it as new dataset, so that I can write back to the iceberg table where the schema is already set due to the first write execution\n",
    "##### New Integer Column : testintproperty\n",
    "##### New Double Column : testdoubleprop\n",
    "##### New String Column : teststring\n",
    "##### New Bool Column : testflag\n",
    "##### Steps are - Read the modified JSON dataset, explode it, and then append it to the existing iceberg table"
   ]
  },
  {
   "cell_type": "code",
   "execution_count": 27,
   "id": "7ff72a23-8f86-41cc-9b9f-6a0634ad92fc",
   "metadata": {},
   "outputs": [
    {
     "ename": "org.apache.spark.sql.AnalysisException",
     "evalue": " [INSERT_COLUMN_ARITY_MISMATCH.TOO_MANY_DATA_COLUMNS] Cannot write to `demo`.`iceberg`.`mydb`.`meteorites`, the reason is too many data columns:",
     "output_type": "error",
     "traceback": [
      "org.apache.spark.sql.AnalysisException: [INSERT_COLUMN_ARITY_MISMATCH.TOO_MANY_DATA_COLUMNS] Cannot write to `demo`.`iceberg`.`mydb`.`meteorites`, the reason is too many data columns:",
      "Table columns: `data`, `meta_view_approvals_reviewedAt`, `meta_view_approvals_reviewedAutomatically`, `meta_view_approvals_state`, `meta_view_approvals_submissionDetails_permissionType`, `meta_view_approvals_submissionId`, `meta_view_approvals_submissionObject`, `meta_view_approvals_submissionOutcome`, `meta_view_approvals_submissionOutcomeApplication_failureCount`, `meta_view_approvals_submissionOutcomeApplication_status`, `meta_view_approvals_submittedAt`, `meta_view_approvals_submitter_displayName`, `meta_view_approvals_submitter_id`, `meta_view_approvals_targetAudience`, `meta_view_approvals_workflowId`, `meta_view_assetType`, `meta_view_attributionLink`, `meta_view_averageRating`, `meta_view_category`, `meta_view_clientContext_clientContextVariables`, `meta_view_columns_cachedContents_average`, `meta_view_columns_cachedContents_cardinality`, `meta_view_columns_cachedContents_count`, `meta_view_columns_cachedContents_largest`, `meta_view_columns_cachedContents_non_null`, `meta_view_columns_cachedContents_null`, `meta_view_columns_cachedContents_smallest`, `meta_view_columns_cachedContents_sum`, `meta_view_columns_cachedContents_top_count`, `meta_view_columns_cachedContents_top_item`, `meta_view_columns_computationStrategy_parameters_primary_key`, `meta_view_columns_computationStrategy_parameters_region`, `meta_view_columns_computationStrategy_source_columns`, `meta_view_columns_computationStrategy_type`, `meta_view_columns_dataTypeName`, `meta_view_columns_description`, `meta_view_columns_fieldName`, `meta_view_columns_flags`, `meta_view_columns_format_align`, `meta_view_columns_format_noCommas`, `meta_view_columns_format_precisionStyle`, `meta_view_columns_format_view`, `meta_view_columns_id`, `meta_view_columns_name`, `meta_view_columns_position`, `meta_view_columns_renderTypeName`, `meta_view_columns_tableColumnId`, `meta_view_columns_width`, `meta_view_createdAt`, `meta_view_description`, `meta_view_displayType`, `meta_view_downloadCount`, `meta_view_flags`, `meta_view_grants_flags`, `meta_view_grants_inherited`, `meta_view_grants_type`, `meta_view_hideFromCatalog`, `meta_view_hideFromDataJson`, `meta_view_id`, `meta_view_indexUpdatedAt`, `meta_view_locked`, `meta_view_metadata_custom_fields_Common Core_Bureau Code`, `meta_view_metadata_custom_fields_Common Core_Program Code`, `meta_view_metadata_rdfClass`, `meta_view_metadata_rdfSubject`, `meta_view_metadata_rowIdentifier`, `meta_view_metadata_rowLabel`, `meta_view_name`, `meta_view_newBackend`, `meta_view_numberOfComments`, `meta_view_oid`, `meta_view_owner_displayName`, `meta_view_owner_flags`, `meta_view_owner_id`, `meta_view_owner_profileImageUrlLarge`, `meta_view_owner_profileImageUrlMedium`, `meta_view_owner_profileImageUrlSmall`, `meta_view_owner_screenName`, `meta_view_owner_type`, `meta_view_provenance`, `meta_view_publicationAppendEnabled`, `meta_view_publicationDate`, `meta_view_publicationGroup`, `meta_view_publicationStage`, `meta_view_rights`, `meta_view_rowClass`, `meta_view_rowsUpdatedAt`, `meta_view_rowsUpdatedBy`, `meta_view_tableAuthor_displayName`, `meta_view_tableAuthor_flags`, `meta_view_tableAuthor_id`, `meta_view_tableAuthor_profileImageUrlLarge`, `meta_view_tableAuthor_profileImageUrlMedium`, `meta_view_tableAuthor_profileImageUrlSmall`, `meta_view_tableAuthor_screenName`, `meta_view_tableAuthor_type`, `meta_view_tableId`, `meta_view_tags`, `meta_view_totalTimesRated`, `meta_view_viewCount`, `meta_view_viewLastModified`, `meta_view_viewType`.",
      "Data columns: `data`, `meta_view_approvals_reviewedAt`, `meta_view_approvals_reviewedAutomatically`, `meta_view_approvals_state`, `meta_view_approvals_submissionDetails_permissionType`, `meta_view_approvals_submissionId`, `meta_view_approvals_submissionObject`, `meta_view_approvals_submissionOutcome`, `meta_view_approvals_submissionOutcomeApplication_failureCount`, `meta_view_approvals_submissionOutcomeApplication_status`, `meta_view_approvals_submittedAt`, `meta_view_approvals_submitter_displayName`, `meta_view_approvals_submitter_id`, `meta_view_approvals_targetAudience`, `meta_view_approvals_testdoubleprop`, `meta_view_approvals_workflowId`, `meta_view_assetType`, `meta_view_attributionLink`, `meta_view_averageRating`, `meta_view_category`, `meta_view_clientContext_clientContextVariables`, `meta_view_columns_cachedContents_average`, `meta_view_columns_cachedContents_cardinality`, `meta_view_columns_cachedContents_count`, `meta_view_columns_cachedContents_largest`, `meta_view_columns_cachedContents_non_null`, `meta_view_columns_cachedContents_null`, `meta_view_columns_cachedContents_smallest`, `meta_view_columns_cachedContents_sum`, `meta_view_columns_cachedContents_top_count`, `meta_view_columns_cachedContents_top_item`, `meta_view_columns_computationStrategy_parameters_primary_key`, `meta_view_columns_computationStrategy_parameters_region`, `meta_view_columns_computationStrategy_source_columns`, `meta_view_columns_computationStrategy_type`, `meta_view_columns_dataTypeName`, `meta_view_columns_description`, `meta_view_columns_fieldName`, `meta_view_columns_flags`, `meta_view_columns_format_align`, `meta_view_columns_format_noCommas`, `meta_view_columns_format_precisionStyle`, `meta_view_columns_format_view`, `meta_view_columns_id`, `meta_view_columns_name`, `meta_view_columns_position`, `meta_view_columns_renderTypeName`, `meta_view_columns_tableColumnId`, `meta_view_columns_testflag`, `meta_view_columns_width`, `meta_view_createdAt`, `meta_view_description`, `meta_view_displayType`, `meta_view_downloadCount`, `meta_view_flags`, `meta_view_grants_flags`, `meta_view_grants_inherited`, `meta_view_grants_type`, `meta_view_hideFromCatalog`, `meta_view_hideFromDataJson`, `meta_view_id`, `meta_view_indexUpdatedAt`, `meta_view_locked`, `meta_view_metadata_custom_fields_Common Core_Bureau Code`, `meta_view_metadata_custom_fields_Common Core_Program Code`, `meta_view_metadata_rdfClass`, `meta_view_metadata_rdfSubject`, `meta_view_metadata_rowIdentifier`, `meta_view_metadata_rowLabel`, `meta_view_name`, `meta_view_newBackend`, `meta_view_numberOfComments`, `meta_view_oid`, `meta_view_owner_displayName`, `meta_view_owner_flags`, `meta_view_owner_id`, `meta_view_owner_profileImageUrlLarge`, `meta_view_owner_profileImageUrlMedium`, `meta_view_owner_profileImageUrlSmall`, `meta_view_owner_screenName`, `meta_view_owner_type`, `meta_view_provenance`, `meta_view_publicationAppendEnabled`, `meta_view_publicationDate`, `meta_view_publicationGroup`, `meta_view_publicationStage`, `meta_view_rights`, `meta_view_rowClass`, `meta_view_rowsUpdatedAt`, `meta_view_rowsUpdatedBy`, `meta_view_tableAuthor_displayName`, `meta_view_tableAuthor_flags`, `meta_view_tableAuthor_id`, `meta_view_tableAuthor_profileImageUrlLarge`, `meta_view_tableAuthor_profileImageUrlMedium`, `meta_view_tableAuthor_profileImageUrlSmall`, `meta_view_tableAuthor_screenName`, `meta_view_tableAuthor_type`, `meta_view_tableId`, `meta_view_tags`, `meta_view_testintproperty`, `meta_view_teststring`, `meta_view_totalTimesRated`, `meta_view_viewCount`, `meta_view_viewLastModified`, `meta_view_viewType`.",
      "  at org.apache.spark.sql.errors.QueryCompilationErrors$.cannotWriteTooManyColumnsToTableError(QueryCompilationErrors.scala:2115)",
      "  at org.apache.spark.sql.catalyst.analysis.TableOutputResolver$.resolveOutputColumns(TableOutputResolver.scala:52)",
      "  at org.apache.spark.sql.catalyst.analysis.Analyzer$ResolveOutputRelation$$anonfun$apply$50.applyOrElse(Analyzer.scala:3362)",
      "  at org.apache.spark.sql.catalyst.analysis.Analyzer$ResolveOutputRelation$$anonfun$apply$50.applyOrElse(Analyzer.scala:3358)",
      "  at org.apache.spark.sql.catalyst.plans.logical.AnalysisHelper.$anonfun$resolveOperatorsDownWithPruning$2(AnalysisHelper.scala:170)",
      "  at org.apache.spark.sql.catalyst.trees.CurrentOrigin$.withOrigin(origin.scala:76)",
      "  at org.apache.spark.sql.catalyst.plans.logical.AnalysisHelper.$anonfun$resolveOperatorsDownWithPruning$1(AnalysisHelper.scala:170)",
      "  at org.apache.spark.sql.catalyst.plans.logical.AnalysisHelper$.allowInvokingTransformsInAnalyzer(AnalysisHelper.scala:323)",
      "  at org.apache.spark.sql.catalyst.plans.logical.AnalysisHelper.resolveOperatorsDownWithPruning(AnalysisHelper.scala:168)",
      "  at org.apache.spark.sql.catalyst.plans.logical.AnalysisHelper.resolveOperatorsDownWithPruning$(AnalysisHelper.scala:164)",
      "  at org.apache.spark.sql.catalyst.plans.logical.LogicalPlan.resolveOperatorsDownWithPruning(LogicalPlan.scala:32)",
      "  at org.apache.spark.sql.catalyst.plans.logical.AnalysisHelper.resolveOperatorsWithPruning(AnalysisHelper.scala:99)",
      "  at org.apache.spark.sql.catalyst.plans.logical.AnalysisHelper.resolveOperatorsWithPruning$(AnalysisHelper.scala:96)",
      "  at org.apache.spark.sql.catalyst.plans.logical.LogicalPlan.resolveOperatorsWithPruning(LogicalPlan.scala:32)",
      "  at org.apache.spark.sql.catalyst.analysis.Analyzer$ResolveOutputRelation$.apply(Analyzer.scala:3358)",
      "  at org.apache.spark.sql.catalyst.analysis.Analyzer$ResolveOutputRelation$.apply(Analyzer.scala:3356)",
      "  at org.apache.spark.sql.catalyst.rules.RuleExecutor.$anonfun$execute$2(RuleExecutor.scala:222)",
      "  at scala.collection.LinearSeqOptimized.foldLeft(LinearSeqOptimized.scala:126)",
      "  at scala.collection.LinearSeqOptimized.foldLeft$(LinearSeqOptimized.scala:122)",
      "  at scala.collection.immutable.List.foldLeft(List.scala:91)",
      "  at org.apache.spark.sql.catalyst.rules.RuleExecutor.$anonfun$execute$1(RuleExecutor.scala:219)",
      "  at org.apache.spark.sql.catalyst.rules.RuleExecutor.$anonfun$execute$1$adapted(RuleExecutor.scala:211)",
      "  at scala.collection.immutable.List.foreach(List.scala:431)",
      "  at org.apache.spark.sql.catalyst.rules.RuleExecutor.execute(RuleExecutor.scala:211)",
      "  at org.apache.spark.sql.catalyst.analysis.Analyzer.org$apache$spark$sql$catalyst$analysis$Analyzer$$executeSameContext(Analyzer.scala:226)",
      "  at org.apache.spark.sql.catalyst.analysis.Analyzer.$anonfun$execute$1(Analyzer.scala:222)",
      "  at org.apache.spark.sql.catalyst.analysis.AnalysisContext$.withNewAnalysisContext(Analyzer.scala:173)",
      "  at org.apache.spark.sql.catalyst.analysis.Analyzer.execute(Analyzer.scala:222)",
      "  at org.apache.spark.sql.catalyst.analysis.Analyzer.execute(Analyzer.scala:188)",
      "  at org.apache.spark.sql.catalyst.rules.RuleExecutor.$anonfun$executeAndTrack$1(RuleExecutor.scala:182)",
      "  at org.apache.spark.sql.catalyst.QueryPlanningTracker$.withTracker(QueryPlanningTracker.scala:89)",
      "  at org.apache.spark.sql.catalyst.rules.RuleExecutor.executeAndTrack(RuleExecutor.scala:182)",
      "  at org.apache.spark.sql.catalyst.analysis.Analyzer.$anonfun$executeAndCheck$1(Analyzer.scala:209)",
      "  at org.apache.spark.sql.catalyst.plans.logical.AnalysisHelper$.markInAnalyzer(AnalysisHelper.scala:330)",
      "  at org.apache.spark.sql.catalyst.analysis.Analyzer.executeAndCheck(Analyzer.scala:208)",
      "  at org.apache.spark.sql.execution.QueryExecution.$anonfun$analyzed$1(QueryExecution.scala:77)",
      "  at org.apache.spark.sql.catalyst.QueryPlanningTracker.measurePhase(QueryPlanningTracker.scala:138)",
      "  at org.apache.spark.sql.execution.QueryExecution.$anonfun$executePhase$2(QueryExecution.scala:219)",
      "  at org.apache.spark.sql.execution.QueryExecution$.withInternalError(QueryExecution.scala:546)",
      "  at org.apache.spark.sql.execution.QueryExecution.$anonfun$executePhase$1(QueryExecution.scala:219)",
      "  at org.apache.spark.sql.SparkSession.withActive(SparkSession.scala:900)",
      "  at org.apache.spark.sql.execution.QueryExecution.executePhase(QueryExecution.scala:218)",
      "  at org.apache.spark.sql.execution.QueryExecution.analyzed$lzycompute(QueryExecution.scala:77)",
      "  at org.apache.spark.sql.execution.QueryExecution.analyzed(QueryExecution.scala:74)",
      "  at org.apache.spark.sql.execution.QueryExecution.commandExecuted$lzycompute(QueryExecution.scala:85)",
      "  at org.apache.spark.sql.execution.QueryExecution.commandExecuted(QueryExecution.scala:83)",
      "  at org.apache.spark.sql.execution.QueryExecution.assertCommandExecuted(QueryExecution.scala:142)",
      "  at org.apache.spark.sql.DataFrameWriterV2.runCommand(DataFrameWriterV2.scala:196)",
      "  at org.apache.spark.sql.DataFrameWriterV2.append(DataFrameWriterV2.scala:150)",
      "  ... 41 elided",
      ""
     ]
    }
   ],
   "source": [
    "val addnewmultiplecolDF =  spark.read.option(\"multiline\", \"true\").json(\"../Data/Json/meteorite_landing_addnew.json\")\n",
    "val flattenedallchangesDF = addnewmultiplecolDF.explodeColumns\n",
    "val icedallchangedTable = flattenedallchangesDF.writeTo(\"iceberg.mydb.meteorites\").append()"
   ]
  },
  {
   "cell_type": "markdown",
   "id": "b3c89873-a69a-4484-96e6-7c9e7b4893c7",
   "metadata": {},
   "source": [
    "##### 5.0 SCHEMA EVOLUTION TEST(actually) BEGINS HERE \n",
    "##### Source: https://iceberg.apache.org/docs/latest/spark-writes/#schema-merge\n",
    "##### Set the table property to accept any schema as per the above Apache documentation source before \n",
    "\n",
    "##### The documentation from the above link states below\n",
    "##### Schema Merge🔗\n",
    "##### While inserting or updating Iceberg is capable of resolving schema mismatch at runtime. \n",
    "##### If configured, Iceberg will perform an automatic schema evolution as follows:\n",
    "##### A new column is present in the source but not in the target table.\n",
    "##### The new column is added to the target table. Column values are set to NULL in all the rows already present in the table\n",
    "##### A column is present in the target but not in the source.\n",
    "##### The target column value is set to NULL when inserting or left unchanged when updating the row.\n",
    "##### The target table must be configured to accept any schema change by setting the property write.spark.accept-any-schema to true."
   ]
  },
  {
   "cell_type": "code",
   "execution_count": 29,
   "id": "04e5603e-68d3-42ce-ab57-b4c48cbd0b5d",
   "metadata": {},
   "outputs": [
    {
     "data": {
      "text/plain": [
       "res14: org.apache.spark.sql.DataFrame = []\n"
      ]
     },
     "execution_count": 29,
     "metadata": {},
     "output_type": "execute_result"
    }
   ],
   "source": [
    "spark.sql(\"ALTER TABLE iceberg.mydb.meteorites SET TBLPROPERTIES ('write.spark.accept-any-schema'='true')\")"
   ]
  },
  {
   "cell_type": "markdown",
   "id": "a262d433-5c7e-4b62-841c-0f7cd8bce4e6",
   "metadata": {},
   "source": [
    "##### 5.1 This step is the same as 4.1, From the original dataset, I have added new integer column and saved it as new dataset, so that I can write back to the iceberg table where the schema is already set due to the first write execution\n",
    "##### Added new integer column : testintproperty\n",
    "##### Steps are - Read the modified JSON dataset, explode it, and then append it to the existing iceberg table"
   ]
  },
  {
   "cell_type": "code",
   "execution_count": 30,
   "id": "5c1c4131-16d5-4baa-8db0-cd5c4a8f6bb9",
   "metadata": {},
   "outputs": [
    {
     "ename": "java.lang.IllegalArgumentException",
     "evalue": " Field meta_view_testintproperty not found in source schema",
     "output_type": "error",
     "traceback": [
      "java.lang.IllegalArgumentException: Field meta_view_testintproperty not found in source schema",
      "  at org.apache.iceberg.types.ReassignIds.field(ReassignIds.java:114)",
      "  at org.apache.iceberg.types.ReassignIds.field(ReassignIds.java:27)",
      "  at org.apache.iceberg.types.TypeUtil$VisitFieldFuture.get(TypeUtil.java:693)",
      "  at org.apache.iceberg.relocated.com.google.common.collect.Iterators$6.transform(Iterators.java:828)",
      "  at org.apache.iceberg.relocated.com.google.common.collect.TransformedIterator.next(TransformedIterator.java:52)",
      "  at org.apache.iceberg.relocated.com.google.common.collect.Iterators.addAll(Iterators.java:366)",
      "  at org.apache.iceberg.relocated.com.google.common.collect.Lists.newArrayList(Lists.java:146)",
      "  at org.apache.iceberg.relocated.com.google.common.collect.Lists.newArrayList(Lists.java:132)",
      "  at org.apache.iceberg.types.ReassignIds.struct(ReassignIds.java:77)",
      "  at org.apache.iceberg.types.ReassignIds.struct(ReassignIds.java:27)",
      "  at org.apache.iceberg.types.TypeUtil.visit(TypeUtil.java:725)",
      "  at org.apache.iceberg.types.TypeUtil$VisitFuture.get(TypeUtil.java:678)",
      "  at org.apache.iceberg.types.ReassignIds.schema(ReassignIds.java:47)",
      "  at org.apache.iceberg.types.ReassignIds.schema(ReassignIds.java:27)",
      "  at org.apache.iceberg.types.TypeUtil.visit(TypeUtil.java:698)",
      "  at org.apache.iceberg.types.TypeUtil.reassignIds(TypeUtil.java:341)",
      "  at org.apache.iceberg.spark.SparkSchemaUtil.convert(SparkSchemaUtil.java:187)",
      "  at org.apache.iceberg.spark.source.SparkWriteBuilder.validateOrMergeWriteSchema(SparkWriteBuilder.java:195)",
      "  at org.apache.iceberg.spark.source.SparkWriteBuilder.build(SparkWriteBuilder.java:120)",
      "  at org.apache.spark.sql.execution.datasources.v2.V2Writes$$anonfun$apply$1.applyOrElse(V2Writes.scala:47)",
      "  at org.apache.spark.sql.execution.datasources.v2.V2Writes$$anonfun$apply$1.applyOrElse(V2Writes.scala:44)",
      "  at org.apache.spark.sql.catalyst.trees.TreeNode.$anonfun$transformDownWithPruning$1(TreeNode.scala:461)",
      "  at org.apache.spark.sql.catalyst.trees.CurrentOrigin$.withOrigin(origin.scala:76)",
      "  at org.apache.spark.sql.catalyst.trees.TreeNode.transformDownWithPruning(TreeNode.scala:461)",
      "  at org.apache.spark.sql.catalyst.plans.logical.LogicalPlan.org$apache$spark$sql$catalyst$plans$logical$AnalysisHelper$$super$transformDownWithPruning(LogicalPlan.scala:32)",
      "  at org.apache.spark.sql.catalyst.plans.logical.AnalysisHelper.transformDownWithPruning(AnalysisHelper.scala:267)",
      "  at org.apache.spark.sql.catalyst.plans.logical.AnalysisHelper.transformDownWithPruning$(AnalysisHelper.scala:263)",
      "  at org.apache.spark.sql.catalyst.plans.logical.LogicalPlan.transformDownWithPruning(LogicalPlan.scala:32)",
      "  at org.apache.spark.sql.catalyst.plans.logical.LogicalPlan.transformDownWithPruning(LogicalPlan.scala:32)",
      "  at org.apache.spark.sql.catalyst.trees.TreeNode.transformDown(TreeNode.scala:437)",
      "  at org.apache.spark.sql.execution.datasources.v2.V2Writes$.apply(V2Writes.scala:44)",
      "  at org.apache.spark.sql.execution.datasources.v2.V2Writes$.apply(V2Writes.scala:40)",
      "  at org.apache.spark.sql.catalyst.rules.RuleExecutor.$anonfun$execute$2(RuleExecutor.scala:222)",
      "  at scala.collection.LinearSeqOptimized.foldLeft(LinearSeqOptimized.scala:126)",
      "  at scala.collection.LinearSeqOptimized.foldLeft$(LinearSeqOptimized.scala:122)",
      "  at scala.collection.immutable.List.foldLeft(List.scala:91)",
      "  at org.apache.spark.sql.catalyst.rules.RuleExecutor.$anonfun$execute$1(RuleExecutor.scala:219)",
      "  at org.apache.spark.sql.catalyst.rules.RuleExecutor.$anonfun$execute$1$adapted(RuleExecutor.scala:211)",
      "  at scala.collection.immutable.List.foreach(List.scala:431)",
      "  at org.apache.spark.sql.catalyst.rules.RuleExecutor.execute(RuleExecutor.scala:211)",
      "  at org.apache.spark.sql.catalyst.rules.RuleExecutor.$anonfun$executeAndTrack$1(RuleExecutor.scala:182)",
      "  at org.apache.spark.sql.catalyst.QueryPlanningTracker$.withTracker(QueryPlanningTracker.scala:89)",
      "  at org.apache.spark.sql.catalyst.rules.RuleExecutor.executeAndTrack(RuleExecutor.scala:182)",
      "  at org.apache.spark.sql.execution.QueryExecution.$anonfun$optimizedPlan$1(QueryExecution.scala:152)",
      "  at org.apache.spark.sql.catalyst.QueryPlanningTracker.measurePhase(QueryPlanningTracker.scala:138)",
      "  at org.apache.spark.sql.execution.QueryExecution.$anonfun$executePhase$2(QueryExecution.scala:219)",
      "  at org.apache.spark.sql.execution.QueryExecution$.withInternalError(QueryExecution.scala:546)",
      "  at org.apache.spark.sql.execution.QueryExecution.$anonfun$executePhase$1(QueryExecution.scala:219)",
      "  at org.apache.spark.sql.SparkSession.withActive(SparkSession.scala:900)",
      "  at org.apache.spark.sql.execution.QueryExecution.executePhase(QueryExecution.scala:218)",
      "  at org.apache.spark.sql.execution.QueryExecution.optimizedPlan$lzycompute(QueryExecution.scala:148)",
      "  at org.apache.spark.sql.execution.QueryExecution.optimizedPlan(QueryExecution.scala:144)",
      "  at org.apache.spark.sql.execution.QueryExecution.assertOptimized(QueryExecution.scala:162)",
      "  at org.apache.spark.sql.execution.QueryExecution.executedPlan$lzycompute(QueryExecution.scala:182)",
      "  at org.apache.spark.sql.execution.QueryExecution.executedPlan(QueryExecution.scala:179)",
      "  at org.apache.spark.sql.execution.SQLExecution$.$anonfun$withNewExecutionId$6(SQLExecution.scala:120)",
      "  at org.apache.spark.sql.execution.SQLExecution$.withSQLConfPropagated(SQLExecution.scala:201)",
      "  at org.apache.spark.sql.execution.SQLExecution$.$anonfun$withNewExecutionId$1(SQLExecution.scala:108)",
      "  at org.apache.spark.sql.SparkSession.withActive(SparkSession.scala:900)",
      "  at org.apache.spark.sql.execution.SQLExecution$.withNewExecutionId(SQLExecution.scala:66)",
      "  at org.apache.spark.sql.execution.QueryExecution$$anonfun$eagerlyExecuteCommands$1.applyOrElse(QueryExecution.scala:107)",
      "  at org.apache.spark.sql.execution.QueryExecution$$anonfun$eagerlyExecuteCommands$1.applyOrElse(QueryExecution.scala:98)",
      "  at org.apache.spark.sql.catalyst.trees.TreeNode.$anonfun$transformDownWithPruning$1(TreeNode.scala:461)",
      "  at org.apache.spark.sql.catalyst.trees.CurrentOrigin$.withOrigin(origin.scala:76)",
      "  at org.apache.spark.sql.catalyst.trees.TreeNode.transformDownWithPruning(TreeNode.scala:461)",
      "  at org.apache.spark.sql.catalyst.plans.logical.LogicalPlan.org$apache$spark$sql$catalyst$plans$logical$AnalysisHelper$$super$transformDownWithPruning(LogicalPlan.scala:32)",
      "  at org.apache.spark.sql.catalyst.plans.logical.AnalysisHelper.transformDownWithPruning(AnalysisHelper.scala:267)",
      "  at org.apache.spark.sql.catalyst.plans.logical.AnalysisHelper.transformDownWithPruning$(AnalysisHelper.scala:263)",
      "  at org.apache.spark.sql.catalyst.plans.logical.LogicalPlan.transformDownWithPruning(LogicalPlan.scala:32)",
      "  at org.apache.spark.sql.catalyst.plans.logical.LogicalPlan.transformDownWithPruning(LogicalPlan.scala:32)",
      "  at org.apache.spark.sql.catalyst.trees.TreeNode.transformDown(TreeNode.scala:437)",
      "  at org.apache.spark.sql.execution.QueryExecution.eagerlyExecuteCommands(QueryExecution.scala:98)",
      "  at org.apache.spark.sql.execution.QueryExecution.commandExecuted$lzycompute(QueryExecution.scala:85)",
      "  at org.apache.spark.sql.execution.QueryExecution.commandExecuted(QueryExecution.scala:83)",
      "  at org.apache.spark.sql.execution.QueryExecution.assertCommandExecuted(QueryExecution.scala:142)",
      "  at org.apache.spark.sql.DataFrameWriterV2.runCommand(DataFrameWriterV2.scala:196)",
      "  at org.apache.spark.sql.DataFrameWriterV2.append(DataFrameWriterV2.scala:150)",
      "  ... 41 elided",
      ""
     ]
    }
   ],
   "source": [
    "val addnewintcolDF =  spark.read.option(\"multiline\", \"true\").json(\"../Data/Json/meteorite_landing_addnew_int.json\")\n",
    "val flattenedsinglechangeDF = addnewintcolDF.explodeColumns\n",
    "val icedsinglechangedTable = flattenedsinglechangeDF.writeTo(\"iceberg.mydb.meteorites\").append()"
   ]
  },
  {
   "cell_type": "code",
   "execution_count": 31,
   "id": "d1d69a73-843e-4d78-8047-1c37ffe07917",
   "metadata": {},
   "outputs": [
    {
     "ename": "java.lang.IllegalArgumentException",
     "evalue": " Field meta_view_approvals_testdoubleprop not found in source schema",
     "output_type": "error",
     "traceback": [
      "java.lang.IllegalArgumentException: Field meta_view_approvals_testdoubleprop not found in source schema",
      "  at org.apache.iceberg.types.ReassignIds.field(ReassignIds.java:114)",
      "  at org.apache.iceberg.types.ReassignIds.field(ReassignIds.java:27)",
      "  at org.apache.iceberg.types.TypeUtil$VisitFieldFuture.get(TypeUtil.java:693)",
      "  at org.apache.iceberg.relocated.com.google.common.collect.Iterators$6.transform(Iterators.java:828)",
      "  at org.apache.iceberg.relocated.com.google.common.collect.TransformedIterator.next(TransformedIterator.java:52)",
      "  at org.apache.iceberg.relocated.com.google.common.collect.Iterators.addAll(Iterators.java:366)",
      "  at org.apache.iceberg.relocated.com.google.common.collect.Lists.newArrayList(Lists.java:146)",
      "  at org.apache.iceberg.relocated.com.google.common.collect.Lists.newArrayList(Lists.java:132)",
      "  at org.apache.iceberg.types.ReassignIds.struct(ReassignIds.java:77)",
      "  at org.apache.iceberg.types.ReassignIds.struct(ReassignIds.java:27)",
      "  at org.apache.iceberg.types.TypeUtil.visit(TypeUtil.java:725)",
      "  at org.apache.iceberg.types.TypeUtil$VisitFuture.get(TypeUtil.java:678)",
      "  at org.apache.iceberg.types.ReassignIds.schema(ReassignIds.java:47)",
      "  at org.apache.iceberg.types.ReassignIds.schema(ReassignIds.java:27)",
      "  at org.apache.iceberg.types.TypeUtil.visit(TypeUtil.java:698)",
      "  at org.apache.iceberg.types.TypeUtil.reassignIds(TypeUtil.java:341)",
      "  at org.apache.iceberg.spark.SparkSchemaUtil.convert(SparkSchemaUtil.java:187)",
      "  at org.apache.iceberg.spark.source.SparkWriteBuilder.validateOrMergeWriteSchema(SparkWriteBuilder.java:195)",
      "  at org.apache.iceberg.spark.source.SparkWriteBuilder.build(SparkWriteBuilder.java:120)",
      "  at org.apache.spark.sql.execution.datasources.v2.V2Writes$$anonfun$apply$1.applyOrElse(V2Writes.scala:47)",
      "  at org.apache.spark.sql.execution.datasources.v2.V2Writes$$anonfun$apply$1.applyOrElse(V2Writes.scala:44)",
      "  at org.apache.spark.sql.catalyst.trees.TreeNode.$anonfun$transformDownWithPruning$1(TreeNode.scala:461)",
      "  at org.apache.spark.sql.catalyst.trees.CurrentOrigin$.withOrigin(origin.scala:76)",
      "  at org.apache.spark.sql.catalyst.trees.TreeNode.transformDownWithPruning(TreeNode.scala:461)",
      "  at org.apache.spark.sql.catalyst.plans.logical.LogicalPlan.org$apache$spark$sql$catalyst$plans$logical$AnalysisHelper$$super$transformDownWithPruning(LogicalPlan.scala:32)",
      "  at org.apache.spark.sql.catalyst.plans.logical.AnalysisHelper.transformDownWithPruning(AnalysisHelper.scala:267)",
      "  at org.apache.spark.sql.catalyst.plans.logical.AnalysisHelper.transformDownWithPruning$(AnalysisHelper.scala:263)",
      "  at org.apache.spark.sql.catalyst.plans.logical.LogicalPlan.transformDownWithPruning(LogicalPlan.scala:32)",
      "  at org.apache.spark.sql.catalyst.plans.logical.LogicalPlan.transformDownWithPruning(LogicalPlan.scala:32)",
      "  at org.apache.spark.sql.catalyst.trees.TreeNode.transformDown(TreeNode.scala:437)",
      "  at org.apache.spark.sql.execution.datasources.v2.V2Writes$.apply(V2Writes.scala:44)",
      "  at org.apache.spark.sql.execution.datasources.v2.V2Writes$.apply(V2Writes.scala:40)",
      "  at org.apache.spark.sql.catalyst.rules.RuleExecutor.$anonfun$execute$2(RuleExecutor.scala:222)",
      "  at scala.collection.LinearSeqOptimized.foldLeft(LinearSeqOptimized.scala:126)",
      "  at scala.collection.LinearSeqOptimized.foldLeft$(LinearSeqOptimized.scala:122)",
      "  at scala.collection.immutable.List.foldLeft(List.scala:91)",
      "  at org.apache.spark.sql.catalyst.rules.RuleExecutor.$anonfun$execute$1(RuleExecutor.scala:219)",
      "  at org.apache.spark.sql.catalyst.rules.RuleExecutor.$anonfun$execute$1$adapted(RuleExecutor.scala:211)",
      "  at scala.collection.immutable.List.foreach(List.scala:431)",
      "  at org.apache.spark.sql.catalyst.rules.RuleExecutor.execute(RuleExecutor.scala:211)",
      "  at org.apache.spark.sql.catalyst.rules.RuleExecutor.$anonfun$executeAndTrack$1(RuleExecutor.scala:182)",
      "  at org.apache.spark.sql.catalyst.QueryPlanningTracker$.withTracker(QueryPlanningTracker.scala:89)",
      "  at org.apache.spark.sql.catalyst.rules.RuleExecutor.executeAndTrack(RuleExecutor.scala:182)",
      "  at org.apache.spark.sql.execution.QueryExecution.$anonfun$optimizedPlan$1(QueryExecution.scala:152)",
      "  at org.apache.spark.sql.catalyst.QueryPlanningTracker.measurePhase(QueryPlanningTracker.scala:138)",
      "  at org.apache.spark.sql.execution.QueryExecution.$anonfun$executePhase$2(QueryExecution.scala:219)",
      "  at org.apache.spark.sql.execution.QueryExecution$.withInternalError(QueryExecution.scala:546)",
      "  at org.apache.spark.sql.execution.QueryExecution.$anonfun$executePhase$1(QueryExecution.scala:219)",
      "  at org.apache.spark.sql.SparkSession.withActive(SparkSession.scala:900)",
      "  at org.apache.spark.sql.execution.QueryExecution.executePhase(QueryExecution.scala:218)",
      "  at org.apache.spark.sql.execution.QueryExecution.optimizedPlan$lzycompute(QueryExecution.scala:148)",
      "  at org.apache.spark.sql.execution.QueryExecution.optimizedPlan(QueryExecution.scala:144)",
      "  at org.apache.spark.sql.execution.QueryExecution.assertOptimized(QueryExecution.scala:162)",
      "  at org.apache.spark.sql.execution.QueryExecution.executedPlan$lzycompute(QueryExecution.scala:182)",
      "  at org.apache.spark.sql.execution.QueryExecution.executedPlan(QueryExecution.scala:179)",
      "  at org.apache.spark.sql.execution.SQLExecution$.$anonfun$withNewExecutionId$6(SQLExecution.scala:120)",
      "  at org.apache.spark.sql.execution.SQLExecution$.withSQLConfPropagated(SQLExecution.scala:201)",
      "  at org.apache.spark.sql.execution.SQLExecution$.$anonfun$withNewExecutionId$1(SQLExecution.scala:108)",
      "  at org.apache.spark.sql.SparkSession.withActive(SparkSession.scala:900)",
      "  at org.apache.spark.sql.execution.SQLExecution$.withNewExecutionId(SQLExecution.scala:66)",
      "  at org.apache.spark.sql.execution.QueryExecution$$anonfun$eagerlyExecuteCommands$1.applyOrElse(QueryExecution.scala:107)",
      "  at org.apache.spark.sql.execution.QueryExecution$$anonfun$eagerlyExecuteCommands$1.applyOrElse(QueryExecution.scala:98)",
      "  at org.apache.spark.sql.catalyst.trees.TreeNode.$anonfun$transformDownWithPruning$1(TreeNode.scala:461)",
      "  at org.apache.spark.sql.catalyst.trees.CurrentOrigin$.withOrigin(origin.scala:76)",
      "  at org.apache.spark.sql.catalyst.trees.TreeNode.transformDownWithPruning(TreeNode.scala:461)",
      "  at org.apache.spark.sql.catalyst.plans.logical.LogicalPlan.org$apache$spark$sql$catalyst$plans$logical$AnalysisHelper$$super$transformDownWithPruning(LogicalPlan.scala:32)",
      "  at org.apache.spark.sql.catalyst.plans.logical.AnalysisHelper.transformDownWithPruning(AnalysisHelper.scala:267)",
      "  at org.apache.spark.sql.catalyst.plans.logical.AnalysisHelper.transformDownWithPruning$(AnalysisHelper.scala:263)",
      "  at org.apache.spark.sql.catalyst.plans.logical.LogicalPlan.transformDownWithPruning(LogicalPlan.scala:32)",
      "  at org.apache.spark.sql.catalyst.plans.logical.LogicalPlan.transformDownWithPruning(LogicalPlan.scala:32)",
      "  at org.apache.spark.sql.catalyst.trees.TreeNode.transformDown(TreeNode.scala:437)",
      "  at org.apache.spark.sql.execution.QueryExecution.eagerlyExecuteCommands(QueryExecution.scala:98)",
      "  at org.apache.spark.sql.execution.QueryExecution.commandExecuted$lzycompute(QueryExecution.scala:85)",
      "  at org.apache.spark.sql.execution.QueryExecution.commandExecuted(QueryExecution.scala:83)",
      "  at org.apache.spark.sql.execution.QueryExecution.assertCommandExecuted(QueryExecution.scala:142)",
      "  at org.apache.spark.sql.DataFrameWriterV2.runCommand(DataFrameWriterV2.scala:196)",
      "  at org.apache.spark.sql.DataFrameWriterV2.append(DataFrameWriterV2.scala:150)",
      "  ... 41 elided",
      ""
     ]
    }
   ],
   "source": [
    "val addnewmultiplecolDF =  spark.read.option(\"multiline\", \"true\").json(\"../Data/Json/meteorite_landing_addnew.json\")\n",
    "val flattenedallchangesDF = addnewmultiplecolDF.explodeColumns\n",
    "val icedallchangedTable = flattenedallchangesDF.writeTo(\"iceberg.mydb.meteorites\").append()"
   ]
  }
 ],
 "metadata": {
  "kernelspec": {
   "display_name": "spylon-kernel",
   "language": "scala",
   "name": "spylon-kernel"
  },
  "language_info": {
   "codemirror_mode": "text/x-scala",
   "file_extension": ".scala",
   "help_links": [
    {
     "text": "MetaKernel Magics",
     "url": "https://metakernel.readthedocs.io/en/latest/source/README.html"
    }
   ],
   "mimetype": "text/x-scala",
   "name": "scala",
   "pygments_lexer": "scala",
   "version": "0.4.1"
  }
 },
 "nbformat": 4,
 "nbformat_minor": 5
}
