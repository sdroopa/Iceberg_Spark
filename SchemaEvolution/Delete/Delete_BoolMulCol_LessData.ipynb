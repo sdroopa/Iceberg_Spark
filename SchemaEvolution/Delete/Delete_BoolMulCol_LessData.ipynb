{
 "cells": [
  {
   "cell_type": "code",
   "execution_count": 1,
   "id": "63728ee0-e33a-4798-abd9-9c62c962890a",
   "metadata": {},
   "outputs": [
    {
     "data": {
      "text/plain": [
       "Intitializing Scala interpreter ..."
      ]
     },
     "metadata": {},
     "output_type": "display_data"
    },
    {
     "data": {
      "text/plain": [
       "Spark Web UI available at http://bc18817f1332:4043\n",
       "SparkContext available as 'sc' (version = 3.5.1, master = local[*], app id = local-1720820315519)\n",
       "SparkSession available as 'spark'\n"
      ]
     },
     "metadata": {},
     "output_type": "display_data"
    },
    {
     "data": {
      "text/plain": [
       "res0: org.apache.spark.sql.DataFrame = []\n"
      ]
     },
     "execution_count": 1,
     "metadata": {},
     "output_type": "execute_result"
    }
   ],
   "source": [
    "spark.sql(\"DROP TABLE IF EXISTS icedsparkcatalog.mydb.smalldataset\")"
   ]
  },
  {
   "cell_type": "code",
   "execution_count": 2,
   "id": "c4d618b0-9afd-4878-bb3f-9d4fbc8b94d3",
   "metadata": {},
   "outputs": [
    {
     "data": {
      "text/plain": [
       "import org.apache.spark.sql._\n",
       "import org.apache.spark.sql.types._\n"
      ]
     },
     "execution_count": 2,
     "metadata": {},
     "output_type": "execute_result"
    }
   ],
   "source": [
    " import org.apache.spark.sql._\n",
    " import org.apache.spark.sql.types._"
   ]
  },
  {
   "cell_type": "code",
   "execution_count": 3,
   "id": "d8dc0ed9-6f5d-4258-8993-0ec82051a780",
   "metadata": {},
   "outputs": [
    {
     "data": {
      "text/plain": [
       "csvschema: org.apache.spark.sql.types.StructType = StructType(StructField(name,IntegerType,true),StructField(id,LongType,false),StructField(nametype,StringType,false),StructField(recclass,StringType,false),StructField(mass,LongType,false),StructField(fall,StringType,false),StructField(year,IntegerType,false),StructField(reclat,DoubleType,false),StructField(reclong,DoubleType,false),StructField(GeoLocation,StringType,false))\n"
      ]
     },
     "execution_count": 3,
     "metadata": {},
     "output_type": "execute_result"
    }
   ],
   "source": [
    " val csvschema =\n",
    "   StructType(\n",
    "     StructField(\"name\", IntegerType, true) ::\n",
    "     StructField(\"id\", LongType, false) ::\n",
    "     StructField(\"nametype\", StringType, false) :: \n",
    "     StructField(\"recclass\", StringType, false) :: \n",
    "     StructField(\"mass\", LongType, false) ::\n",
    "     StructField(\"fall\", StringType, false) ::\n",
    "     StructField(\"year\", IntegerType, false) ::\n",
    "     StructField(\"reclat\", DoubleType, false) ::\n",
    "     StructField(\"reclong\", DoubleType, false) ::\n",
    "      StructField(\"GeoLocation\", StringType, false) ::\n",
    "     Nil)\n"
   ]
  },
  {
   "cell_type": "code",
   "execution_count": 4,
   "id": "a77c7ec4-d201-43b0-b782-7860b5724790",
   "metadata": {},
   "outputs": [
    {
     "data": {
      "text/plain": [
       "deleteMultipleLessColsDF: org.apache.spark.sql.DataFrame = [name: int, id: bigint ... 8 more fields]\n"
      ]
     },
     "execution_count": 4,
     "metadata": {},
     "output_type": "execute_result"
    }
   ],
   "source": [
    "val deleteMultipleLessColsDF =  spark.read.option(\"multiline\", \"true\").schema(csvschema).csv(\"./Data/csv/Meteorite_Landings.csv\")"
   ]
  },
  {
   "cell_type": "code",
   "execution_count": 5,
   "id": "46077d09-303e-4a51-99fc-db2d0293a869",
   "metadata": {},
   "outputs": [
    {
     "data": {
      "text/plain": [
       "res1: Long = 45717\n"
      ]
     },
     "execution_count": 5,
     "metadata": {},
     "output_type": "execute_result"
    }
   ],
   "source": [
    "deleteMultipleLessColsDF.count()"
   ]
  },
  {
   "cell_type": "code",
   "execution_count": 6,
   "id": "e9f51b30-e126-4aba-9855-f8825edd2100",
   "metadata": {},
   "outputs": [
    {
     "data": {
      "text/plain": [
       "icedsmallTable: Unit = ()\n"
      ]
     },
     "execution_count": 6,
     "metadata": {},
     "output_type": "execute_result"
    }
   ],
   "source": [
    "val icedsmallTable = deleteMultipleLessColsDF.writeTo(\"icedsparkcatalog.mydb.smalldataset\").using(\"iceberg\").createOrReplace()"
   ]
  },
  {
   "cell_type": "code",
   "execution_count": 8,
   "id": "59f77f33-088b-415d-af9c-8c63136ddd34",
   "metadata": {},
   "outputs": [
    {
     "data": {
      "text/plain": [
       "res3: org.apache.spark.sql.DataFrame = []\n"
      ]
     },
     "execution_count": 8,
     "metadata": {},
     "output_type": "execute_result"
    }
   ],
   "source": [
    "spark.sql(\"ALTER TABLE icedsparkcatalog.mydb.smalldataset SET TBLPROPERTIES ('write.spark.accept-any-schema'='true')\")"
   ]
  },
  {
   "cell_type": "code",
   "execution_count": 9,
   "id": "50913aa6-5de4-4c27-9154-4ff4d1c656fb",
   "metadata": {},
   "outputs": [
    {
     "data": {
      "text/plain": [
       "deletedDataDF: org.apache.spark.sql.DataFrame = [_c0: string, _c1: string ... 5 more fields]\n"
      ]
     },
     "execution_count": 9,
     "metadata": {},
     "output_type": "execute_result"
    }
   ],
   "source": [
    "val deletedDataDF =  spark.read.option(\"multiline\", \"true\").csv(\"./Data/csv/Meteorite_Landings_delmult.csv\")"
   ]
  },
  {
   "cell_type": "code",
   "execution_count": 10,
   "id": "4e2bb489-f9d6-4a24-88eb-d702f4cf1c52",
   "metadata": {},
   "outputs": [
    {
     "data": {
      "text/plain": [
       "deletedIcedTable: Unit = ()\n"
      ]
     },
     "execution_count": 10,
     "metadata": {},
     "output_type": "execute_result"
    }
   ],
   "source": [
    "val deletedIcedTable = deletedDataDF.writeTo(\"icedsparkcatalog.mydb.smalldataset\").option(\"mergeSchema\",\"true\").append()"
   ]
  },
  {
   "cell_type": "code",
   "execution_count": 11,
   "id": "387bcc1b-557e-4bcc-a4da-4759ebec7e06",
   "metadata": {},
   "outputs": [
    {
     "data": {
      "text/plain": [
       "delMultipleIcedTable: org.apache.spark.sql.DataFrame = [name: int, id: bigint ... 15 more fields]\n"
      ]
     },
     "execution_count": 11,
     "metadata": {},
     "output_type": "execute_result"
    }
   ],
   "source": [
    "val delMultipleIcedTable = spark.read.format(\"iceberg\").load(\"icedsparkcatalog.mydb.smalldataset\")"
   ]
  },
  {
   "cell_type": "code",
   "execution_count": 17,
   "id": "11893118-823e-45dd-8987-afa4fbd4730f",
   "metadata": {},
   "outputs": [
    {
     "data": {
      "text/plain": [
       "res9: Long = 91434\n"
      ]
     },
     "execution_count": 17,
     "metadata": {},
     "output_type": "execute_result"
    }
   ],
   "source": [
    "delMultipleIcedTable.count()"
   ]
  },
  {
   "cell_type": "code",
   "execution_count": 18,
   "id": "20e1f025-53cd-4dc2-9fbe-9b3c5039fbdd",
   "metadata": {},
   "outputs": [
    {
     "data": {
      "text/plain": [
       "res10: Array[org.apache.spark.sql.Row] = Array([null,fall,nametype], [1880,Fell,Valid], [1951,Fell,Valid], [1952,Fell,Valid], [1976,Fell,Valid], [1902,Fell,Valid], [1919,Fell,Valid], [1949,Fell,Valid], [1814,Fell,Valid], [1930,Fell,Valid])\n"
      ]
     },
     "execution_count": 18,
     "metadata": {},
     "output_type": "execute_result"
    }
   ],
   "source": [
    "delMultipleIcedTable.select(\"year\",\"fall\",\"nametype\").head(10)"
   ]
  },
  {
   "cell_type": "code",
   "execution_count": 13,
   "id": "d47eefb8-de9f-42b5-b2d4-9530717ebb30",
   "metadata": {},
   "outputs": [
    {
     "data": {
      "text/plain": [
       "res5: Array[org.apache.spark.sql.Row] = Array([null,null,null], [null,null,null], [null,null,null], [null,null,null], [null,null,null], [null,null,null], [null,null,null], [null,null,null], [null,null,null], [null,null,null])\n"
      ]
     },
     "execution_count": 13,
     "metadata": {},
     "output_type": "execute_result"
    }
   ],
   "source": [
    "delMultipleIcedTable.select(\"year\",\"fall\",\"nametype\").tail(10)"
   ]
  },
  {
   "cell_type": "code",
   "execution_count": 14,
   "id": "9bcec604-4bf7-4c8c-b486-f971050f4e1a",
   "metadata": {},
   "outputs": [
    {
     "name": "stdout",
     "output_type": "stream",
     "text": [
      "+----+----+--------+\n",
      "|year|fall|nametype|\n",
      "+----+----+--------+\n",
      "|NULL|NULL|    NULL|\n",
      "|NULL|NULL|    NULL|\n",
      "|NULL|NULL|    NULL|\n",
      "|NULL|NULL|    NULL|\n",
      "|NULL|NULL|    NULL|\n",
      "|NULL|NULL|    NULL|\n",
      "|NULL|NULL|    NULL|\n",
      "|NULL|NULL|    NULL|\n",
      "|NULL|NULL|    NULL|\n",
      "|NULL|NULL|    NULL|\n",
      "|NULL|NULL|    NULL|\n",
      "|NULL|NULL|    NULL|\n",
      "|NULL|NULL|    NULL|\n",
      "|NULL|NULL|    NULL|\n",
      "|NULL|NULL|    NULL|\n",
      "|NULL|NULL|    NULL|\n",
      "|NULL|NULL|    NULL|\n",
      "|NULL|NULL|    NULL|\n",
      "|NULL|NULL|    NULL|\n",
      "|NULL|NULL|    NULL|\n",
      "+----+----+--------+\n",
      "only showing top 20 rows\n",
      "\n"
     ]
    }
   ],
   "source": [
    "delMultipleIcedTable.select(\"year\",\"fall\",\"nametype\").filter(\"fall is null\").show()"
   ]
  },
  {
   "cell_type": "code",
   "execution_count": 15,
   "id": "b7109be9-9f8f-4e3f-afbb-5abc5c3ac494",
   "metadata": {},
   "outputs": [
    {
     "data": {
      "text/plain": [
       "res7: Long = 45717\n"
      ]
     },
     "execution_count": 15,
     "metadata": {},
     "output_type": "execute_result"
    }
   ],
   "source": [
    "delMultipleIcedTable.select(\"year\",\"fall\",\"nametype\").filter(\"fall is null\").count()"
   ]
  }
 ],
 "metadata": {
  "kernelspec": {
   "display_name": "spylon-kernel",
   "language": "scala",
   "name": "spylon-kernel"
  },
  "language_info": {
   "codemirror_mode": "text/x-scala",
   "file_extension": ".scala",
   "help_links": [
    {
     "text": "MetaKernel Magics",
     "url": "https://metakernel.readthedocs.io/en/latest/source/README.html"
    }
   ],
   "mimetype": "text/x-scala",
   "name": "scala",
   "pygments_lexer": "scala",
   "version": "0.4.1"
  }
 },
 "nbformat": 4,
 "nbformat_minor": 5
}
