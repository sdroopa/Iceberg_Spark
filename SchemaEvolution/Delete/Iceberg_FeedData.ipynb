{
 "cells": [
  {
   "cell_type": "markdown",
   "id": "bdc48d35-9b9c-4596-b87c-189edce771fd",
   "metadata": {},
   "source": [
    "##### ICEBERG - SCHEMA EVOLUTION\n",
    "##### Objective: Feed the original data to test the schema evolution by deleting the data of different data types\n",
    "##### Dataset format: This nested JSON dataset is about meteorite landing which is downloaded from the public source mentioned below\n",
    "##### Dataset Source: https://catalog.data.gov/dataset/"
   ]
  },
  {
   "cell_type": "code",
   "execution_count": 1,
   "id": "d217b6da-bf28-4a79-971e-958c53aa0230",
   "metadata": {},
   "outputs": [
    {
     "data": {
      "text/plain": [
       "Intitializing Scala interpreter ..."
      ]
     },
     "metadata": {},
     "output_type": "display_data"
    },
    {
     "data": {
      "text/plain": [
       "Spark Web UI available at http://bc18817f1332:4042\n",
       "SparkContext available as 'sc' (version = 3.5.1, master = local[*], app id = local-1720749439688)\n",
       "SparkSession available as 'spark'\n"
      ]
     },
     "metadata": {},
     "output_type": "display_data"
    },
    {
     "data": {
      "text/plain": [
       "res0: org.apache.spark.sql.DataFrame = []\n"
      ]
     },
     "execution_count": 1,
     "metadata": {},
     "output_type": "execute_result"
    }
   ],
   "source": [
    "spark.sql(\"DROP TABLE IF EXISTS icedsparkcatalog.mydb.meteorites\")"
   ]
  },
  {
   "cell_type": "markdown",
   "id": "297208f6-3d35-4615-b8e3-4ffd099e4ad0",
   "metadata": {},
   "source": [
    "##### 1.1 Configure Spark Iceberg Runtime package and other settings"
   ]
  },
  {
   "cell_type": "code",
   "execution_count": 2,
   "id": "7e2e0b4e-51bc-4cf0-9dff-af84df075ce0",
   "metadata": {},
   "outputs": [],
   "source": [
    "spark.conf.set(\"spark.sql.catalog.icedsparkcatalog.type\", \"Hadoop\")"
   ]
  },
  {
   "cell_type": "code",
   "execution_count": 3,
   "id": "6bb976d5-0b25-4a6b-b64f-c1dbe3f742f6",
   "metadata": {},
   "outputs": [
    {
     "ename": "org.apache.spark.sql.AnalysisException",
     "evalue": " Cannot modify the value of a static config: spark.sql.extensions.",
     "output_type": "error",
     "traceback": [
      "org.apache.spark.sql.AnalysisException: Cannot modify the value of a static config: spark.sql.extensions.",
      "  at org.apache.spark.sql.errors.QueryCompilationErrors$.cannotModifyValueOfStaticConfigError(QueryCompilationErrors.scala:3179)",
      "  at org.apache.spark.sql.RuntimeConfig.requireNonStaticConf(RuntimeConfig.scala:162)",
      "  at org.apache.spark.sql.RuntimeConfig.set(RuntimeConfig.scala:42)",
      "  ... 38 elided",
      ""
     ]
    }
   ],
   "source": [
    "spark.conf.set(\"spark-sql.packages\", \"org.apache.iceberg:iceberg-spark-runtime-3.5_2.12:1.5.2\")\n",
    "spark.conf.set(\"spark.sql.extensions\", \"org.apache.iceberg.spark.extensions.IcebergSparkSessionExtensions\")\n",
    "spark.conf.set(\"spark.sql.catalog.icedsparkcatalog\", \"org.apache.iceberg.spark.SparkSessionCatalog\")"
   ]
  },
  {
   "cell_type": "markdown",
   "id": "6928c58d-e221-4d2b-849a-e95442f81720",
   "metadata": {},
   "source": [
    "##### packages that need to be downloaded and used during the Spark session.\n",
    "###### spark.conf.set(\"spark-sql.packages\", \"org.apache.iceberg:iceberg-spark-runtime-3.5_2.12:1.5.2\")\n",
    "\n",
    "##### This specifies any extensions to SQL that should be present in the Spark session\n",
    "###### spark.conf.set(\"spark.sql.extensions\", \"org.apache.iceberg.spark.extensions.IcebergSparkSessionExtensions\")\n",
    "\n",
    "##### The settings below are to configure your specific catalog, which can be under a namespace of your choosing eg: here it is spark_catalog\n",
    "##### This specifies that this specific catalog is using the Apache Iceberg Spark Catalog class.\n",
    "###### spark.conf.set(\"spark.sql.catalog.mycatalog\", \"org.apache.iceberg.spark.SparkSessionCatalog\")\n",
    "\n",
    "##### This setting is used to set the type of catalog you are using, and possible values include:Hadoop (if using HDFS/File System Catalog), Hive\n",
    "###### spark.conf.set(\"spark.sql.catalog.mycatalog.type\", \"Hadoop\")"
   ]
  },
  {
   "cell_type": "markdown",
   "id": "885bc0ab-14f6-4668-8f08-f9b6b4171c6f",
   "metadata": {},
   "source": [
    "##### 2.0 Read the nested json dataset and verify its schema"
   ]
  },
  {
   "cell_type": "code",
   "execution_count": 4,
   "id": "f3d14f5f-ae07-46db-91e4-7341e37ca3fe",
   "metadata": {},
   "outputs": [
    {
     "data": {
      "text/plain": [
       "jsonDF: org.apache.spark.sql.DataFrame = [data: array<array<string>>, meta: struct<view: struct<approvals: array<struct<reviewedAt:bigint,reviewedAutomatically:boolean,state:string,submissionDetails:struct<permissionType:string>,submissionId:bigint,submissionObject:string,submissionOutcome:string,submissionOutcomeApplication:struct<failureCount:bigint,status:string>,submittedAt:bigint,submitter:struct<displayName:string,id:string>,targetAudience:string,workflowId:bigint>>, assetType: string ... 38 more fields>>]\n"
      ]
     },
     "execution_count": 4,
     "metadata": {},
     "output_type": "execute_result"
    }
   ],
   "source": [
    "val jsonDF =  spark.read.option(\"multiline\", \"true\").json(\"./Data/Json/meteorite_landing.json\")"
   ]
  },
  {
   "cell_type": "code",
   "execution_count": 5,
   "id": "b9320a79-8a8d-4fdb-9255-b34332915659",
   "metadata": {},
   "outputs": [
    {
     "name": "stdout",
     "output_type": "stream",
     "text": [
      "root\n",
      " |-- data: array (nullable = true)\n",
      " |    |-- element: array (containsNull = true)\n",
      " |    |    |-- element: string (containsNull = true)\n",
      " |-- meta: struct (nullable = true)\n",
      " |    |-- view: struct (nullable = true)\n",
      " |    |    |-- approvals: array (nullable = true)\n",
      " |    |    |    |-- element: struct (containsNull = true)\n",
      " |    |    |    |    |-- reviewedAt: long (nullable = true)\n",
      " |    |    |    |    |-- reviewedAutomatically: boolean (nullable = true)\n",
      " |    |    |    |    |-- state: string (nullable = true)\n",
      " |    |    |    |    |-- submissionDetails: struct (nullable = true)\n",
      " |    |    |    |    |    |-- permissionType: string (nullable = true)\n",
      " |    |    |    |    |-- submissionId: long (nullable = true)\n",
      " |    |    |    |    |-- submissionObject: string (nullable = true)\n",
      " |    |    |    |    |-- submissionOutcome: string (nullable = true)\n",
      " |    |    |    |    |-- submissionOutcomeApplication: struct (nullable = true)\n",
      " |    |    |    |    |    |-- failureCount: long (nullable = true)\n",
      " |    |    |    |    |    |-- status: string (nullable = true)\n",
      " |    |    |    |    |-- submittedAt: long (nullable = true)\n",
      " |    |    |    |    |-- submitter: struct (nullable = true)\n",
      " |    |    |    |    |    |-- displayName: string (nullable = true)\n",
      " |    |    |    |    |    |-- id: string (nullable = true)\n",
      " |    |    |    |    |-- targetAudience: string (nullable = true)\n",
      " |    |    |    |    |-- workflowId: long (nullable = true)\n",
      " |    |    |-- assetType: string (nullable = true)\n",
      " |    |    |-- attributionLink: string (nullable = true)\n",
      " |    |    |-- averageRating: long (nullable = true)\n",
      " |    |    |-- category: string (nullable = true)\n",
      " |    |    |-- clientContext: struct (nullable = true)\n",
      " |    |    |    |-- clientContextVariables: array (nullable = true)\n",
      " |    |    |    |    |-- element: string (containsNull = true)\n",
      " |    |    |-- columns: array (nullable = true)\n",
      " |    |    |    |-- element: struct (containsNull = true)\n",
      " |    |    |    |    |-- cachedContents: struct (nullable = true)\n",
      " |    |    |    |    |    |-- average: string (nullable = true)\n",
      " |    |    |    |    |    |-- cardinality: string (nullable = true)\n",
      " |    |    |    |    |    |-- count: string (nullable = true)\n",
      " |    |    |    |    |    |-- largest: string (nullable = true)\n",
      " |    |    |    |    |    |-- non_null: string (nullable = true)\n",
      " |    |    |    |    |    |-- null: string (nullable = true)\n",
      " |    |    |    |    |    |-- smallest: string (nullable = true)\n",
      " |    |    |    |    |    |-- sum: string (nullable = true)\n",
      " |    |    |    |    |    |-- top: array (nullable = true)\n",
      " |    |    |    |    |    |    |-- element: struct (containsNull = true)\n",
      " |    |    |    |    |    |    |    |-- count: string (nullable = true)\n",
      " |    |    |    |    |    |    |    |-- item: string (nullable = true)\n",
      " |    |    |    |    |-- computationStrategy: struct (nullable = true)\n",
      " |    |    |    |    |    |-- parameters: struct (nullable = true)\n",
      " |    |    |    |    |    |    |-- primary_key: string (nullable = true)\n",
      " |    |    |    |    |    |    |-- region: string (nullable = true)\n",
      " |    |    |    |    |    |-- source_columns: array (nullable = true)\n",
      " |    |    |    |    |    |    |-- element: string (containsNull = true)\n",
      " |    |    |    |    |    |-- type: string (nullable = true)\n",
      " |    |    |    |    |-- dataTypeName: string (nullable = true)\n",
      " |    |    |    |    |-- description: string (nullable = true)\n",
      " |    |    |    |    |-- fieldName: string (nullable = true)\n",
      " |    |    |    |    |-- flags: array (nullable = true)\n",
      " |    |    |    |    |    |-- element: string (containsNull = true)\n",
      " |    |    |    |    |-- format: struct (nullable = true)\n",
      " |    |    |    |    |    |-- align: string (nullable = true)\n",
      " |    |    |    |    |    |-- noCommas: string (nullable = true)\n",
      " |    |    |    |    |    |-- precisionStyle: string (nullable = true)\n",
      " |    |    |    |    |    |-- view: string (nullable = true)\n",
      " |    |    |    |    |-- id: long (nullable = true)\n",
      " |    |    |    |    |-- name: string (nullable = true)\n",
      " |    |    |    |    |-- position: long (nullable = true)\n",
      " |    |    |    |    |-- renderTypeName: string (nullable = true)\n",
      " |    |    |    |    |-- tableColumnId: long (nullable = true)\n",
      " |    |    |    |    |-- width: long (nullable = true)\n",
      " |    |    |-- createdAt: long (nullable = true)\n",
      " |    |    |-- description: string (nullable = true)\n",
      " |    |    |-- displayType: string (nullable = true)\n",
      " |    |    |-- downloadCount: long (nullable = true)\n",
      " |    |    |-- flags: array (nullable = true)\n",
      " |    |    |    |-- element: string (containsNull = true)\n",
      " |    |    |-- grants: array (nullable = true)\n",
      " |    |    |    |-- element: struct (containsNull = true)\n",
      " |    |    |    |    |-- flags: array (nullable = true)\n",
      " |    |    |    |    |    |-- element: string (containsNull = true)\n",
      " |    |    |    |    |-- inherited: boolean (nullable = true)\n",
      " |    |    |    |    |-- type: string (nullable = true)\n",
      " |    |    |-- hideFromCatalog: boolean (nullable = true)\n",
      " |    |    |-- hideFromDataJson: boolean (nullable = true)\n",
      " |    |    |-- id: string (nullable = true)\n",
      " |    |    |-- indexUpdatedAt: long (nullable = true)\n",
      " |    |    |-- locked: boolean (nullable = true)\n",
      " |    |    |-- metadata: struct (nullable = true)\n",
      " |    |    |    |-- custom_fields: struct (nullable = true)\n",
      " |    |    |    |    |-- Common Core: struct (nullable = true)\n",
      " |    |    |    |    |    |-- Bureau Code: array (nullable = true)\n",
      " |    |    |    |    |    |    |-- element: string (containsNull = true)\n",
      " |    |    |    |    |    |-- Program Code: string (nullable = true)\n",
      " |    |    |    |-- rdfClass: string (nullable = true)\n",
      " |    |    |    |-- rdfSubject: string (nullable = true)\n",
      " |    |    |    |-- rowIdentifier: string (nullable = true)\n",
      " |    |    |    |-- rowLabel: string (nullable = true)\n",
      " |    |    |-- name: string (nullable = true)\n",
      " |    |    |-- newBackend: boolean (nullable = true)\n",
      " |    |    |-- numberOfComments: long (nullable = true)\n",
      " |    |    |-- oid: long (nullable = true)\n",
      " |    |    |-- owner: struct (nullable = true)\n",
      " |    |    |    |-- displayName: string (nullable = true)\n",
      " |    |    |    |-- flags: array (nullable = true)\n",
      " |    |    |    |    |-- element: string (containsNull = true)\n",
      " |    |    |    |-- id: string (nullable = true)\n",
      " |    |    |    |-- profileImageUrlLarge: string (nullable = true)\n",
      " |    |    |    |-- profileImageUrlMedium: string (nullable = true)\n",
      " |    |    |    |-- profileImageUrlSmall: string (nullable = true)\n",
      " |    |    |    |-- screenName: string (nullable = true)\n",
      " |    |    |    |-- type: string (nullable = true)\n",
      " |    |    |-- provenance: string (nullable = true)\n",
      " |    |    |-- publicationAppendEnabled: boolean (nullable = true)\n",
      " |    |    |-- publicationDate: long (nullable = true)\n",
      " |    |    |-- publicationGroup: long (nullable = true)\n",
      " |    |    |-- publicationStage: string (nullable = true)\n",
      " |    |    |-- rights: array (nullable = true)\n",
      " |    |    |    |-- element: string (containsNull = true)\n",
      " |    |    |-- rowClass: string (nullable = true)\n",
      " |    |    |-- rowsUpdatedAt: long (nullable = true)\n",
      " |    |    |-- rowsUpdatedBy: string (nullable = true)\n",
      " |    |    |-- tableAuthor: struct (nullable = true)\n",
      " |    |    |    |-- displayName: string (nullable = true)\n",
      " |    |    |    |-- flags: array (nullable = true)\n",
      " |    |    |    |    |-- element: string (containsNull = true)\n",
      " |    |    |    |-- id: string (nullable = true)\n",
      " |    |    |    |-- profileImageUrlLarge: string (nullable = true)\n",
      " |    |    |    |-- profileImageUrlMedium: string (nullable = true)\n",
      " |    |    |    |-- profileImageUrlSmall: string (nullable = true)\n",
      " |    |    |    |-- screenName: string (nullable = true)\n",
      " |    |    |    |-- type: string (nullable = true)\n",
      " |    |    |-- tableId: long (nullable = true)\n",
      " |    |    |-- tags: array (nullable = true)\n",
      " |    |    |    |-- element: string (containsNull = true)\n",
      " |    |    |-- totalTimesRated: long (nullable = true)\n",
      " |    |    |-- viewCount: long (nullable = true)\n",
      " |    |    |-- viewLastModified: long (nullable = true)\n",
      " |    |    |-- viewType: string (nullable = true)\n",
      "\n"
     ]
    }
   ],
   "source": [
    "jsonDF.printSchema"
   ]
  },
  {
   "cell_type": "markdown",
   "id": "98a2d49c-7aea-4122-9119-e58e6290fc82",
   "metadata": {},
   "source": [
    "##### source: https://stackoverflow.com/questions/61863489/flatten-nested-json-in-scala-spark-dataframe/61863579#61863579\n",
    "##### 2.1 The dynamic code in scala is referred from the above source where it explodes the nested JSON into individual columns, since all of these are not arrays we cannot use the explode function and also it will make it more cumbersome to process individual columns. The below code dynamically splits arrays, and structs type into individual columns keeping its hierarchy intact, For eg if c is the nested child of b which is a child of an i.e. a.b.c, the code will split it as an a_b_c column. This will also prevent duplicating columns in case nested JSON has the same property name because its specific hierarchy will be attached to its name now."
   ]
  },
  {
   "cell_type": "code",
   "execution_count": 6,
   "id": "24830e28-8d1b-4e0e-bdcf-a25011b69b40",
   "metadata": {},
   "outputs": [
    {
     "data": {
      "text/plain": [
       "import org.apache.spark.sql.{DataFrame, SparkSession}\n",
       "import org.apache.spark.sql.functions._\n",
       "import org.apache.spark.sql.types._\n",
       "import scala.annotation.tailrec\n",
       "import scala.util.Try\n",
       "defined class DFHelpers\n"
      ]
     },
     "execution_count": 6,
     "metadata": {},
     "output_type": "execute_result"
    }
   ],
   "source": [
    "import org.apache.spark.sql.{DataFrame, SparkSession}\n",
    "import org.apache.spark.sql.functions._\n",
    "import org.apache.spark.sql.types._\n",
    "import scala.annotation.tailrec\n",
    "import scala.util.Try\n",
    "\n",
    "implicit class DFHelpers(df: DataFrame) {\n",
    "    def columns = {\n",
    "      val dfColumns = df.columns.map(_.toLowerCase)\n",
    "      df.schema.fields.flatMap { data =>\n",
    "        data match {\n",
    "          case column if column.dataType.isInstanceOf[StructType] => {\n",
    "            column.dataType.asInstanceOf[StructType].fields.map { field =>\n",
    "              val columnName = column.name\n",
    "              val fieldName = field.name\n",
    "              col(s\"${columnName}.${fieldName}\").as(s\"${columnName}_${fieldName}\")\n",
    "            }.toList\n",
    "          }\n",
    "          case column => List(col(s\"${column.name}\"))\n",
    "        }\n",
    "      }\n",
    "    }\n",
    "\n",
    "    def flatten: DataFrame = {\n",
    "      val empty = df.schema.filter(_.dataType.isInstanceOf[StructType]).isEmpty\n",
    "      empty match {\n",
    "        case false =>\n",
    "          df.select(columns: _*).flatten\n",
    "        case _ => df\n",
    "      }\n",
    "    }\n",
    "    def explodeColumns = {\n",
    "      @tailrec\n",
    "      def columns(cdf: DataFrame):DataFrame = cdf.schema.fields.filter(_.dataType.typeName == \"array\") match {\n",
    "        case c if !c.isEmpty => columns(c.foldLeft(cdf)((dfa,field) => {\n",
    "          dfa.withColumn(field.name,explode_outer(col(s\"${field.name}\"))).flatten\n",
    "        }))\n",
    "        case _ => cdf\n",
    "      }\n",
    "      columns(df.flatten)\n",
    "    }\n",
    "}\n",
    "\n"
   ]
  },
  {
   "cell_type": "markdown",
   "id": "651e505c-3c7e-481d-b11d-138186ca18c3",
   "metadata": {},
   "source": [
    "##### 2.2 Call the above function with the dataframe variable"
   ]
  },
  {
   "cell_type": "code",
   "execution_count": 7,
   "id": "8197fc02-4c7e-49d7-8fc1-da458dabf717",
   "metadata": {},
   "outputs": [
    {
     "data": {
      "text/plain": [
       "flattenedJsonDF: org.apache.spark.sql.DataFrame = [data: string, meta_view_approvals_reviewedAt: bigint ... 100 more fields]\n"
      ]
     },
     "execution_count": 7,
     "metadata": {},
     "output_type": "execute_result"
    }
   ],
   "source": [
    "val flattenedJsonDF = jsonDF.explodeColumns"
   ]
  },
  {
   "cell_type": "markdown",
   "id": "67b2c2fd-1278-4efd-8fd9-e2817ea5541f",
   "metadata": {},
   "source": [
    "##### 2.3 Verifying the schema after the function is run. It maintained the hierarchy by separating the names with underscore symbole ('-') between each data column. This will also prevent duplicating columns in case nested json has the same property name because its specific hierarchy will be attached to its name now.\n",
    "##### For eg: the property 'flags' are now prefixed with its hierarchy meta_view_flags, meta_view_owner_flags, meta_view_columns_flags"
   ]
  },
  {
   "cell_type": "code",
   "execution_count": 8,
   "id": "f7d2868e-2488-4481-bc62-9c7e1afe63c1",
   "metadata": {},
   "outputs": [
    {
     "name": "stdout",
     "output_type": "stream",
     "text": [
      "root\n",
      " |-- data: string (nullable = true)\n",
      " |-- meta_view_approvals_reviewedAt: long (nullable = true)\n",
      " |-- meta_view_approvals_reviewedAutomatically: boolean (nullable = true)\n",
      " |-- meta_view_approvals_state: string (nullable = true)\n",
      " |-- meta_view_approvals_submissionDetails_permissionType: string (nullable = true)\n",
      " |-- meta_view_approvals_submissionId: long (nullable = true)\n",
      " |-- meta_view_approvals_submissionObject: string (nullable = true)\n",
      " |-- meta_view_approvals_submissionOutcome: string (nullable = true)\n",
      " |-- meta_view_approvals_submissionOutcomeApplication_failureCount: long (nullable = true)\n",
      " |-- meta_view_approvals_submissionOutcomeApplication_status: string (nullable = true)\n",
      " |-- meta_view_approvals_submittedAt: long (nullable = true)\n",
      " |-- meta_view_approvals_submitter_displayName: string (nullable = true)\n",
      " |-- meta_view_approvals_submitter_id: string (nullable = true)\n",
      " |-- meta_view_approvals_targetAudience: string (nullable = true)\n",
      " |-- meta_view_approvals_workflowId: long (nullable = true)\n",
      " |-- meta_view_assetType: string (nullable = true)\n",
      " |-- meta_view_attributionLink: string (nullable = true)\n",
      " |-- meta_view_averageRating: long (nullable = true)\n",
      " |-- meta_view_category: string (nullable = true)\n",
      " |-- meta_view_clientContext_clientContextVariables: string (nullable = true)\n",
      " |-- meta_view_columns_cachedContents_average: string (nullable = true)\n",
      " |-- meta_view_columns_cachedContents_cardinality: string (nullable = true)\n",
      " |-- meta_view_columns_cachedContents_count: string (nullable = true)\n",
      " |-- meta_view_columns_cachedContents_largest: string (nullable = true)\n",
      " |-- meta_view_columns_cachedContents_non_null: string (nullable = true)\n",
      " |-- meta_view_columns_cachedContents_null: string (nullable = true)\n",
      " |-- meta_view_columns_cachedContents_smallest: string (nullable = true)\n",
      " |-- meta_view_columns_cachedContents_sum: string (nullable = true)\n",
      " |-- meta_view_columns_cachedContents_top_count: string (nullable = true)\n",
      " |-- meta_view_columns_cachedContents_top_item: string (nullable = true)\n",
      " |-- meta_view_columns_computationStrategy_parameters_primary_key: string (nullable = true)\n",
      " |-- meta_view_columns_computationStrategy_parameters_region: string (nullable = true)\n",
      " |-- meta_view_columns_computationStrategy_source_columns: string (nullable = true)\n",
      " |-- meta_view_columns_computationStrategy_type: string (nullable = true)\n",
      " |-- meta_view_columns_dataTypeName: string (nullable = true)\n",
      " |-- meta_view_columns_description: string (nullable = true)\n",
      " |-- meta_view_columns_fieldName: string (nullable = true)\n",
      " |-- meta_view_columns_flags: string (nullable = true)\n",
      " |-- meta_view_columns_format_align: string (nullable = true)\n",
      " |-- meta_view_columns_format_noCommas: string (nullable = true)\n",
      " |-- meta_view_columns_format_precisionStyle: string (nullable = true)\n",
      " |-- meta_view_columns_format_view: string (nullable = true)\n",
      " |-- meta_view_columns_id: long (nullable = true)\n",
      " |-- meta_view_columns_name: string (nullable = true)\n",
      " |-- meta_view_columns_position: long (nullable = true)\n",
      " |-- meta_view_columns_renderTypeName: string (nullable = true)\n",
      " |-- meta_view_columns_tableColumnId: long (nullable = true)\n",
      " |-- meta_view_columns_width: long (nullable = true)\n",
      " |-- meta_view_createdAt: long (nullable = true)\n",
      " |-- meta_view_description: string (nullable = true)\n",
      " |-- meta_view_displayType: string (nullable = true)\n",
      " |-- meta_view_downloadCount: long (nullable = true)\n",
      " |-- meta_view_flags: string (nullable = true)\n",
      " |-- meta_view_grants_flags: string (nullable = true)\n",
      " |-- meta_view_grants_inherited: boolean (nullable = true)\n",
      " |-- meta_view_grants_type: string (nullable = true)\n",
      " |-- meta_view_hideFromCatalog: boolean (nullable = true)\n",
      " |-- meta_view_hideFromDataJson: boolean (nullable = true)\n",
      " |-- meta_view_id: string (nullable = true)\n",
      " |-- meta_view_indexUpdatedAt: long (nullable = true)\n",
      " |-- meta_view_locked: boolean (nullable = true)\n",
      " |-- meta_view_metadata_custom_fields_Common Core_Bureau Code: string (nullable = true)\n",
      " |-- meta_view_metadata_custom_fields_Common Core_Program Code: string (nullable = true)\n",
      " |-- meta_view_metadata_rdfClass: string (nullable = true)\n",
      " |-- meta_view_metadata_rdfSubject: string (nullable = true)\n",
      " |-- meta_view_metadata_rowIdentifier: string (nullable = true)\n",
      " |-- meta_view_metadata_rowLabel: string (nullable = true)\n",
      " |-- meta_view_name: string (nullable = true)\n",
      " |-- meta_view_newBackend: boolean (nullable = true)\n",
      " |-- meta_view_numberOfComments: long (nullable = true)\n",
      " |-- meta_view_oid: long (nullable = true)\n",
      " |-- meta_view_owner_displayName: string (nullable = true)\n",
      " |-- meta_view_owner_flags: string (nullable = true)\n",
      " |-- meta_view_owner_id: string (nullable = true)\n",
      " |-- meta_view_owner_profileImageUrlLarge: string (nullable = true)\n",
      " |-- meta_view_owner_profileImageUrlMedium: string (nullable = true)\n",
      " |-- meta_view_owner_profileImageUrlSmall: string (nullable = true)\n",
      " |-- meta_view_owner_screenName: string (nullable = true)\n",
      " |-- meta_view_owner_type: string (nullable = true)\n",
      " |-- meta_view_provenance: string (nullable = true)\n",
      " |-- meta_view_publicationAppendEnabled: boolean (nullable = true)\n",
      " |-- meta_view_publicationDate: long (nullable = true)\n",
      " |-- meta_view_publicationGroup: long (nullable = true)\n",
      " |-- meta_view_publicationStage: string (nullable = true)\n",
      " |-- meta_view_rights: string (nullable = true)\n",
      " |-- meta_view_rowClass: string (nullable = true)\n",
      " |-- meta_view_rowsUpdatedAt: long (nullable = true)\n",
      " |-- meta_view_rowsUpdatedBy: string (nullable = true)\n",
      " |-- meta_view_tableAuthor_displayName: string (nullable = true)\n",
      " |-- meta_view_tableAuthor_flags: string (nullable = true)\n",
      " |-- meta_view_tableAuthor_id: string (nullable = true)\n",
      " |-- meta_view_tableAuthor_profileImageUrlLarge: string (nullable = true)\n",
      " |-- meta_view_tableAuthor_profileImageUrlMedium: string (nullable = true)\n",
      " |-- meta_view_tableAuthor_profileImageUrlSmall: string (nullable = true)\n",
      " |-- meta_view_tableAuthor_screenName: string (nullable = true)\n",
      " |-- meta_view_tableAuthor_type: string (nullable = true)\n",
      " |-- meta_view_tableId: long (nullable = true)\n",
      " |-- meta_view_tags: string (nullable = true)\n",
      " |-- meta_view_totalTimesRated: long (nullable = true)\n",
      " |-- meta_view_viewCount: long (nullable = true)\n",
      " |-- meta_view_viewLastModified: long (nullable = true)\n",
      " |-- meta_view_viewType: string (nullable = true)\n",
      "\n"
     ]
    }
   ],
   "source": [
    "flattenedJsonDF.printSchema"
   ]
  },
  {
   "cell_type": "markdown",
   "id": "19393a03-ff88-46e5-8448-02ce5215fe66",
   "metadata": {},
   "source": [
    "##### 3. Finally :-), the core step, create an iceberg table and write the json data to it. \n",
    "##### Once the catalog is created, for the next writes use append to add to an existing table, create for new , replace to overwrite, or use both createOrReplace for the safer side if one wants to replace and create a new table if it already exists to "
   ]
  },
  {
   "cell_type": "code",
   "execution_count": 9,
   "id": "c0e6a8c8-b884-4883-9a8f-e77cff6d05b6",
   "metadata": {},
   "outputs": [
    {
     "data": {
      "text/plain": [
       "icedTable: Unit = ()\n"
      ]
     },
     "execution_count": 9,
     "metadata": {},
     "output_type": "execute_result"
    }
   ],
   "source": [
    "val icedTable = flattenedJsonDF.writeTo(\"icedsparkcatalog.mydb.meteorites\").using(\"iceberg\").createOrReplace()"
   ]
  },
  {
   "cell_type": "markdown",
   "id": "e6235ca2-84f2-42c7-8162-bb857de75b4f",
   "metadata": {},
   "source": [
    "##### 3.1 Verify if the table is created using iceberg format"
   ]
  },
  {
   "cell_type": "code",
   "execution_count": 10,
   "id": "b2aa38b0-21ba-418c-8a4d-75cfd4f00c61",
   "metadata": {},
   "outputs": [
    {
     "data": {
      "text/plain": [
       "meteorTable: org.apache.spark.sql.DataFrame = [data: string, meta_view_approvals_reviewedAt: bigint ... 100 more fields]\n"
      ]
     },
     "execution_count": 10,
     "metadata": {},
     "output_type": "execute_result"
    }
   ],
   "source": [
    "val meteorTable = spark.read.format(\"iceberg\").load(\"icedsparkcatalog.mydb.meteorites\")"
   ]
  },
  {
   "cell_type": "markdown",
   "id": "504b3548-e5e2-4b58-9438-48f78ade5a40",
   "metadata": {},
   "source": [
    "##### 3.2 Display result"
   ]
  },
  {
   "cell_type": "markdown",
   "id": "ad9cd832-e09e-44fb-9f5e-3103016fc194",
   "metadata": {},
   "source": [
    "##### 3.3 Check the count to test later when we append the data again"
   ]
  },
  {
   "cell_type": "code",
   "execution_count": 11,
   "id": "a60af0ae-efef-42ce-a4f0-97c41b7c5fdd",
   "metadata": {},
   "outputs": [
    {
     "data": {
      "text/plain": [
       "res5: Long = 542500\n"
      ]
     },
     "execution_count": 11,
     "metadata": {},
     "output_type": "execute_result"
    }
   ],
   "source": [
    "meteorTable.count()"
   ]
  },
  {
   "cell_type": "markdown",
   "id": "44a1e490-b09d-4fbf-bbdd-db475afc329c",
   "metadata": {},
   "source": [
    "##### 3.4 Check the count of columns to test the columsn size post delete step executions"
   ]
  },
  {
   "cell_type": "code",
   "execution_count": 12,
   "id": "8fdf046e-5cd2-44c9-8747-fb33194d278f",
   "metadata": {},
   "outputs": [
    {
     "data": {
      "text/plain": [
       "res6: Int = 102\n"
      ]
     },
     "execution_count": 12,
     "metadata": {},
     "output_type": "execute_result"
    }
   ],
   "source": [
    "meteorTable.columns.length"
   ]
  }
 ],
 "metadata": {
  "kernelspec": {
   "display_name": "spylon-kernel",
   "language": "scala",
   "name": "spylon-kernel"
  },
  "language_info": {
   "codemirror_mode": "text/x-scala",
   "file_extension": ".scala",
   "help_links": [
    {
     "text": "MetaKernel Magics",
     "url": "https://metakernel.readthedocs.io/en/latest/source/README.html"
    }
   ],
   "mimetype": "text/x-scala",
   "name": "scala",
   "pygments_lexer": "scala",
   "version": "0.4.1"
  }
 },
 "nbformat": 4,
 "nbformat_minor": 5
}
